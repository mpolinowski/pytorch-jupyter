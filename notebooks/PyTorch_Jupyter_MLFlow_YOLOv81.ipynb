{
 "cells": [
  {
   "cell_type": "markdown",
   "id": "1f515942-19b7-4b3c-873d-35fc1a26d6dc",
   "metadata": {},
   "source": [
    "# YOLOv8.1"
   ]
  },
  {
   "cell_type": "markdown",
   "id": "25084b1e-ede4-4a2c-9d71-e37478e2fcab",
   "metadata": {},
   "source": [
    "## Test Cuda"
   ]
  },
  {
   "cell_type": "code",
   "execution_count": 1,
   "id": "446ce10c-5251-4e25-b61b-8e10c7335d22",
   "metadata": {},
   "outputs": [],
   "source": [
    "import torch"
   ]
  },
  {
   "cell_type": "code",
   "execution_count": 2,
   "id": "3ffacd44-d521-4b8e-999a-58e23a64fca9",
   "metadata": {},
   "outputs": [
    {
     "data": {
      "text/plain": [
       "'NVIDIA GeForce GTX 1060 6GB'"
      ]
     },
     "execution_count": 2,
     "metadata": {},
     "output_type": "execute_result"
    }
   ],
   "source": [
    "torch.cuda.get_device_name()"
   ]
  },
  {
   "cell_type": "code",
   "execution_count": 3,
   "id": "c4b7aa30-1a97-4b93-a999-53bff8966ddc",
   "metadata": {},
   "outputs": [
    {
     "data": {
      "text/plain": [
       "1"
      ]
     },
     "execution_count": 3,
     "metadata": {},
     "output_type": "execute_result"
    }
   ],
   "source": [
    "torch.cuda.device_count()"
   ]
  },
  {
   "cell_type": "markdown",
   "id": "75a08f3c-8b49-45c2-a90a-d9dd6fee7e68",
   "metadata": {},
   "source": [
    "## Enable MLflow Logging\n",
    "\n",
    "<!-- https://docs.ultralytics.com/integrations/mlflow/#setup-and-prerequisites -->"
   ]
  },
  {
   "cell_type": "code",
   "execution_count": 4,
   "id": "9ec40dc7-58af-4979-a5f1-3fbe4c3d6b97",
   "metadata": {},
   "outputs": [
    {
     "name": "stderr",
     "output_type": "stream",
     "text": [
      "/opt/conda/lib/python3.10/site-packages/pydantic/_internal/_config.py:322: UserWarning: Valid config keys have changed in V2:\n",
      "* 'schema_extra' has been renamed to 'json_schema_extra'\n",
      "  warnings.warn(message, UserWarning)\n",
      "[2024-02-28 16:08:44 +0000] [75] [INFO] Starting gunicorn 21.2.0\n",
      "[2024-02-28 16:08:44 +0000] [75] [INFO] Listening at: http://0.0.0.0:5000 (75)\n",
      "[2024-02-28 16:08:44 +0000] [75] [INFO] Using worker: sync\n",
      "[2024-02-28 16:08:44 +0000] [76] [INFO] Booting worker with pid: 76\n",
      "[2024-02-28 16:08:44 +0000] [77] [INFO] Booting worker with pid: 77\n",
      "[2024-02-28 16:08:44 +0000] [78] [INFO] Booting worker with pid: 78\n",
      "[2024-02-28 16:08:44 +0000] [79] [INFO] Booting worker with pid: 79\n"
     ]
    }
   ],
   "source": [
    "get_ipython().system_raw(\"mlflow ui --port 5000 --host 0.0.0.0 --backend-store-uri runs/mlflow &\")\n",
    "# http://localhost:5000/"
   ]
  },
  {
   "cell_type": "markdown",
   "id": "7f7bf109-d46a-415c-9074-f130aa6b4aa7",
   "metadata": {},
   "source": [
    "## Model Tuning"
   ]
  },
  {
   "cell_type": "code",
   "execution_count": 5,
   "id": "30891f11-1a4e-4ae3-b139-bf17640a8bc8",
   "metadata": {},
   "outputs": [],
   "source": [
    "from ray import train, tune"
   ]
  },
  {
   "cell_type": "markdown",
   "id": "fb1d849b-0620-4bd9-96f7-6b0599aeda70",
   "metadata": {},
   "source": [
    "### tune() Method Parameters\n",
    "\n",
    "The `tune()` method in YOLOv8 provides an easy-to-use interface for hyperparameter tuning with [Ray Tune](https://docs.ray.io/en/latest/tune/index.html). It accepts several arguments that allow you to customize the tuning process. Below is a detailed explanation of each parameter:\n",
    "\n",
    "| Parameter | Type | Description | Default Value |\n",
    "|    --     |  --  |      --     |       --      |\n",
    "| `data` | str | The dataset configuration file (in YAML format) to run the tuner on. This file should specify the training and validation data paths, as well as other dataset-specific settings. |  |\n",
    "| `space` | dict, optional | A dictionary defining the hyperparameter search space for Ray Tune. Each key corresponds to a hyperparameter name, and the value specifies the range of values to explore during tuning. If not provided, YOLOv8 uses a default search space with various hyperparameters. |  |\n",
    "| `grace_period` | int, optional | The grace period in epochs for the ASHA scheduler in Ray Tune. The scheduler will not terminate any trial before this number of epochs, allowing the model to have some minimum training before making a decision on early stopping. | 10 |\n",
    "| `gpu_per_trial` | int, optional | The number of GPUs to allocate per trial during tuning. This helps manage GPU usage, particularly in multi-GPU environments. If not provided, the tuner will use all available GPUs. | None |\n",
    "| `iterations` | int, optional | The maximum number of trials to run during tuning. This parameter helps control the total number of hyperparameter combinations tested, ensuring the tuning process does not run indefinitely. | 10 |\n",
    "| `**train_args` | dict, optional | Additional arguments to pass to the train() method during tuning. These arguments can include settings like the number of training epochs, batch size, and other training-specific configurations. | {} |"
   ]
  },
  {
   "cell_type": "code",
   "execution_count": null,
   "id": "402d9963-b506-4282-bf33-f6049cb25720",
   "metadata": {},
   "outputs": [],
   "source": [
    "from ultralytics import YOLO\n",
    "\n",
    "# Load a YOLOv8n model\n",
    "model = YOLO('yolov8n.pt')\n",
    "\n",
    "# Start tuning hyperparameters for YOLOv8n training on the COCO8 dataset\n",
    "result_grid = model.tune(data='coco8.yaml', use_ray=True)"
   ]
  },
  {
   "cell_type": "markdown",
   "id": "216228e7-5acc-4549-ae77-326dbdcac407",
   "metadata": {},
   "source": [
    "### Default Search Space Description\n",
    "\n",
    "The following table lists the default search space parameters for hyperparameter tuning in YOLOv8 with Ray Tune. Each parameter has a specific value range defined by tune.uniform().\n",
    "\n",
    "| Parameter | Value Range | Description |\n",
    "|     --    |     --      |     --      |\n",
    "| `lr0` | tune.uniform(1e-5, 1e-1) | Initial learning rate |\n",
    "| `lrf` | tune.uniform(0.01, 1.0) | Final learning rate factor |\n",
    "| `momentum` | tune.uniform(0.6, 0.98) | Momentum |\n",
    "| `weight_decay` | tune.uniform(0.0, 0.001) | Weight decay |\n",
    "| `warmup_epochs` | tune.uniform(0.0, 5.0) | Warmup epochs |\n",
    "| `warmup_momentum` | tune.uniform(0.0, 0.95) | Warmup momentum |\n",
    "| `box` | tune.uniform(0.02, 0.2) | Box loss weight |\n",
    "| `cls` | tune.uniform(0.2, 4.0) | Class loss weight |\n",
    "| `hsv_h` | tune.uniform(0.0, 0.1) | Hue augmentation range |\n",
    "| `hsv_s` | tune.uniform(0.0, 0.9) | Saturation augmentation range |\n",
    "| `hsv_v` | tune.uniform(0.0, 0.9) | Value (brightness) augmentation range |\n",
    "| `degrees` | tune.uniform(0.0, 45.0) | Rotation augmentation range (degrees) |\n",
    "| `translate` | tune.uniform(0.0, 0.9) | Translation augmentation range |\n",
    "| `scale` | tune.uniform(0.0, 0.9) | Scaling augmentation range |\n",
    "| `shear` | tune.uniform(0.0, 10.0) | Shear augmentation range (degrees) |\n",
    "| `perspective` | tune.uniform(0.0, 0.001) | Perspective augmentation range |\n",
    "| `flipud` | tune.uniform(0.0, 1.0) | Vertical flip augmentation probability |\n",
    "| `fliplr` | tune.uniform(0.0, 1.0) | Horizontal flip augmentation probability |\n",
    "| `mosaic` | tune.uniform(0.0, 1.0) | Mosaic augmentation probability |\n",
    "| `mixup` | tune.uniform(0.0, 1.0) | Mixup augmentation probability |\n",
    "| `copy_paste` | tune.uniform(0.0, 1.0) | Copy-paste augmentation probability |\n",
    "\n",
    "\n",
    "In this example, we demonstrate how to use a custom search space for hyperparameter tuning with Ray Tune and YOLOv8. By providing a custom search space, you can focus the tuning process on specific hyperparameters of interest:"
   ]
  },
  {
   "cell_type": "code",
   "execution_count": null,
   "id": "3b3956ce-6493-4771-b2ee-5a802385647d",
   "metadata": {},
   "outputs": [],
   "source": [
    "# Load your model\n",
    "model = YOLO(\"path/to/your/model.pt\")\n",
    "\n",
    "# Define the hyperparameter search space\n",
    "space = {\n",
    "    \"lr0\": tune.uniform(1e-5, 1e-1),\n",
    "    \"weight_decay\": tune.uniform(0.0, 0.001),\n",
    "    \"warmup_epochs\": tune.uniform(0.0, 5.0),\n",
    "    \"box\": tune.uniform(0.02, 0.2),\n",
    "    \"cls\": tune.uniform(0.2, 4.0)\n",
    "}\n",
    "\n",
    "# Define additional training arguments\n",
    "train_args = {\"epochs\": 100}\n",
    "\n",
    "# Start the hyperparameter tuning process\n",
    "result = model.tune(\n",
    "    data=\"path/to/your/data.yaml\",\n",
    "    space=space,\n",
    "    train_args=train_args,\n",
    "    gpu_per_trial=1,\n",
    "    max_samples=100\n",
    ")"
   ]
  },
  {
   "cell_type": "code",
   "execution_count": null,
   "id": "0199f0bd-2cef-4a51-a6df-765f2631f0b2",
   "metadata": {},
   "outputs": [
    {
     "data": {
      "text/html": [
       "<div class=\"tuneStatus\">\n",
       "  <div style=\"display: flex;flex-direction: row\">\n",
       "    <div style=\"display: flex;flex-direction: column;\">\n",
       "      <h3>Tune Status</h3>\n",
       "      <table>\n",
       "<tbody>\n",
       "<tr><td>Current time:</td><td>2024-02-28 16:36:20</td></tr>\n",
       "<tr><td>Running for: </td><td>00:26:45.67        </td></tr>\n",
       "<tr><td>Memory:      </td><td>15.8/31.3 GiB      </td></tr>\n",
       "</tbody>\n",
       "</table>\n",
       "    </div>\n",
       "    <div class=\"vDivider\"></div>\n",
       "    <div class=\"systemInfo\">\n",
       "      <h3>System Info</h3>\n",
       "      Using AsyncHyperBand: num_stopped=0<br>Bracket: Iter 10.000: None<br>Logical resource usage: 7.0/8 CPUs, 0/1 GPUs (0.0/1.0 accelerator_type:G)\n",
       "    </div>\n",
       "    <div class=\"vDivider\"></div>\n",
       "<div class=\"messages\">\n",
       "  <h3>Messages</h3>\n",
       "  \n",
       "  \n",
       "  Number of errored trials: 2<br><table>\n",
       "<thead>\n",
       "<tr><th>Trial name       </th><th style=\"text-align: right;\">  # failures</th><th>error file                                                                                              </th></tr>\n",
       "</thead>\n",
       "<tbody>\n",
       "<tr><td>_tune_c3722_00001</td><td style=\"text-align: right;\">           1</td><td>/root/ray_results/_tune_2024-02-28_16-09-34/_tune_c3722_00001_1_lr0=0.0048_2024-02-28_16-09-34/error.txt</td></tr>\n",
       "<tr><td>_tune_c3722_00003</td><td style=\"text-align: right;\">           1</td><td>/root/ray_results/_tune_2024-02-28_16-09-34/_tune_c3722_00003_3_lr0=0.0600_2024-02-28_16-09-34/error.txt</td></tr>\n",
       "</tbody>\n",
       "</table>\n",
       "</div>\n",
       "<style>\n",
       ".messages {\n",
       "  color: var(--jp-ui-font-color1);\n",
       "  display: flex;\n",
       "  flex-direction: column;\n",
       "  padding-left: 1em;\n",
       "  overflow-y: auto;\n",
       "}\n",
       ".messages h3 {\n",
       "  font-weight: bold;\n",
       "}\n",
       ".vDivider {\n",
       "  border-left-width: var(--jp-border-width);\n",
       "  border-left-color: var(--jp-border-color0);\n",
       "  border-left-style: solid;\n",
       "  margin: 0.5em 1em 0.5em 1em;\n",
       "}\n",
       "</style>\n",
       "\n",
       "  </div>\n",
       "  <div class=\"hDivider\"></div>\n",
       "  <div class=\"trialStatus\">\n",
       "    <h3>Trial Status</h3>\n",
       "    <table>\n",
       "<thead>\n",
       "<tr><th>Trial name       </th><th>status    </th><th>loc            </th><th style=\"text-align: right;\">       lr0</th><th style=\"text-align: right;\">  iter</th><th style=\"text-align: right;\">  total time (s)</th><th style=\"text-align: right;\">  metrics/precision(B)</th><th style=\"text-align: right;\">  metrics/recall(B)</th><th style=\"text-align: right;\">  metrics/mAP50(B)</th></tr>\n",
       "</thead>\n",
       "<tbody>\n",
       "<tr><td>_tune_c3722_00004</td><td>RUNNING   </td><td>172.17.0.2:1226</td><td style=\"text-align: right;\">0.0982431 </td><td style=\"text-align: right;\">      </td><td style=\"text-align: right;\">                </td><td style=\"text-align: right;\">                      </td><td style=\"text-align: right;\">                   </td><td style=\"text-align: right;\">                  </td></tr>\n",
       "<tr><td>_tune_c3722_00005</td><td>PENDING   </td><td>               </td><td style=\"text-align: right;\">0.0647613 </td><td style=\"text-align: right;\">      </td><td style=\"text-align: right;\">                </td><td style=\"text-align: right;\">                      </td><td style=\"text-align: right;\">                   </td><td style=\"text-align: right;\">                  </td></tr>\n",
       "<tr><td>_tune_c3722_00006</td><td>PENDING   </td><td>               </td><td style=\"text-align: right;\">0.0770909 </td><td style=\"text-align: right;\">      </td><td style=\"text-align: right;\">                </td><td style=\"text-align: right;\">                      </td><td style=\"text-align: right;\">                   </td><td style=\"text-align: right;\">                  </td></tr>\n",
       "<tr><td>_tune_c3722_00007</td><td>PENDING   </td><td>               </td><td style=\"text-align: right;\">0.0341494 </td><td style=\"text-align: right;\">      </td><td style=\"text-align: right;\">                </td><td style=\"text-align: right;\">                      </td><td style=\"text-align: right;\">                   </td><td style=\"text-align: right;\">                  </td></tr>\n",
       "<tr><td>_tune_c3722_00008</td><td>PENDING   </td><td>               </td><td style=\"text-align: right;\">0.0523662 </td><td style=\"text-align: right;\">      </td><td style=\"text-align: right;\">                </td><td style=\"text-align: right;\">                      </td><td style=\"text-align: right;\">                   </td><td style=\"text-align: right;\">                  </td></tr>\n",
       "<tr><td>_tune_c3722_00009</td><td>PENDING   </td><td>               </td><td style=\"text-align: right;\">0.0442362 </td><td style=\"text-align: right;\">      </td><td style=\"text-align: right;\">                </td><td style=\"text-align: right;\">                      </td><td style=\"text-align: right;\">                   </td><td style=\"text-align: right;\">                  </td></tr>\n",
       "<tr><td>_tune_c3722_00000</td><td>TERMINATED</td><td>172.17.0.2:599 </td><td style=\"text-align: right;\">0.0436229 </td><td style=\"text-align: right;\">     1</td><td style=\"text-align: right;\">         626.09 </td><td style=\"text-align: right;\">              0.687084</td><td style=\"text-align: right;\">           0.677075</td><td style=\"text-align: right;\">          0.710611</td></tr>\n",
       "<tr><td>_tune_c3722_00002</td><td>TERMINATED</td><td>172.17.0.2:963 </td><td style=\"text-align: right;\">0.048893  </td><td style=\"text-align: right;\">     1</td><td style=\"text-align: right;\">         609.969</td><td style=\"text-align: right;\">              0.687084</td><td style=\"text-align: right;\">           0.677075</td><td style=\"text-align: right;\">          0.710611</td></tr>\n",
       "<tr><td>_tune_c3722_00001</td><td>ERROR     </td><td>172.17.0.2:599 </td><td style=\"text-align: right;\">0.00476291</td><td style=\"text-align: right;\">      </td><td style=\"text-align: right;\">                </td><td style=\"text-align: right;\">                      </td><td style=\"text-align: right;\">                   </td><td style=\"text-align: right;\">                  </td></tr>\n",
       "<tr><td>_tune_c3722_00003</td><td>ERROR     </td><td>172.17.0.2:963 </td><td style=\"text-align: right;\">0.0599622 </td><td style=\"text-align: right;\">      </td><td style=\"text-align: right;\">                </td><td style=\"text-align: right;\">                      </td><td style=\"text-align: right;\">                   </td><td style=\"text-align: right;\">                  </td></tr>\n",
       "</tbody>\n",
       "</table>\n",
       "  </div>\n",
       "</div>\n",
       "<style>\n",
       ".tuneStatus {\n",
       "  color: var(--jp-ui-font-color1);\n",
       "}\n",
       ".tuneStatus .systemInfo {\n",
       "  display: flex;\n",
       "  flex-direction: column;\n",
       "}\n",
       ".tuneStatus td {\n",
       "  white-space: nowrap;\n",
       "}\n",
       ".tuneStatus .trialStatus {\n",
       "  display: flex;\n",
       "  flex-direction: column;\n",
       "}\n",
       ".tuneStatus h3 {\n",
       "  font-weight: bold;\n",
       "}\n",
       ".tuneStatus .hDivider {\n",
       "  border-bottom-width: var(--jp-border-width);\n",
       "  border-bottom-color: var(--jp-border-color0);\n",
       "  border-bottom-style: solid;\n",
       "}\n",
       ".tuneStatus .vDivider {\n",
       "  border-left-width: var(--jp-border-width);\n",
       "  border-left-color: var(--jp-border-color0);\n",
       "  border-left-style: solid;\n",
       "  margin: 0.5em 1em 0.5em 1em;\n",
       "}\n",
       "</style>\n"
      ],
      "text/plain": [
       "<IPython.core.display.HTML object>"
      ]
     },
     "metadata": {},
     "output_type": "display_data"
    },
    {
     "name": "stdout",
     "output_type": "stream",
     "text": [
      "\u001b[36m(_tune pid=599)\u001b[0m Ultralytics YOLOv8.1.19 🚀 Python-3.10.13 torch-2.2.1 CPU (Intel Core(TM) i7-7700 3.60GHz)\n",
      "\u001b[36m(_tune pid=599)\u001b[0m \u001b[34m\u001b[1mengine/trainer: \u001b[0mtask=detect, mode=train, model=yolov8n.pt, data=coco128.yaml, epochs=10, time=None, patience=100, batch=16, imgsz=640, save=True, save_period=-1, cache=False, device=None, workers=8, project=None, name=train, exist_ok=False, pretrained=True, optimizer=auto, verbose=True, seed=0, deterministic=True, single_cls=False, rect=False, cos_lr=False, close_mosaic=10, resume=False, amp=True, fraction=1.0, profile=False, freeze=None, multi_scale=False, overlap_mask=True, mask_ratio=4, dropout=0.0, val=True, split=val, save_json=False, save_hybrid=False, conf=None, iou=0.7, max_det=300, half=False, dnn=False, plots=True, source=None, vid_stride=1, stream_buffer=False, visualize=False, augment=False, agnostic_nms=False, classes=None, retina_masks=False, embed=None, show=False, save_frames=False, save_txt=False, save_conf=False, save_crop=False, show_labels=True, show_conf=True, show_boxes=True, line_width=None, format=torchscript, keras=False, optimize=False, int8=False, dynamic=False, simplify=False, opset=None, workspace=4, nms=False, lr0=0.043622932936909664, lrf=0.01, momentum=0.937, weight_decay=0.0005, warmup_epochs=3.0, warmup_momentum=0.8, warmup_bias_lr=0.1, box=7.5, cls=0.5, dfl=1.5, pose=12.0, kobj=1.0, label_smoothing=0.0, nbs=64, hsv_h=0.015, hsv_s=0.7, hsv_v=0.4, degrees=0.0, translate=0.1, scale=0.5, shear=0.0, perspective=0.0, flipud=0.0, fliplr=0.5, mosaic=1.0, mixup=0.0, copy_paste=0.0, auto_augment=randaugment, erasing=0.4, crop_fraction=1.0, cfg=None, tracker=botsort.yaml, save_dir=runs/detect/train\n",
      "\u001b[36m(_tune pid=599)\u001b[0m \n",
      "\u001b[36m(_tune pid=599)\u001b[0m Dataset 'coco128.yaml' images not found ⚠️, missing path '/opt/app/notebooks/datasets/coco128/images/train2017'\n",
      "\u001b[36m(_tune pid=599)\u001b[0m Downloading https://ultralytics.com/assets/coco128.zip to '/opt/app/notebooks/datasets/coco128.zip'...\n"
     ]
    },
    {
     "name": "stderr",
     "output_type": "stream",
     "text": [
      "  0%|          | 0.00/6.66M [00:00<?, ?B/s]\n",
      "  0%|          | 8.00k/6.66M [00:00<01:37, 71.4kB/s]\n",
      "  0%|          | 32.0k/6.66M [00:00<00:44, 158kB/s] \n",
      "  1%|          | 56.0k/6.66M [00:00<00:46, 150kB/s]\n",
      "  2%|▏         | 136k/6.66M [00:00<00:22, 307kB/s] \n",
      "  4%|▍         | 280k/6.66M [00:00<00:10, 622kB/s]\n",
      "  7%|▋         | 488k/6.66M [00:00<00:06, 1.04MB/s]\n",
      " 10%|▉         | 648k/6.66M [00:00<00:05, 1.21MB/s]\n",
      " 15%|█▍        | 0.99M/6.66M [00:00<00:03, 1.93MB/s]\n",
      " 21%|██        | 1.41M/6.66M [00:01<00:02, 2.46MB/s]\n",
      " 34%|███▍      | 2.27M/6.66M [00:01<00:01, 4.11MB/s]\n",
      " 41%|████      | 2.74M/6.66M [00:01<00:00, 4.20MB/s]\n",
      " 47%|████▋     | 3.15M/6.66M [00:01<00:01, 3.14MB/s]\n",
      " 52%|█████▏    | 3.49M/6.66M [00:01<00:01, 2.71MB/s]\n",
      " 57%|█████▋    | 3.79M/6.66M [00:01<00:01, 2.19MB/s]\n",
      " 61%|██████    | 4.03M/6.66M [00:02<00:01, 2.18MB/s]\n",
      " 64%|██████▍   | 4.27M/6.66M [00:02<00:01, 1.68MB/s]\n",
      " 67%|██████▋   | 4.46M/6.66M [00:02<00:01, 1.34MB/s]\n",
      " 69%|██████▉   | 4.62M/6.66M [00:02<00:02, 1.07MB/s]\n",
      " 71%|███████   | 4.74M/6.66M [00:03<00:01, 1.01MB/s]\n",
      " 73%|███████▎  | 4.87M/6.66M [00:03<00:01, 1.02MB/s]\n",
      " 75%|███████▍  | 4.98M/6.66M [00:03<00:01, 965kB/s] \n",
      " 76%|███████▋  | 5.08M/6.66M [00:03<00:02, 818kB/s]\n",
      " 78%|███████▊  | 5.21M/6.66M [00:03<00:01, 924kB/s]\n",
      " 80%|███████▉  | 5.31M/6.66M [00:03<00:01, 775kB/s]\n",
      " 81%|████████  | 5.40M/6.66M [00:03<00:01, 781kB/s]\n",
      " 82%|████████▏ | 5.48M/6.66M [00:04<00:01, 712kB/s]\n",
      " 84%|████████▎ | 5.57M/6.66M [00:04<00:01, 672kB/s]\n",
      " 85%|████████▌ | 5.66M/6.66M [00:04<00:01, 679kB/s]\n",
      " 86%|████████▌ | 5.73M/6.66M [00:04<00:01, 671kB/s]\n",
      " 87%|████████▋ | 5.80M/6.66M [00:04<00:01, 667kB/s]\n",
      " 89%|████████▊ | 5.90M/6.66M [00:04<00:01, 588kB/s]\n",
      " 90%|████████▉ | 5.99M/6.66M [00:04<00:01, 659kB/s]\n",
      " 92%|█████████▏| 6.10M/6.66M [00:05<00:00, 680kB/s]\n",
      " 93%|█████████▎| 6.17M/6.66M [00:05<00:00, 599kB/s]\n",
      " 94%|█████████▎| 6.24M/6.66M [00:05<00:00, 625kB/s]\n",
      " 95%|█████████▍| 6.32M/6.66M [00:05<00:00, 623kB/s]\n",
      " 96%|█████████▌| 6.40M/6.66M [00:05<00:00, 669kB/s]\n",
      " 97%|█████████▋| 6.47M/6.66M [00:05<00:00, 608kB/s]\n",
      " 98%|█████████▊| 6.55M/6.66M [00:05<00:00, 615kB/s]\n",
      "100%|██████████| 6.66M/6.66M [00:06<00:00, 1.16MB/s]\n",
      "Unzipping /opt/app/notebooks/datasets/coco128.zip to /opt/app/notebooks/datasets/coco128...:   0%|          | 0/263 [00:00<?, ?file/s]\n",
      "Unzipping /opt/app/notebooks/datasets/coco128.zip to /opt/app/notebooks/datasets/coco128...: 100%|██████████| 263/263 [00:00<00:00, 1895.35file/s]\n"
     ]
    },
    {
     "name": "stdout",
     "output_type": "stream",
     "text": [
      "\u001b[36m(_tune pid=599)\u001b[0m Dataset download success ✅ (10.6s), saved to \u001b[1m/opt/app/notebooks/datasets\u001b[0m\n",
      "\u001b[36m(_tune pid=599)\u001b[0m \n",
      "\u001b[36m(_tune pid=599)\u001b[0m Downloading https://ultralytics.com/assets/Arial.ttf to '/root/.config/Ultralytics/Arial.ttf'...\n"
     ]
    },
    {
     "name": "stderr",
     "output_type": "stream",
     "text": [
      "  0%|          | 0.00/755k [00:00<?, ?B/s]\n",
      "  3%|▎         | 24.0k/755k [00:00<00:03, 219kB/s]\n",
      " 18%|█▊        | 136k/755k [00:00<00:01, 534kB/s] \n",
      " 34%|███▍      | 256k/755k [00:00<00:00, 657kB/s]\n",
      " 64%|██████▎   | 480k/755k [00:00<00:00, 1.11MB/s]\n",
      "100%|██████████| 755k/755k [00:00<00:00, 1.34MB/s]\n"
     ]
    },
    {
     "name": "stdout",
     "output_type": "stream",
     "text": [
      "\u001b[36m(_tune pid=599)\u001b[0m \n",
      "\u001b[36m(_tune pid=599)\u001b[0m                    from  n    params  module                                       arguments                     \n",
      "\u001b[36m(_tune pid=599)\u001b[0m   0                  -1  1       464  ultralytics.nn.modules.conv.Conv             [3, 16, 3, 2]                 \n",
      "\u001b[36m(_tune pid=599)\u001b[0m   1                  -1  1      4672  ultralytics.nn.modules.conv.Conv             [16, 32, 3, 2]                \n",
      "\u001b[36m(_tune pid=599)\u001b[0m   2                  -1  1      7360  ultralytics.nn.modules.block.C2f             [32, 32, 1, True]             \n",
      "\u001b[36m(_tune pid=599)\u001b[0m   3                  -1  1     18560  ultralytics.nn.modules.conv.Conv             [32, 64, 3, 2]                \n",
      "\u001b[36m(_tune pid=599)\u001b[0m   4                  -1  2     49664  ultralytics.nn.modules.block.C2f             [64, 64, 2, True]             \n",
      "\u001b[36m(_tune pid=599)\u001b[0m   5                  -1  1     73984  ultralytics.nn.modules.conv.Conv             [64, 128, 3, 2]               \n",
      "\u001b[36m(_tune pid=599)\u001b[0m   6                  -1  2    197632  ultralytics.nn.modules.block.C2f             [128, 128, 2, True]           \n",
      "\u001b[36m(_tune pid=599)\u001b[0m   7                  -1  1    295424  ultralytics.nn.modules.conv.Conv             [128, 256, 3, 2]              \n",
      "\u001b[36m(_tune pid=599)\u001b[0m   8                  -1  1    460288  ultralytics.nn.modules.block.C2f             [256, 256, 1, True]           \n",
      "\u001b[36m(_tune pid=599)\u001b[0m   9                  -1  1    164608  ultralytics.nn.modules.block.SPPF            [256, 256, 5]                 \n",
      "\u001b[36m(_tune pid=599)\u001b[0m  10                  -1  1         0  torch.nn.modules.upsampling.Upsample         [None, 2, 'nearest']          \n",
      "\u001b[36m(_tune pid=599)\u001b[0m  11             [-1, 6]  1         0  ultralytics.nn.modules.conv.Concat           [1]                           \n",
      "\u001b[36m(_tune pid=599)\u001b[0m  12                  -1  1    148224  ultralytics.nn.modules.block.C2f             [384, 128, 1]                 \n",
      "\u001b[36m(_tune pid=599)\u001b[0m  13                  -1  1         0  torch.nn.modules.upsampling.Upsample         [None, 2, 'nearest']          \n",
      "\u001b[36m(_tune pid=599)\u001b[0m  14             [-1, 4]  1         0  ultralytics.nn.modules.conv.Concat           [1]                           \n",
      "\u001b[36m(_tune pid=599)\u001b[0m  15                  -1  1     37248  ultralytics.nn.modules.block.C2f             [192, 64, 1]                  \n",
      "\u001b[36m(_tune pid=599)\u001b[0m  16                  -1  1     36992  ultralytics.nn.modules.conv.Conv             [64, 64, 3, 2]                \n",
      "\u001b[36m(_tune pid=599)\u001b[0m  17            [-1, 12]  1         0  ultralytics.nn.modules.conv.Concat           [1]                           \n",
      "\u001b[36m(_tune pid=599)\u001b[0m  18                  -1  1    123648  ultralytics.nn.modules.block.C2f             [192, 128, 1]                 \n",
      "\u001b[36m(_tune pid=599)\u001b[0m  19                  -1  1    147712  ultralytics.nn.modules.conv.Conv             [128, 128, 3, 2]              \n",
      "\u001b[36m(_tune pid=599)\u001b[0m  20             [-1, 9]  1         0  ultralytics.nn.modules.conv.Concat           [1]                           \n",
      "\u001b[36m(_tune pid=599)\u001b[0m  21                  -1  1    493056  ultralytics.nn.modules.block.C2f             [384, 256, 1]                 \n",
      "\u001b[36m(_tune pid=599)\u001b[0m  22        [15, 18, 21]  1    897664  ultralytics.nn.modules.head.Detect           [80, [64, 128, 256]]          \n"
     ]
    },
    {
     "name": "stderr",
     "output_type": "stream",
     "text": [
      "\u001b[34m\u001b[1mtrain: \u001b[0mScanning /opt/app/notebooks/datasets/coco128/labels/train2017...:   0%|          | 0/128 [00:00<?, ?it/s]\n",
      "\u001b[34m\u001b[1mtrain: \u001b[0mScanning /opt/app/notebooks/datasets/coco128/labels/train2017... 126 images, 2 backgrounds, 0 corrupt: 100%|██████████| 128/128 [00:00<00:00, 1853.57it/s]\n",
      "\u001b[34m\u001b[1mval: \u001b[0mScanning /opt/app/notebooks/datasets/coco128/labels/train2017.cache... 126 images, 2 backgrounds, 0 corrupt: 100%|██████████| 128/128 [00:00<?, ?it/s]\n"
     ]
    },
    {
     "name": "stdout",
     "output_type": "stream",
     "text": [
      "\u001b[36m(_tune pid=599)\u001b[0m Model summary: 225 layers, 3157200 parameters, 3157184 gradients, 8.9 GFLOPs\n",
      "\u001b[36m(_tune pid=599)\u001b[0m \n",
      "\u001b[36m(_tune pid=599)\u001b[0m Transferred 355/355 items from pretrained weights\n",
      "\u001b[36m(_tune pid=599)\u001b[0m Freezing layer 'model.22.dfl.conv.weight'\n",
      "\u001b[36m(_tune pid=599)\u001b[0m \u001b[34m\u001b[1mtrain: \u001b[0mNew cache created: /opt/app/notebooks/datasets/coco128/labels/train2017.cache\n",
      "\u001b[36m(_tune pid=599)\u001b[0m Plotting labels to runs/detect/train/labels.jpg... \n"
     ]
    },
    {
     "name": "stderr",
     "output_type": "stream",
     "text": [
      "\u001b[36m(_tune pid=599)\u001b[0m 2024/02/28 16:10:03 INFO mlflow.tracking.fluent: Experiment with name '/Shared/YOLOv8' does not exist. Creating a new experiment.\n",
      "  0%|          | 0/8 [00:00<?, ?it/s]\n"
     ]
    },
    {
     "name": "stdout",
     "output_type": "stream",
     "text": [
      "\u001b[36m(_tune pid=599)\u001b[0m \u001b[34m\u001b[1moptimizer:\u001b[0m 'optimizer=auto' found, ignoring 'lr0=0.043622932936909664' and 'momentum=0.937' and determining best 'optimizer', 'lr0' and 'momentum' automatically... \n",
      "\u001b[36m(_tune pid=599)\u001b[0m \u001b[34m\u001b[1moptimizer:\u001b[0m AdamW(lr=0.000119, momentum=0.9) with parameter groups 57 weight(decay=0.0), 64 weight(decay=0.0005), 63 bias(decay=0.0)\n",
      "\u001b[36m(_tune pid=599)\u001b[0m \u001b[34m\u001b[1mMLflow: \u001b[0mlogging run_id(f3186b7545ea4bd5ae65cdedb5ad2791) to runs/mlflow\n",
      "\u001b[36m(_tune pid=599)\u001b[0m \u001b[34m\u001b[1mMLflow: \u001b[0mview at http://127.0.0.1:5000 with 'mlflow server --backend-store-uri runs/mlflow'\n",
      "\u001b[36m(_tune pid=599)\u001b[0m \u001b[34m\u001b[1mMLflow: \u001b[0mdisable with 'yolo settings mlflow=False'\n",
      "\u001b[36m(_tune pid=599)\u001b[0m Image sizes 640 train, 640 val\n",
      "\u001b[36m(_tune pid=599)\u001b[0m Using 0 dataloader workers\n",
      "\u001b[36m(_tune pid=599)\u001b[0m Logging results to \u001b[1mruns/detect/train\u001b[0m\n",
      "\u001b[36m(_tune pid=599)\u001b[0m Starting training for 10 epochs...\n",
      "\u001b[36m(_tune pid=599)\u001b[0m Closing dataloader mosaic\n",
      "\u001b[36m(_tune pid=599)\u001b[0m \n",
      "\u001b[36m(_tune pid=599)\u001b[0m       Epoch    GPU_mem   box_loss   cls_loss   dfl_loss  Instances       Size\n"
     ]
    },
    {
     "name": "stderr",
     "output_type": "stream",
     "text": [
      "       1/10         0G      1.119      1.554      1.207        111        640:  12%|█▎        | 1/8 [00:05<00:39,  5.65s/it]\n",
      "       1/10         0G      1.111      1.396      1.197         98        640:  25%|██▌       | 2/8 [00:10<00:31,  5.17s/it]\n",
      "       1/10         0G      1.182      1.502      1.236        134        640:  38%|███▊      | 3/8 [00:15<00:26,  5.25s/it]\n",
      "       1/10         0G      1.233        1.5      1.256        136        640:  50%|█████     | 4/8 [00:20<00:20,  5.09s/it]\n",
      "       1/10         0G      1.249      1.474      1.246        120        640:  62%|██████▎   | 5/8 [00:25<00:14,  4.92s/it]\n",
      "       1/10         0G      1.247      1.449      1.259         98        640:  75%|███████▌  | 6/8 [00:30<00:09,  4.86s/it]\n",
      "       1/10         0G      1.241      1.444       1.25        116        640:  88%|████████▊ | 7/8 [00:34<00:04,  4.80s/it]\n",
      "       1/10         0G      1.231      1.419      1.242         75        640: 100%|██████████| 8/8 [00:39<00:00,  4.97s/it]\n",
      "                 Class     Images  Instances      Box(P          R      mAP50  mAP50-95):   0%|          | 0/4 [00:00<?, ?it/s]\n",
      "                 Class     Images  Instances      Box(P          R      mAP50  mAP50-95):  25%|██▌       | 1/4 [00:02<00:08,  2.86s/it]\n",
      "                 Class     Images  Instances      Box(P          R      mAP50  mAP50-95):  50%|█████     | 2/4 [00:06<00:06,  3.09s/it]\n",
      "                 Class     Images  Instances      Box(P          R      mAP50  mAP50-95):  75%|███████▌  | 3/4 [00:10<00:03,  3.83s/it]\n",
      "                 Class     Images  Instances      Box(P          R      mAP50  mAP50-95): 100%|██████████| 4/4 [00:14<00:00,  3.71s/it]\n"
     ]
    },
    {
     "name": "stdout",
     "output_type": "stream",
     "text": [
      "\u001b[36m(_tune pid=599)\u001b[0m                    all        128        929      0.668      0.523      0.613      0.452\n"
     ]
    },
    {
     "name": "stderr",
     "output_type": "stream",
     "text": [
      "  0%|          | 0/8 [00:00<?, ?it/s]\n"
     ]
    },
    {
     "name": "stdout",
     "output_type": "stream",
     "text": [
      "\u001b[36m(_tune pid=599)\u001b[0m \n",
      "\u001b[36m(_tune pid=599)\u001b[0m       Epoch    GPU_mem   box_loss   cls_loss   dfl_loss  Instances       Size\n"
     ]
    },
    {
     "name": "stderr",
     "output_type": "stream",
     "text": [
      "       2/10         0G      1.205      1.457      1.236         94        640:  12%|█▎        | 1/8 [00:05<00:36,  5.24s/it]\n",
      "       2/10         0G      1.148      1.477      1.263         85        640:  25%|██▌       | 2/8 [00:10<00:32,  5.39s/it]\n",
      "       2/10         0G      1.151      1.441      1.226        138        640:  38%|███▊      | 3/8 [00:16<00:27,  5.41s/it]\n",
      "       2/10         0G      1.173      1.442      1.221        147        640:  50%|█████     | 4/8 [00:21<00:20,  5.22s/it]\n",
      "       2/10         0G      1.148      1.443        1.2         75        640:  62%|██████▎   | 5/8 [00:25<00:15,  5.09s/it]\n",
      "       2/10         0G      1.138      1.395      1.191        114        640:  75%|███████▌  | 6/8 [00:30<00:10,  5.05s/it]\n",
      "       2/10         0G      1.167      1.407      1.211        131        640:  88%|████████▊ | 7/8 [00:35<00:04,  4.96s/it]\n",
      "       2/10         0G      1.156      1.352        1.2        103        640: 100%|██████████| 8/8 [00:40<00:00,  5.05s/it]\n",
      "                 Class     Images  Instances      Box(P          R      mAP50  mAP50-95):   0%|          | 0/4 [00:00<?, ?it/s]\n",
      "                 Class     Images  Instances      Box(P          R      mAP50  mAP50-95):  25%|██▌       | 1/4 [00:03<00:09,  3.09s/it]\n",
      "                 Class     Images  Instances      Box(P          R      mAP50  mAP50-95):  50%|█████     | 2/4 [00:06<00:07,  3.53s/it]\n",
      "                 Class     Images  Instances      Box(P          R      mAP50  mAP50-95):  75%|███████▌  | 3/4 [00:11<00:04,  4.11s/it]\n",
      "                 Class     Images  Instances      Box(P          R      mAP50  mAP50-95): 100%|██████████| 4/4 [00:15<00:00,  3.98s/it]\n"
     ]
    },
    {
     "name": "stdout",
     "output_type": "stream",
     "text": [
      "\u001b[36m(_tune pid=599)\u001b[0m                    all        128        929      0.671       0.57      0.637      0.472\n"
     ]
    },
    {
     "name": "stderr",
     "output_type": "stream",
     "text": [
      "  0%|          | 0/8 [00:00<?, ?it/s]\n"
     ]
    },
    {
     "name": "stdout",
     "output_type": "stream",
     "text": [
      "\u001b[36m(_tune pid=599)\u001b[0m \n",
      "\u001b[36m(_tune pid=599)\u001b[0m       Epoch    GPU_mem   box_loss   cls_loss   dfl_loss  Instances       Size\n"
     ]
    },
    {
     "name": "stderr",
     "output_type": "stream",
     "text": [
      "       3/10         0G      1.213       1.21      1.271        103        640:  12%|█▎        | 1/8 [00:04<00:34,  4.87s/it]\n",
      "       3/10         0G      1.104      1.182      1.217         90        640:  25%|██▌       | 2/8 [00:09<00:28,  4.80s/it]\n",
      "       3/10         0G       1.12      1.258      1.207        140        640:  38%|███▊      | 3/8 [00:14<00:24,  4.94s/it]\n",
      "       3/10         0G      1.131      1.256      1.195         86        640:  50%|█████     | 4/8 [00:19<00:19,  4.94s/it]\n",
      "       3/10         0G      1.136      1.305      1.206         84        640:  62%|██████▎   | 5/8 [00:25<00:15,  5.17s/it]\n",
      "       3/10         0G      1.145        1.3      1.204        132        640:  75%|███████▌  | 6/8 [00:31<00:10,  5.41s/it]\n",
      "       3/10         0G      1.159      1.284        1.2        134        640:  88%|████████▊ | 7/8 [00:36<00:05,  5.36s/it]\n",
      "       3/10         0G      1.167       1.28      1.195        110        640: 100%|██████████| 8/8 [00:41<00:00,  5.20s/it]\n",
      "                 Class     Images  Instances      Box(P          R      mAP50  mAP50-95):   0%|          | 0/4 [00:00<?, ?it/s]\n",
      "                 Class     Images  Instances      Box(P          R      mAP50  mAP50-95):  25%|██▌       | 1/4 [00:03<00:09,  3.20s/it]\n",
      "                 Class     Images  Instances      Box(P          R      mAP50  mAP50-95):  50%|█████     | 2/4 [00:07<00:07,  3.65s/it]\n",
      "                 Class     Images  Instances      Box(P          R      mAP50  mAP50-95):  75%|███████▌  | 3/4 [00:12<00:04,  4.44s/it]\n",
      "                 Class     Images  Instances      Box(P          R      mAP50  mAP50-95): 100%|██████████| 4/4 [00:17<00:00,  4.30s/it]\n"
     ]
    },
    {
     "name": "stdout",
     "output_type": "stream",
     "text": [
      "\u001b[36m(_tune pid=599)\u001b[0m                    all        128        929      0.669      0.568      0.649      0.483\n"
     ]
    },
    {
     "name": "stderr",
     "output_type": "stream",
     "text": [
      "  0%|          | 0/8 [00:00<?, ?it/s]\n"
     ]
    },
    {
     "name": "stdout",
     "output_type": "stream",
     "text": [
      "\u001b[36m(_tune pid=599)\u001b[0m \n",
      "\u001b[36m(_tune pid=599)\u001b[0m       Epoch    GPU_mem   box_loss   cls_loss   dfl_loss  Instances       Size\n"
     ]
    },
    {
     "name": "stderr",
     "output_type": "stream",
     "text": [
      "       4/10         0G      1.155      1.381      1.342         50        640:  12%|█▎        | 1/8 [00:05<00:39,  5.61s/it]\n",
      "       4/10         0G      1.162      1.303       1.22        160        640:  25%|██▌       | 2/8 [00:11<00:33,  5.61s/it]\n",
      "       4/10         0G      1.161      1.268      1.219        121        640:  38%|███▊      | 3/8 [00:16<00:27,  5.58s/it]\n",
      "       4/10         0G      1.164      1.294      1.218        111        640:  50%|█████     | 4/8 [00:22<00:22,  5.64s/it]\n",
      "       4/10         0G      1.167       1.27      1.206         83        640:  62%|██████▎   | 5/8 [00:28<00:16,  5.64s/it]\n",
      "       4/10         0G      1.163      1.296        1.2        147        640:  75%|███████▌  | 6/8 [00:33<00:11,  5.57s/it]\n",
      "       4/10         0G      1.167      1.311      1.206        102        640:  88%|████████▊ | 7/8 [00:38<00:05,  5.50s/it]\n",
      "       4/10         0G      1.147        1.3        1.2         91        640: 100%|██████████| 8/8 [00:44<00:00,  5.54s/it]\n",
      "                 Class     Images  Instances      Box(P          R      mAP50  mAP50-95):   0%|          | 0/4 [00:00<?, ?it/s]\n",
      "                 Class     Images  Instances      Box(P          R      mAP50  mAP50-95):  25%|██▌       | 1/4 [00:03<00:10,  3.49s/it]\n",
      "                 Class     Images  Instances      Box(P          R      mAP50  mAP50-95):  50%|█████     | 2/4 [00:07<00:07,  3.71s/it]\n",
      "                 Class     Images  Instances      Box(P          R      mAP50  mAP50-95):  75%|███████▌  | 3/4 [00:12<00:04,  4.37s/it]\n",
      "                 Class     Images  Instances      Box(P          R      mAP50  mAP50-95): 100%|██████████| 4/4 [00:17<00:00,  4.28s/it]\n"
     ]
    },
    {
     "name": "stdout",
     "output_type": "stream",
     "text": [
      "\u001b[36m(_tune pid=599)\u001b[0m                    all        128        929      0.674      0.598       0.67      0.495\n"
     ]
    },
    {
     "name": "stderr",
     "output_type": "stream",
     "text": [
      "  0%|          | 0/8 [00:00<?, ?it/s]\n"
     ]
    },
    {
     "name": "stdout",
     "output_type": "stream",
     "text": [
      "\u001b[36m(_tune pid=599)\u001b[0m \n",
      "\u001b[36m(_tune pid=599)\u001b[0m       Epoch    GPU_mem   box_loss   cls_loss   dfl_loss  Instances       Size\n"
     ]
    },
    {
     "name": "stderr",
     "output_type": "stream",
     "text": [
      "       5/10         0G      1.061      1.259      1.136         93        640:  12%|█▎        | 1/8 [00:05<00:37,  5.33s/it]\n",
      "       5/10         0G      1.166      1.334      1.161        170        640:  25%|██▌       | 2/8 [00:10<00:32,  5.36s/it]\n",
      "       5/10         0G        1.1       1.21      1.128         82        640:  38%|███▊      | 3/8 [00:16<00:26,  5.39s/it]\n",
      "       5/10         0G      1.095      1.202      1.118         80        640:  50%|█████     | 4/8 [00:21<00:21,  5.33s/it]\n",
      "       5/10         0G      1.109      1.226      1.125        111        640:  62%|██████▎   | 5/8 [00:26<00:15,  5.27s/it]\n",
      "       5/10         0G       1.15      1.288      1.168        162        640:  75%|███████▌  | 6/8 [00:32<00:10,  5.33s/it]\n",
      "       5/10         0G      1.153      1.265      1.172        137        640:  88%|████████▊ | 7/8 [00:37<00:05,  5.34s/it]\n",
      "       5/10         0G      1.112      1.233      1.166         52        640: 100%|██████████| 8/8 [00:42<00:00,  5.32s/it]\n",
      "                 Class     Images  Instances      Box(P          R      mAP50  mAP50-95):   0%|          | 0/4 [00:00<?, ?it/s]\n",
      "                 Class     Images  Instances      Box(P          R      mAP50  mAP50-95):  25%|██▌       | 1/4 [00:03<00:09,  3.26s/it]\n",
      "                 Class     Images  Instances      Box(P          R      mAP50  mAP50-95):  50%|█████     | 2/4 [00:06<00:06,  3.45s/it]\n",
      "                 Class     Images  Instances      Box(P          R      mAP50  mAP50-95):  75%|███████▌  | 3/4 [00:11<00:04,  4.21s/it]\n",
      "                 Class     Images  Instances      Box(P          R      mAP50  mAP50-95): 100%|██████████| 4/4 [00:16<00:00,  4.08s/it]\n"
     ]
    },
    {
     "name": "stdout",
     "output_type": "stream",
     "text": [
      "\u001b[36m(_tune pid=599)\u001b[0m                    all        128        929      0.678       0.61      0.681      0.502\n"
     ]
    },
    {
     "name": "stderr",
     "output_type": "stream",
     "text": [
      "  0%|          | 0/8 [00:00<?, ?it/s]\n"
     ]
    },
    {
     "name": "stdout",
     "output_type": "stream",
     "text": [
      "\u001b[36m(_tune pid=599)\u001b[0m \n",
      "\u001b[36m(_tune pid=599)\u001b[0m       Epoch    GPU_mem   box_loss   cls_loss   dfl_loss  Instances       Size\n"
     ]
    },
    {
     "name": "stderr",
     "output_type": "stream",
     "text": [
      "       6/10         0G      1.196      1.348      1.189        107        640:  12%|█▎        | 1/8 [00:05<00:38,  5.53s/it]\n",
      "       6/10         0G       1.15      1.242      1.185        151        640:  25%|██▌       | 2/8 [00:10<00:32,  5.45s/it]\n",
      "       6/10         0G      1.217       1.25      1.196        117        640:  38%|███▊      | 3/8 [00:16<00:27,  5.45s/it]\n",
      "       6/10         0G      1.161      1.171      1.175         90        640:  50%|█████     | 4/8 [00:21<00:21,  5.29s/it]\n",
      "       6/10         0G      1.191      1.236      1.188        194        640:  62%|██████▎   | 5/8 [00:26<00:15,  5.22s/it]\n",
      "       6/10         0G      1.145       1.25      1.175         63        640:  75%|███████▌  | 6/8 [00:31<00:10,  5.07s/it]\n",
      "       6/10         0G       1.13      1.231      1.174         79        640:  88%|████████▊ | 7/8 [00:36<00:05,  5.07s/it]\n",
      "       6/10         0G      1.102      1.202      1.166        102        640: 100%|██████████| 8/8 [00:41<00:00,  5.15s/it]\n",
      "                 Class     Images  Instances      Box(P          R      mAP50  mAP50-95):   0%|          | 0/4 [00:00<?, ?it/s]\n",
      "                 Class     Images  Instances      Box(P          R      mAP50  mAP50-95):  25%|██▌       | 1/4 [00:03<00:09,  3.15s/it]\n",
      "                 Class     Images  Instances      Box(P          R      mAP50  mAP50-95):  50%|█████     | 2/4 [00:06<00:06,  3.30s/it]\n",
      "                 Class     Images  Instances      Box(P          R      mAP50  mAP50-95):  75%|███████▌  | 3/4 [00:11<00:03,  3.96s/it]\n",
      "                 Class     Images  Instances      Box(P          R      mAP50  mAP50-95): 100%|██████████| 4/4 [00:15<00:00,  3.82s/it]\n"
     ]
    },
    {
     "name": "stdout",
     "output_type": "stream",
     "text": [
      "\u001b[36m(_tune pid=599)\u001b[0m                    all        128        929       0.71      0.634      0.697      0.514\n"
     ]
    },
    {
     "name": "stderr",
     "output_type": "stream",
     "text": [
      "  0%|          | 0/8 [00:00<?, ?it/s]\n"
     ]
    },
    {
     "name": "stdout",
     "output_type": "stream",
     "text": [
      "\u001b[36m(_tune pid=599)\u001b[0m \n",
      "\u001b[36m(_tune pid=599)\u001b[0m       Epoch    GPU_mem   box_loss   cls_loss   dfl_loss  Instances       Size\n"
     ]
    },
    {
     "name": "stderr",
     "output_type": "stream",
     "text": [
      "       7/10         0G        1.2      1.367      1.186         92        640:  12%|█▎        | 1/8 [00:04<00:34,  4.97s/it]\n",
      "       7/10         0G       1.16      1.247      1.158        132        640:  25%|██▌       | 2/8 [00:09<00:29,  4.93s/it]\n",
      "       7/10         0G      1.108      1.249      1.157        103        640:  38%|███▊      | 3/8 [00:14<00:25,  5.02s/it]\n",
      "       7/10         0G      1.118      1.227      1.164         99        640:  50%|█████     | 4/8 [00:20<00:20,  5.02s/it]\n",
      "       7/10         0G      1.093      1.195       1.15         60        640:  62%|██████▎   | 5/8 [00:24<00:14,  4.95s/it]\n",
      "       7/10         0G      1.112        1.2      1.161        142        640:  75%|███████▌  | 6/8 [00:30<00:10,  5.11s/it]\n",
      "       7/10         0G       1.08      1.163      1.144         82        640:  88%|████████▊ | 7/8 [00:35<00:05,  5.11s/it]\n",
      "       7/10         0G      1.105      1.195      1.161        190        640: 100%|██████████| 8/8 [00:40<00:00,  5.08s/it]\n",
      "                 Class     Images  Instances      Box(P          R      mAP50  mAP50-95):   0%|          | 0/4 [00:00<?, ?it/s]\n",
      "                 Class     Images  Instances      Box(P          R      mAP50  mAP50-95):  25%|██▌       | 1/4 [00:02<00:08,  2.97s/it]\n",
      "                 Class     Images  Instances      Box(P          R      mAP50  mAP50-95):  50%|█████     | 2/4 [00:06<00:06,  3.43s/it]\n",
      "                 Class     Images  Instances      Box(P          R      mAP50  mAP50-95):  75%|███████▌  | 3/4 [00:11<00:04,  4.26s/it]\n",
      "                 Class     Images  Instances      Box(P          R      mAP50  mAP50-95): 100%|██████████| 4/4 [00:16<00:00,  4.03s/it]\n"
     ]
    },
    {
     "name": "stdout",
     "output_type": "stream",
     "text": [
      "\u001b[36m(_tune pid=599)\u001b[0m                    all        128        929      0.688      0.659      0.701      0.518\n"
     ]
    },
    {
     "name": "stderr",
     "output_type": "stream",
     "text": [
      "  0%|          | 0/8 [00:00<?, ?it/s]\n"
     ]
    },
    {
     "name": "stdout",
     "output_type": "stream",
     "text": [
      "\u001b[36m(_tune pid=599)\u001b[0m \n",
      "\u001b[36m(_tune pid=599)\u001b[0m       Epoch    GPU_mem   box_loss   cls_loss   dfl_loss  Instances       Size\n"
     ]
    },
    {
     "name": "stderr",
     "output_type": "stream",
     "text": [
      "       8/10         0G      1.192      1.194      1.342         97        640:  12%|█▎        | 1/8 [00:04<00:33,  4.83s/it]\n",
      "       8/10         0G      1.219      1.208      1.259        170        640:  25%|██▌       | 2/8 [00:09<00:29,  4.93s/it]\n",
      "       8/10         0G      1.173      1.214      1.228        134        640:  38%|███▊      | 3/8 [00:14<00:24,  4.94s/it]\n",
      "       8/10         0G      1.101      1.193      1.195         95        640:  50%|█████     | 4/8 [00:19<00:20,  5.02s/it]\n",
      "       8/10         0G      1.095       1.21      1.163         83        640:  62%|██████▎   | 5/8 [00:24<00:15,  5.01s/it]\n",
      "       8/10         0G      1.097      1.207      1.153         78        640:  75%|███████▌  | 6/8 [00:29<00:09,  4.94s/it]\n",
      "       8/10         0G      1.082      1.189      1.152         88        640:  88%|████████▊ | 7/8 [00:34<00:04,  4.93s/it]\n",
      "       8/10         0G      1.098      1.192      1.154        150        640: 100%|██████████| 8/8 [00:39<00:00,  4.95s/it]\n",
      "                 Class     Images  Instances      Box(P          R      mAP50  mAP50-95):   0%|          | 0/4 [00:00<?, ?it/s]\n",
      "                 Class     Images  Instances      Box(P          R      mAP50  mAP50-95):  25%|██▌       | 1/4 [00:02<00:08,  2.93s/it]\n",
      "                 Class     Images  Instances      Box(P          R      mAP50  mAP50-95):  50%|█████     | 2/4 [00:06<00:06,  3.19s/it]\n",
      "                 Class     Images  Instances      Box(P          R      mAP50  mAP50-95):  75%|███████▌  | 3/4 [00:10<00:03,  3.87s/it]\n",
      "                 Class     Images  Instances      Box(P          R      mAP50  mAP50-95): 100%|██████████| 4/4 [00:15<00:00,  3.82s/it]\n"
     ]
    },
    {
     "name": "stdout",
     "output_type": "stream",
     "text": [
      "\u001b[36m(_tune pid=599)\u001b[0m                    all        128        929      0.677      0.673      0.707      0.523\n"
     ]
    },
    {
     "name": "stderr",
     "output_type": "stream",
     "text": [
      "  0%|          | 0/8 [00:00<?, ?it/s]\n"
     ]
    },
    {
     "name": "stdout",
     "output_type": "stream",
     "text": [
      "\u001b[36m(_tune pid=599)\u001b[0m \n",
      "\u001b[36m(_tune pid=599)\u001b[0m       Epoch    GPU_mem   box_loss   cls_loss   dfl_loss  Instances       Size\n"
     ]
    },
    {
     "name": "stderr",
     "output_type": "stream",
     "text": [
      "       9/10         0G      1.313      1.564      1.356         96        640:  12%|█▎        | 1/8 [00:04<00:34,  4.87s/it]\n",
      "       9/10         0G      1.224       1.36      1.291        102        640:  25%|██▌       | 2/8 [00:10<00:30,  5.11s/it]\n",
      "       9/10         0G      1.229      1.318      1.267        139        640:  38%|███▊      | 3/8 [00:15<00:25,  5.07s/it]\n",
      "       9/10         0G      1.198      1.231      1.229        121        640:  50%|█████     | 4/8 [00:20<00:20,  5.15s/it]\n",
      "       9/10         0G      1.156       1.22      1.227        101        640:  62%|██████▎   | 5/8 [00:25<00:15,  5.20s/it]\n",
      "       9/10         0G      1.124       1.19      1.205         74        640:  75%|███████▌  | 6/8 [00:30<00:10,  5.22s/it]\n",
      "       9/10         0G      1.123      1.197      1.195        157        640:  88%|████████▊ | 7/8 [00:36<00:05,  5.34s/it]\n",
      "       9/10         0G      1.118      1.196      1.189        104        640: 100%|██████████| 8/8 [00:42<00:00,  5.25s/it]\n",
      "                 Class     Images  Instances      Box(P          R      mAP50  mAP50-95):   0%|          | 0/4 [00:00<?, ?it/s]\n",
      "                 Class     Images  Instances      Box(P          R      mAP50  mAP50-95):  25%|██▌       | 1/4 [00:03<00:09,  3.25s/it]\n",
      "                 Class     Images  Instances      Box(P          R      mAP50  mAP50-95):  50%|█████     | 2/4 [00:06<00:06,  3.36s/it]\n",
      "                 Class     Images  Instances      Box(P          R      mAP50  mAP50-95):  75%|███████▌  | 3/4 [00:11<00:04,  4.10s/it]\n",
      "                 Class     Images  Instances      Box(P          R      mAP50  mAP50-95): 100%|██████████| 4/4 [00:16<00:00,  4.00s/it]\n"
     ]
    },
    {
     "name": "stdout",
     "output_type": "stream",
     "text": [
      "\u001b[36m(_tune pid=599)\u001b[0m                    all        128        929      0.683       0.68      0.711      0.528\n"
     ]
    },
    {
     "name": "stderr",
     "output_type": "stream",
     "text": [
      "  0%|          | 0/8 [00:00<?, ?it/s]\n"
     ]
    },
    {
     "name": "stdout",
     "output_type": "stream",
     "text": [
      "\u001b[36m(_tune pid=599)\u001b[0m \n",
      "\u001b[36m(_tune pid=599)\u001b[0m       Epoch    GPU_mem   box_loss   cls_loss   dfl_loss  Instances       Size\n"
     ]
    },
    {
     "name": "stderr",
     "output_type": "stream",
     "text": [
      "      10/10         0G     0.9821      1.097      1.028         89        640:  12%|█▎        | 1/8 [00:05<00:36,  5.15s/it]\n",
      "      10/10         0G       1.11       1.09      1.122         93        640:  25%|██▌       | 2/8 [00:10<00:31,  5.29s/it]\n",
      "      10/10         0G      1.087      1.134      1.126        111        640:  38%|███▊      | 3/8 [00:15<00:26,  5.34s/it]\n",
      "      10/10         0G      1.064      1.099      1.149         90        640:  50%|█████     | 4/8 [00:21<00:21,  5.34s/it]\n",
      "      10/10         0G       1.04      1.115      1.162         77        640:  62%|██████▎   | 5/8 [00:26<00:16,  5.40s/it]\n",
      "      10/10         0G      1.073      1.144      1.164        187        640:  75%|███████▌  | 6/8 [00:31<00:10,  5.31s/it]\n",
      "      10/10         0G      1.068      1.151      1.168        131        640:  88%|████████▊ | 7/8 [00:37<00:05,  5.34s/it]\n",
      "      10/10         0G      1.078      1.147      1.163        112        640: 100%|██████████| 8/8 [00:42<00:00,  5.31s/it]\n",
      "                 Class     Images  Instances      Box(P          R      mAP50  mAP50-95):   0%|          | 0/4 [00:00<?, ?it/s]\n",
      "                 Class     Images  Instances      Box(P          R      mAP50  mAP50-95):  25%|██▌       | 1/4 [00:03<00:09,  3.22s/it]\n",
      "                 Class     Images  Instances      Box(P          R      mAP50  mAP50-95):  50%|█████     | 2/4 [00:06<00:06,  3.41s/it]\n",
      "                 Class     Images  Instances      Box(P          R      mAP50  mAP50-95):  75%|███████▌  | 3/4 [00:11<00:04,  4.24s/it]\n",
      "                 Class     Images  Instances      Box(P          R      mAP50  mAP50-95): 100%|██████████| 4/4 [00:16<00:00,  4.11s/it]\n"
     ]
    },
    {
     "name": "stdout",
     "output_type": "stream",
     "text": [
      "\u001b[36m(_tune pid=599)\u001b[0m                    all        128        929      0.686      0.678       0.71      0.529\n",
      "\u001b[36m(_tune pid=599)\u001b[0m \n",
      "\u001b[36m(_tune pid=599)\u001b[0m 10 epochs completed in 0.161 hours.\n",
      "\u001b[36m(_tune pid=599)\u001b[0m Optimizer stripped from runs/detect/train/weights/last.pt, 6.5MB\n",
      "\u001b[36m(_tune pid=599)\u001b[0m Optimizer stripped from runs/detect/train/weights/best.pt, 6.5MB\n",
      "\u001b[36m(_tune pid=599)\u001b[0m \n",
      "\u001b[36m(_tune pid=599)\u001b[0m Validating runs/detect/train/weights/best.pt...\n",
      "\u001b[36m(_tune pid=599)\u001b[0m Ultralytics YOLOv8.1.19 🚀 Python-3.10.13 torch-2.2.1 CPU (Intel Core(TM) i7-7700 3.60GHz)\n",
      "\u001b[36m(_tune pid=599)\u001b[0m Model summary (fused): 168 layers, 3151904 parameters, 0 gradients, 8.7 GFLOPs\n"
     ]
    },
    {
     "name": "stderr",
     "output_type": "stream",
     "text": [
      "                 Class     Images  Instances      Box(P          R      mAP50  mAP50-95):   0%|          | 0/4 [00:00<?, ?it/s]\n",
      "                 Class     Images  Instances      Box(P          R      mAP50  mAP50-95):  25%|██▌       | 1/4 [00:02<00:06,  2.30s/it]\n",
      "                 Class     Images  Instances      Box(P          R      mAP50  mAP50-95):  50%|█████     | 2/4 [00:04<00:04,  2.49s/it]\n",
      "                 Class     Images  Instances      Box(P          R      mAP50  mAP50-95):  75%|███████▌  | 3/4 [00:08<00:03,  3.05s/it]\n",
      "                 Class     Images  Instances      Box(P          R      mAP50  mAP50-95): 100%|██████████| 4/4 [00:12<00:00,  3.01s/it]\n"
     ]
    },
    {
     "name": "stdout",
     "output_type": "stream",
     "text": [
      "\u001b[36m(_tune pid=599)\u001b[0m                    all        128        929      0.687      0.677      0.711       0.53\n",
      "\u001b[36m(_tune pid=599)\u001b[0m                 person        128        254      0.812      0.699      0.781      0.568\n",
      "\u001b[36m(_tune pid=599)\u001b[0m                bicycle        128          6      0.826      0.333      0.382      0.318\n",
      "\u001b[36m(_tune pid=599)\u001b[0m                    car        128         46      0.636      0.239      0.346      0.201\n",
      "\u001b[36m(_tune pid=599)\u001b[0m             motorcycle        128          5      0.818      0.906      0.962      0.714\n",
      "\u001b[36m(_tune pid=599)\u001b[0m               airplane        128          6      0.795          1      0.995      0.936\n",
      "\u001b[36m(_tune pid=599)\u001b[0m                    bus        128          7      0.718      0.714      0.722      0.679\n",
      "\u001b[36m(_tune pid=599)\u001b[0m                  train        128          3      0.793          1      0.995      0.863\n",
      "\u001b[36m(_tune pid=599)\u001b[0m                  truck        128         12       0.83        0.5      0.549      0.359\n",
      "\u001b[36m(_tune pid=599)\u001b[0m                   boat        128          6      0.409      0.333      0.563      0.404\n",
      "\u001b[36m(_tune pid=599)\u001b[0m          traffic light        128         14      0.412      0.143      0.186      0.138\n",
      "\u001b[36m(_tune pid=599)\u001b[0m              stop sign        128          2      0.732          1      0.995      0.697\n",
      "\u001b[36m(_tune pid=599)\u001b[0m                  bench        128          9      0.801      0.448      0.699      0.467\n",
      "\u001b[36m(_tune pid=599)\u001b[0m                   bird        128         16      0.892      0.938      0.969      0.668\n",
      "\u001b[36m(_tune pid=599)\u001b[0m                    cat        128          4      0.844          1      0.995      0.747\n",
      "\u001b[36m(_tune pid=599)\u001b[0m                    dog        128          9      0.645      0.889       0.92      0.747\n",
      "\u001b[36m(_tune pid=599)\u001b[0m                  horse        128          2       0.74          1      0.995      0.597\n",
      "\u001b[36m(_tune pid=599)\u001b[0m               elephant        128         17      0.753      0.895      0.924      0.734\n",
      "\u001b[36m(_tune pid=599)\u001b[0m                   bear        128          1      0.548          1      0.995      0.995\n",
      "\u001b[36m(_tune pid=599)\u001b[0m                  zebra        128          4      0.859          1      0.995      0.972\n",
      "\u001b[36m(_tune pid=599)\u001b[0m                giraffe        128          9      0.899      0.988      0.962      0.736\n",
      "\u001b[36m(_tune pid=599)\u001b[0m               backpack        128          6      0.548      0.333      0.405      0.254\n",
      "\u001b[36m(_tune pid=599)\u001b[0m               umbrella        128         18      0.614      0.667      0.708      0.473\n",
      "\u001b[36m(_tune pid=599)\u001b[0m                handbag        128         19       0.61     0.0874      0.277      0.156\n",
      "\u001b[36m(_tune pid=599)\u001b[0m                    tie        128          7       0.78      0.714       0.73      0.494\n",
      "\u001b[36m(_tune pid=599)\u001b[0m               suitcase        128          4       0.73          1      0.895      0.637\n",
      "\u001b[36m(_tune pid=599)\u001b[0m                frisbee        128          5      0.719        0.8      0.799      0.689\n",
      "\u001b[36m(_tune pid=599)\u001b[0m                   skis        128          1      0.855          1      0.995      0.497\n",
      "\u001b[36m(_tune pid=599)\u001b[0m              snowboard        128          7      0.431      0.571      0.684      0.482\n",
      "\u001b[36m(_tune pid=599)\u001b[0m            sports ball        128          6      0.702      0.404      0.514      0.304\n",
      "\u001b[36m(_tune pid=599)\u001b[0m                   kite        128         10      0.635        0.5      0.615      0.194\n",
      "\u001b[36m(_tune pid=599)\u001b[0m           baseball bat        128          4       0.62        0.5      0.497      0.273\n",
      "\u001b[36m(_tune pid=599)\u001b[0m         baseball glove        128          7      0.824      0.429      0.431      0.303\n",
      "\u001b[36m(_tune pid=599)\u001b[0m             skateboard        128          5      0.463        0.6      0.616       0.42\n",
      "\u001b[36m(_tune pid=599)\u001b[0m          tennis racket        128          7      0.719      0.375       0.59      0.329\n",
      "\u001b[36m(_tune pid=599)\u001b[0m                 bottle        128         18      0.648      0.409      0.483       0.24\n",
      "\u001b[36m(_tune pid=599)\u001b[0m             wine glass        128         16      0.561      0.721      0.724      0.396\n",
      "\u001b[36m(_tune pid=599)\u001b[0m                    cup        128         36      0.629       0.33      0.452      0.323\n",
      "\u001b[36m(_tune pid=599)\u001b[0m                   fork        128          6          1      0.302      0.364       0.26\n",
      "\u001b[36m(_tune pid=599)\u001b[0m                  knife        128         16      0.608      0.562      0.614      0.371\n",
      "\u001b[36m(_tune pid=599)\u001b[0m                  spoon        128         22      0.436      0.364      0.418      0.279\n",
      "\u001b[36m(_tune pid=599)\u001b[0m                   bowl        128         28      0.646       0.75      0.715      0.598\n",
      "\u001b[36m(_tune pid=599)\u001b[0m                 banana        128          1      0.399          1      0.497      0.106\n",
      "\u001b[36m(_tune pid=599)\u001b[0m               sandwich        128          2      0.774          1      0.995      0.995\n",
      "\u001b[36m(_tune pid=599)\u001b[0m                 orange        128          4      0.751          1      0.895      0.594\n",
      "\u001b[36m(_tune pid=599)\u001b[0m               broccoli        128         11      0.568      0.273       0.34      0.265\n",
      "\u001b[36m(_tune pid=599)\u001b[0m                 carrot        128         24      0.546      0.853      0.793      0.515\n",
      "\u001b[36m(_tune pid=599)\u001b[0m                hot dog        128          2      0.502          1      0.995      0.945\n",
      "\u001b[36m(_tune pid=599)\u001b[0m                  pizza        128          5      0.992          1      0.995       0.85\n",
      "\u001b[36m(_tune pid=599)\u001b[0m                  donut        128         14      0.564          1       0.93      0.855\n",
      "\u001b[36m(_tune pid=599)\u001b[0m                   cake        128          4      0.832          1      0.995       0.89\n",
      "\u001b[36m(_tune pid=599)\u001b[0m                  chair        128         35      0.574      0.486      0.501      0.293\n",
      "\u001b[36m(_tune pid=599)\u001b[0m                  couch        128          6      0.571      0.667      0.693      0.533\n",
      "\u001b[36m(_tune pid=599)\u001b[0m           potted plant        128         14      0.687      0.784      0.773      0.523\n",
      "\u001b[36m(_tune pid=599)\u001b[0m                    bed        128          3      0.844          1      0.995      0.858\n",
      "\u001b[36m(_tune pid=599)\u001b[0m           dining table        128         13      0.479      0.496      0.525      0.428\n",
      "\u001b[36m(_tune pid=599)\u001b[0m                 toilet        128          2          1      0.888      0.995      0.946\n",
      "\u001b[36m(_tune pid=599)\u001b[0m                     tv        128          2       0.63          1      0.995      0.846\n",
      "\u001b[36m(_tune pid=599)\u001b[0m                 laptop        128          3       0.77      0.667      0.789      0.686\n",
      "\u001b[36m(_tune pid=599)\u001b[0m                  mouse        128          2          1          0     0.0404    0.00404\n",
      "\u001b[36m(_tune pid=599)\u001b[0m                 remote        128          8          1      0.604      0.659       0.56\n",
      "\u001b[36m(_tune pid=599)\u001b[0m             cell phone        128          8          0          0      0.131     0.0549\n",
      "\u001b[36m(_tune pid=599)\u001b[0m              microwave        128          3      0.735      0.941      0.913      0.808\n",
      "\u001b[36m(_tune pid=599)\u001b[0m                   oven        128          5       0.52        0.4        0.5       0.37\n",
      "\u001b[36m(_tune pid=599)\u001b[0m                   sink        128          6      0.445      0.167      0.299      0.209\n",
      "\u001b[36m(_tune pid=599)\u001b[0m           refrigerator        128          5      0.608        0.6      0.731      0.598\n",
      "\u001b[36m(_tune pid=599)\u001b[0m                   book        128         29      0.634       0.36      0.435      0.233\n",
      "\u001b[36m(_tune pid=599)\u001b[0m                  clock        128          9      0.844      0.778      0.881      0.735\n",
      "\u001b[36m(_tune pid=599)\u001b[0m                   vase        128          2      0.508          1      0.995      0.945\n",
      "\u001b[36m(_tune pid=599)\u001b[0m               scissors        128          1      0.887          1      0.995      0.298\n",
      "\u001b[36m(_tune pid=599)\u001b[0m             teddy bear        128         21      0.755      0.667      0.758      0.516\n",
      "\u001b[36m(_tune pid=599)\u001b[0m             toothbrush        128          5      0.822          1      0.962      0.641\n",
      "\u001b[36m(_tune pid=599)\u001b[0m Speed: 2.2ms preprocess, 79.8ms inference, 0.0ms loss, 2.2ms postprocess per image\n",
      "\u001b[36m(_tune pid=599)\u001b[0m Results saved to \u001b[1mruns/detect/train\u001b[0m\n",
      "\u001b[36m(_tune pid=599)\u001b[0m \u001b[34m\u001b[1mMLflow: \u001b[0mresults logged to runs/mlflow\n",
      "\u001b[36m(_tune pid=599)\u001b[0m \u001b[34m\u001b[1mMLflow: \u001b[0mdisable with 'yolo settings mlflow=False'\n",
      "\u001b[36m(_tune pid=599)\u001b[0m Ultralytics YOLOv8.1.19 🚀 Python-3.10.13 torch-2.2.1 CPU (Intel Core(TM) i7-7700 3.60GHz)\n",
      "\u001b[36m(_tune pid=599)\u001b[0m \u001b[34m\u001b[1mengine/trainer: \u001b[0mtask=detect, mode=train, model=yolov8n.pt, data=coco128.yaml, epochs=10, time=None, patience=100, batch=16, imgsz=640, save=True, save_period=-1, cache=False, device=None, workers=8, project=None, name=train, exist_ok=False, pretrained=True, optimizer=auto, verbose=True, seed=0, deterministic=True, single_cls=False, rect=False, cos_lr=False, close_mosaic=10, resume=False, amp=True, fraction=1.0, profile=False, freeze=None, multi_scale=False, overlap_mask=True, mask_ratio=4, dropout=0.0, val=True, split=val, save_json=False, save_hybrid=False, conf=None, iou=0.7, max_det=300, half=False, dnn=False, plots=True, source=None, vid_stride=1, stream_buffer=False, visualize=False, augment=False, agnostic_nms=False, classes=None, retina_masks=False, embed=None, show=False, save_frames=False, save_txt=False, save_conf=False, save_crop=False, show_labels=True, show_conf=True, show_boxes=True, line_width=None, format=torchscript, keras=False, optimize=False, int8=False, dynamic=False, simplify=False, opset=None, workspace=4, nms=False, lr0=0.0047629126398267725, lrf=0.01, momentum=0.937, weight_decay=0.0005, warmup_epochs=3.0, warmup_momentum=0.8, warmup_bias_lr=0.1, box=7.5, cls=0.5, dfl=1.5, pose=12.0, kobj=1.0, label_smoothing=0.0, nbs=64, hsv_h=0.015, hsv_s=0.7, hsv_v=0.4, degrees=0.0, translate=0.1, scale=0.5, shear=0.0, perspective=0.0, flipud=0.0, fliplr=0.5, mosaic=1.0, mixup=0.0, copy_paste=0.0, auto_augment=randaugment, erasing=0.4, crop_fraction=1.0, cfg=None, tracker=botsort.yaml, save_dir=runs/detect/train\n",
      "\u001b[36m(_tune pid=599)\u001b[0m \n",
      "\u001b[36m(_tune pid=599)\u001b[0m                    from  n    params  module                                       arguments                     \n",
      "\u001b[36m(_tune pid=599)\u001b[0m   0                  -1  1       464  ultralytics.nn.modules.conv.Conv             [3, 16, 3, 2]                 \n",
      "\u001b[36m(_tune pid=599)\u001b[0m   1                  -1  1      4672  ultralytics.nn.modules.conv.Conv             [16, 32, 3, 2]                \n",
      "\u001b[36m(_tune pid=599)\u001b[0m   2                  -1  1      7360  ultralytics.nn.modules.block.C2f             [32, 32, 1, True]             \n",
      "\u001b[36m(_tune pid=599)\u001b[0m   3                  -1  1     18560  ultralytics.nn.modules.conv.Conv             [32, 64, 3, 2]                \n",
      "\u001b[36m(_tune pid=599)\u001b[0m   4                  -1  2     49664  ultralytics.nn.modules.block.C2f             [64, 64, 2, True]             \n",
      "\u001b[36m(_tune pid=599)\u001b[0m   5                  -1  1     73984  ultralytics.nn.modules.conv.Conv             [64, 128, 3, 2]               \n",
      "\u001b[36m(_tune pid=599)\u001b[0m   6                  -1  2    197632  ultralytics.nn.modules.block.C2f             [128, 128, 2, True]           \n",
      "\u001b[36m(_tune pid=599)\u001b[0m   7                  -1  1    295424  ultralytics.nn.modules.conv.Conv             [128, 256, 3, 2]              \n",
      "\u001b[36m(_tune pid=599)\u001b[0m   8                  -1  1    460288  ultralytics.nn.modules.block.C2f             [256, 256, 1, True]           \n",
      "\u001b[36m(_tune pid=599)\u001b[0m   9                  -1  1    164608  ultralytics.nn.modules.block.SPPF            [256, 256, 5]                 \n",
      "\u001b[36m(_tune pid=599)\u001b[0m  10                  -1  1         0  torch.nn.modules.upsampling.Upsample         [None, 2, 'nearest']          \n",
      "\u001b[36m(_tune pid=599)\u001b[0m  11             [-1, 6]  1         0  ultralytics.nn.modules.conv.Concat           [1]                           \n",
      "\u001b[36m(_tune pid=599)\u001b[0m  12                  -1  1    148224  ultralytics.nn.modules.block.C2f             [384, 128, 1]                 \n",
      "\u001b[36m(_tune pid=599)\u001b[0m  13                  -1  1         0  torch.nn.modules.upsampling.Upsample         [None, 2, 'nearest']          \n",
      "\u001b[36m(_tune pid=599)\u001b[0m  14             [-1, 4]  1         0  ultralytics.nn.modules.conv.Concat           [1]                           \n",
      "\u001b[36m(_tune pid=599)\u001b[0m  15                  -1  1     37248  ultralytics.nn.modules.block.C2f             [192, 64, 1]                  \n",
      "\u001b[36m(_tune pid=599)\u001b[0m  16                  -1  1     36992  ultralytics.nn.modules.conv.Conv             [64, 64, 3, 2]                \n",
      "\u001b[36m(_tune pid=599)\u001b[0m  17            [-1, 12]  1         0  ultralytics.nn.modules.conv.Concat           [1]                           \n",
      "\u001b[36m(_tune pid=599)\u001b[0m  18                  -1  1    123648  ultralytics.nn.modules.block.C2f             [192, 128, 1]                 \n",
      "\u001b[36m(_tune pid=599)\u001b[0m  19                  -1  1    147712  ultralytics.nn.modules.conv.Conv             [128, 128, 3, 2]              \n",
      "\u001b[36m(_tune pid=599)\u001b[0m  20             [-1, 9]  1         0  ultralytics.nn.modules.conv.Concat           [1]                           \n",
      "\u001b[36m(_tune pid=599)\u001b[0m  21                  -1  1    493056  ultralytics.nn.modules.block.C2f             [384, 256, 1]                 \n",
      "\u001b[36m(_tune pid=599)\u001b[0m  22        [15, 18, 21]  1    897664  ultralytics.nn.modules.head.Detect           [80, [64, 128, 256]]          \n",
      "\u001b[36m(_tune pid=599)\u001b[0m Model summary: 225 layers, 3157200 parameters, 3157184 gradients, 8.9 GFLOPs\n",
      "\u001b[36m(_tune pid=599)\u001b[0m \n",
      "\u001b[36m(_tune pid=599)\u001b[0m Transferred 355/355 items from pretrained weights\n",
      "\u001b[36m(_tune pid=599)\u001b[0m Freezing layer 'model.22.dfl.conv.weight'\n"
     ]
    },
    {
     "name": "stderr",
     "output_type": "stream",
     "text": [
      "\u001b[34m\u001b[1mtrain: \u001b[0mScanning /opt/app/notebooks/datasets/coco128/labels/train2017.cache... 126 images, 2 backgrounds, 0 corrupt: 100%|██████████| 128/128 [00:00<?, ?it/s]\n",
      "\u001b[34m\u001b[1mval: \u001b[0mScanning /opt/app/notebooks/datasets/coco128/labels/train2017.cache... 126 images, 2 backgrounds, 0 corrupt: 100%|██████████| 128/128 [00:00<?, ?it/s]\n"
     ]
    },
    {
     "name": "stdout",
     "output_type": "stream",
     "text": [
      "\u001b[36m(_tune pid=599)\u001b[0m Plotting labels to runs/detect/train/labels.jpg... \n"
     ]
    },
    {
     "name": "stderr",
     "output_type": "stream",
     "text": [
      "2024-02-28 16:20:06,635\tERROR tune_controller.py:1374 -- Trial task failed for trial _tune_c3722_00001\n",
      "Traceback (most recent call last):\n",
      "  File \"/opt/conda/lib/python3.10/site-packages/ray/air/execution/_internal/event_manager.py\", line 110, in resolve_future\n",
      "    result = ray.get(future)\n",
      "  File \"/opt/conda/lib/python3.10/site-packages/ray/_private/auto_init_hook.py\", line 22, in auto_init_wrapper\n",
      "    return fn(*args, **kwargs)\n",
      "  File \"/opt/conda/lib/python3.10/site-packages/ray/_private/client_mode_hook.py\", line 103, in wrapper\n",
      "    return func(*args, **kwargs)\n",
      "  File \"/opt/conda/lib/python3.10/site-packages/ray/_private/worker.py\", line 2624, in get\n",
      "    raise value.as_instanceof_cause()\n",
      "ray.exceptions.RayTaskError: \u001b[36mray::ImplicitFunc.train()\u001b[39m (pid=599, ip=172.17.0.2, actor_id=e3514d07031de561c0d9f60901000000, repr=_tune)\n",
      "  File \"/opt/conda/lib/python3.10/site-packages/ray/tune/trainable/trainable.py\", line 342, in train\n",
      "    raise skipped from exception_cause(skipped)\n",
      "  File \"/opt/conda/lib/python3.10/site-packages/ray/air/_internal/util.py\", line 88, in run\n",
      "    self._ret = self._target(*self._args, **self._kwargs)\n",
      "  File \"/opt/conda/lib/python3.10/site-packages/ray/tune/trainable/function_trainable.py\", line 249, in <lambda>\n",
      "    training_func=lambda: self._trainable_func(self.config),\n",
      "  File \"/opt/conda/lib/python3.10/site-packages/ray/tune/trainable/function_trainable.py\", line 332, in _trainable_func\n",
      "    output = fn()\n",
      "  File \"/opt/conda/lib/python3.10/site-packages/ultralytics/utils/tuner.py\", line 102, in _tune\n",
      "    results = model_to_train.train(**config)\n",
      "  File \"/opt/conda/lib/python3.10/site-packages/ultralytics/engine/model.py\", line 644, in train\n",
      "    self.trainer.train()\n",
      "  File \"/opt/conda/lib/python3.10/site-packages/ultralytics/engine/trainer.py\", line 208, in train\n",
      "    self._do_train(world_size)\n",
      "  File \"/opt/conda/lib/python3.10/site-packages/ultralytics/engine/trainer.py\", line 322, in _do_train\n",
      "    self._setup_train(world_size)\n",
      "  File \"/opt/conda/lib/python3.10/site-packages/ultralytics/engine/trainer.py\", line 316, in _setup_train\n",
      "    self.run_callbacks(\"on_pretrain_routine_end\")\n",
      "  File \"/opt/conda/lib/python3.10/site-packages/ultralytics/engine/trainer.py\", line 171, in run_callbacks\n",
      "    callback(self)\n",
      "  File \"/opt/conda/lib/python3.10/site-packages/ultralytics/utils/callbacks/mlflow.py\", line 71, in on_pretrain_routine_end\n",
      "    mlflow.set_experiment(experiment_name)\n",
      "  File \"/opt/conda/lib/python3.10/site-packages/mlflow/tracking/fluent.py\", line 138, in set_experiment\n",
      "    experiment = client.get_experiment_by_name(experiment_name)\n",
      "  File \"/opt/conda/lib/python3.10/site-packages/mlflow/tracking/client.py\", line 520, in get_experiment_by_name\n",
      "    return self._tracking_client.get_experiment_by_name(name)\n",
      "  File \"/opt/conda/lib/python3.10/site-packages/mlflow/tracking/_tracking_service/client.py\", line 221, in get_experiment_by_name\n",
      "    return self.store.get_experiment_by_name(name)\n",
      "  File \"/opt/conda/lib/python3.10/site-packages/mlflow/store/tracking/file_store.py\", line 327, in get_experiment_by_name\n",
      "    experiments = get_results_from_paginated_fn(\n",
      "  File \"/opt/conda/lib/python3.10/site-packages/mlflow/utils/__init__.py\", line 271, in get_results_from_paginated_fn\n",
      "    page_results = paginated_fn(max_results_per_page, next_page_token)\n",
      "  File \"/opt/conda/lib/python3.10/site-packages/mlflow/store/tracking/file_store.py\", line 320, in pagination_wrapper_func\n",
      "    return self.search_experiments(\n",
      "  File \"/opt/conda/lib/python3.10/site-packages/mlflow/store/tracking/file_store.py\", line 291, in search_experiments\n",
      "    self._check_root_dir()\n",
      "  File \"/opt/conda/lib/python3.10/site-packages/mlflow/store/tracking/file_store.py\", line 191, in _check_root_dir\n",
      "    raise Exception(f\"'{self.root_directory}' does not exist.\")\n",
      "Exception: 'runs/mlflow' does not exist.\n"
     ]
    },
    {
     "name": "stdout",
     "output_type": "stream",
     "text": [
      "\u001b[36m(_tune pid=599)\u001b[0m \u001b[34m\u001b[1moptimizer:\u001b[0m 'optimizer=auto' found, ignoring 'lr0=0.0047629126398267725' and 'momentum=0.937' and determining best 'optimizer', 'lr0' and 'momentum' automatically... \n",
      "\u001b[36m(_tune pid=599)\u001b[0m \u001b[34m\u001b[1moptimizer:\u001b[0m AdamW(lr=0.000119, momentum=0.9) with parameter groups 57 weight(decay=0.0), 64 weight(decay=0.0005), 63 bias(decay=0.0)\n",
      "\u001b[36m(_tune pid=963)\u001b[0m Ultralytics YOLOv8.1.19 🚀 Python-3.10.13 torch-2.2.1 CPU (Intel Core(TM) i7-7700 3.60GHz)\n",
      "\u001b[36m(_tune pid=963)\u001b[0m \u001b[34m\u001b[1mengine/trainer: \u001b[0mtask=detect, mode=train, model=yolov8n.pt, data=coco128.yaml, epochs=10, time=None, patience=100, batch=16, imgsz=640, save=True, save_period=-1, cache=False, device=None, workers=8, project=None, name=train, exist_ok=False, pretrained=True, optimizer=auto, verbose=True, seed=0, deterministic=True, single_cls=False, rect=False, cos_lr=False, close_mosaic=10, resume=False, amp=True, fraction=1.0, profile=False, freeze=None, multi_scale=False, overlap_mask=True, mask_ratio=4, dropout=0.0, val=True, split=val, save_json=False, save_hybrid=False, conf=None, iou=0.7, max_det=300, half=False, dnn=False, plots=True, source=None, vid_stride=1, stream_buffer=False, visualize=False, augment=False, agnostic_nms=False, classes=None, retina_masks=False, embed=None, show=False, save_frames=False, save_txt=False, save_conf=False, save_crop=False, show_labels=True, show_conf=True, show_boxes=True, line_width=None, format=torchscript, keras=False, optimize=False, int8=False, dynamic=False, simplify=False, opset=None, workspace=4, nms=False, lr0=0.04889303101679309, lrf=0.01, momentum=0.937, weight_decay=0.0005, warmup_epochs=3.0, warmup_momentum=0.8, warmup_bias_lr=0.1, box=7.5, cls=0.5, dfl=1.5, pose=12.0, kobj=1.0, label_smoothing=0.0, nbs=64, hsv_h=0.015, hsv_s=0.7, hsv_v=0.4, degrees=0.0, translate=0.1, scale=0.5, shear=0.0, perspective=0.0, flipud=0.0, fliplr=0.5, mosaic=1.0, mixup=0.0, copy_paste=0.0, auto_augment=randaugment, erasing=0.4, crop_fraction=1.0, cfg=None, tracker=botsort.yaml, save_dir=runs/detect/train\n",
      "\u001b[36m(_tune pid=963)\u001b[0m \n",
      "\u001b[36m(_tune pid=963)\u001b[0m                    from  n    params  module                                       arguments                     \n",
      "\u001b[36m(_tune pid=963)\u001b[0m   0                  -1  1       464  ultralytics.nn.modules.conv.Conv             [3, 16, 3, 2]                 \n",
      "\u001b[36m(_tune pid=963)\u001b[0m   1                  -1  1      4672  ultralytics.nn.modules.conv.Conv             [16, 32, 3, 2]                \n",
      "\u001b[36m(_tune pid=963)\u001b[0m   2                  -1  1      7360  ultralytics.nn.modules.block.C2f             [32, 32, 1, True]             \n",
      "\u001b[36m(_tune pid=963)\u001b[0m   3                  -1  1     18560  ultralytics.nn.modules.conv.Conv             [32, 64, 3, 2]                \n",
      "\u001b[36m(_tune pid=963)\u001b[0m   4                  -1  2     49664  ultralytics.nn.modules.block.C2f             [64, 64, 2, True]             \n",
      "\u001b[36m(_tune pid=963)\u001b[0m   5                  -1  1     73984  ultralytics.nn.modules.conv.Conv             [64, 128, 3, 2]               \n",
      "\u001b[36m(_tune pid=963)\u001b[0m   6                  -1  2    197632  ultralytics.nn.modules.block.C2f             [128, 128, 2, True]           \n",
      "\u001b[36m(_tune pid=963)\u001b[0m   7                  -1  1    295424  ultralytics.nn.modules.conv.Conv             [128, 256, 3, 2]              \n",
      "\u001b[36m(_tune pid=963)\u001b[0m   8                  -1  1    460288  ultralytics.nn.modules.block.C2f             [256, 256, 1, True]           \n",
      "\u001b[36m(_tune pid=963)\u001b[0m   9                  -1  1    164608  ultralytics.nn.modules.block.SPPF            [256, 256, 5]                 \n",
      "\u001b[36m(_tune pid=963)\u001b[0m  10                  -1  1         0  torch.nn.modules.upsampling.Upsample         [None, 2, 'nearest']          \n",
      "\u001b[36m(_tune pid=963)\u001b[0m  11             [-1, 6]  1         0  ultralytics.nn.modules.conv.Concat           [1]                           \n",
      "\u001b[36m(_tune pid=963)\u001b[0m  12                  -1  1    148224  ultralytics.nn.modules.block.C2f             [384, 128, 1]                 \n",
      "\u001b[36m(_tune pid=963)\u001b[0m  13                  -1  1         0  torch.nn.modules.upsampling.Upsample         [None, 2, 'nearest']          \n",
      "\u001b[36m(_tune pid=963)\u001b[0m  14             [-1, 4]  1         0  ultralytics.nn.modules.conv.Concat           [1]                           \n",
      "\u001b[36m(_tune pid=963)\u001b[0m  15                  -1  1     37248  ultralytics.nn.modules.block.C2f             [192, 64, 1]                  \n",
      "\u001b[36m(_tune pid=963)\u001b[0m  16                  -1  1     36992  ultralytics.nn.modules.conv.Conv             [64, 64, 3, 2]                \n",
      "\u001b[36m(_tune pid=963)\u001b[0m  17            [-1, 12]  1         0  ultralytics.nn.modules.conv.Concat           [1]                           \n",
      "\u001b[36m(_tune pid=963)\u001b[0m  18                  -1  1    123648  ultralytics.nn.modules.block.C2f             [192, 128, 1]                 \n",
      "\u001b[36m(_tune pid=963)\u001b[0m  19                  -1  1    147712  ultralytics.nn.modules.conv.Conv             [128, 128, 3, 2]              \n",
      "\u001b[36m(_tune pid=963)\u001b[0m  20             [-1, 9]  1         0  ultralytics.nn.modules.conv.Concat           [1]                           \n",
      "\u001b[36m(_tune pid=963)\u001b[0m  21                  -1  1    493056  ultralytics.nn.modules.block.C2f             [384, 256, 1]                 \n",
      "\u001b[36m(_tune pid=963)\u001b[0m  22        [15, 18, 21]  1    897664  ultralytics.nn.modules.head.Detect           [80, [64, 128, 256]]          \n"
     ]
    },
    {
     "name": "stderr",
     "output_type": "stream",
     "text": [
      "\u001b[34m\u001b[1mval: \u001b[0mScanning /opt/app/notebooks/datasets/coco128/labels/train2017.cache... 126 images, 2 backgrounds, 0 corrupt: 100%|██████████| 128/128 [00:00<?, ?it/s]\u001b[32m [repeated 2x across cluster] (Ray deduplicates logs by default. Set RAY_DEDUP_LOGS=0 to disable log deduplication, or see https://docs.ray.io/en/master/ray-observability/ray-logging.html#log-deduplication for more options.)\u001b[0m\n"
     ]
    },
    {
     "name": "stdout",
     "output_type": "stream",
     "text": [
      "\u001b[36m(_tune pid=963)\u001b[0m Model summary: 225 layers, 3157200 parameters, 3157184 gradients, 8.9 GFLOPs\n",
      "\u001b[36m(_tune pid=963)\u001b[0m \n",
      "\u001b[36m(_tune pid=963)\u001b[0m Transferred 355/355 items from pretrained weights\n",
      "\u001b[36m(_tune pid=963)\u001b[0m Freezing layer 'model.22.dfl.conv.weight'\n",
      "\u001b[36m(_tune pid=963)\u001b[0m Plotting labels to runs/detect/train/labels.jpg... \n"
     ]
    },
    {
     "name": "stderr",
     "output_type": "stream",
     "text": [
      "\u001b[36m(_tune pid=963)\u001b[0m 2024/02/28 16:20:16 INFO mlflow.tracking.fluent: Experiment with name '/Shared/YOLOv8' does not exist. Creating a new experiment.\n",
      "  0%|          | 0/8 [00:00<?, ?it/s]\n"
     ]
    },
    {
     "name": "stdout",
     "output_type": "stream",
     "text": [
      "\u001b[36m(_tune pid=963)\u001b[0m \u001b[34m\u001b[1moptimizer:\u001b[0m 'optimizer=auto' found, ignoring 'lr0=0.04889303101679309' and 'momentum=0.937' and determining best 'optimizer', 'lr0' and 'momentum' automatically... \n",
      "\u001b[36m(_tune pid=963)\u001b[0m \u001b[34m\u001b[1moptimizer:\u001b[0m AdamW(lr=0.000119, momentum=0.9) with parameter groups 57 weight(decay=0.0), 64 weight(decay=0.0005), 63 bias(decay=0.0)\n",
      "\u001b[36m(_tune pid=963)\u001b[0m \u001b[34m\u001b[1mMLflow: \u001b[0mlogging run_id(d15e9db4b94b404db22113b0353229f3) to runs/mlflow\n",
      "\u001b[36m(_tune pid=963)\u001b[0m \u001b[34m\u001b[1mMLflow: \u001b[0mview at http://127.0.0.1:5000 with 'mlflow server --backend-store-uri runs/mlflow'\n",
      "\u001b[36m(_tune pid=963)\u001b[0m \u001b[34m\u001b[1mMLflow: \u001b[0mdisable with 'yolo settings mlflow=False'\n",
      "\u001b[36m(_tune pid=963)\u001b[0m Image sizes 640 train, 640 val\n",
      "\u001b[36m(_tune pid=963)\u001b[0m Using 0 dataloader workers\n",
      "\u001b[36m(_tune pid=963)\u001b[0m Logging results to \u001b[1mruns/detect/train\u001b[0m\n",
      "\u001b[36m(_tune pid=963)\u001b[0m Starting training for 10 epochs...\n",
      "\u001b[36m(_tune pid=963)\u001b[0m Closing dataloader mosaic\n",
      "\u001b[36m(_tune pid=963)\u001b[0m \n",
      "\u001b[36m(_tune pid=963)\u001b[0m       Epoch    GPU_mem   box_loss   cls_loss   dfl_loss  Instances       Size\n"
     ]
    },
    {
     "name": "stderr",
     "output_type": "stream",
     "text": [
      "       1/10         0G      1.119      1.554      1.207        111        640:  12%|█▎        | 1/8 [00:05<00:38,  5.52s/it]\n",
      "       1/10         0G      1.111      1.396      1.197         98        640:  25%|██▌       | 2/8 [00:10<00:32,  5.38s/it]\n",
      "       1/10         0G      1.182      1.502      1.236        134        640:  38%|███▊      | 3/8 [00:16<00:26,  5.33s/it]\n",
      "       1/10         0G      1.233        1.5      1.256        136        640:  50%|█████     | 4/8 [00:21<00:21,  5.40s/it]\n",
      "       1/10         0G      1.249      1.474      1.246        120        640:  62%|██████▎   | 5/8 [00:26<00:16,  5.35s/it]\n",
      "       1/10         0G      1.247      1.449      1.259         98        640:  75%|███████▌  | 6/8 [00:31<00:10,  5.28s/it]\n",
      "       1/10         0G      1.241      1.444       1.25        116        640:  88%|████████▊ | 7/8 [00:36<00:05,  5.17s/it]\n",
      "       1/10         0G      1.231      1.419      1.242         75        640: 100%|██████████| 8/8 [00:42<00:00,  5.26s/it]\n",
      "                 Class     Images  Instances      Box(P          R      mAP50  mAP50-95):   0%|          | 0/4 [00:00<?, ?it/s]\n",
      "                 Class     Images  Instances      Box(P          R      mAP50  mAP50-95):  25%|██▌       | 1/4 [00:02<00:08,  2.81s/it]\n",
      "                 Class     Images  Instances      Box(P          R      mAP50  mAP50-95):  50%|█████     | 2/4 [00:06<00:06,  3.11s/it]\n",
      "                 Class     Images  Instances      Box(P          R      mAP50  mAP50-95):  75%|███████▌  | 3/4 [00:11<00:03,  3.92s/it]\n",
      "                 Class     Images  Instances      Box(P          R      mAP50  mAP50-95): 100%|██████████| 4/4 [00:14<00:00,  3.72s/it]\n"
     ]
    },
    {
     "name": "stdout",
     "output_type": "stream",
     "text": [
      "\u001b[36m(_tune pid=963)\u001b[0m                    all        128        929      0.668      0.523      0.613      0.452\n"
     ]
    },
    {
     "name": "stderr",
     "output_type": "stream",
     "text": [
      "  0%|          | 0/8 [00:00<?, ?it/s]\n"
     ]
    },
    {
     "name": "stdout",
     "output_type": "stream",
     "text": [
      "\u001b[36m(_tune pid=963)\u001b[0m \n",
      "\u001b[36m(_tune pid=963)\u001b[0m       Epoch    GPU_mem   box_loss   cls_loss   dfl_loss  Instances       Size\n"
     ]
    },
    {
     "name": "stderr",
     "output_type": "stream",
     "text": [
      "       2/10         0G      1.205      1.457      1.236         94        640:  12%|█▎        | 1/8 [00:05<00:36,  5.16s/it]\n",
      "       2/10         0G      1.148      1.477      1.263         85        640:  25%|██▌       | 2/8 [00:10<00:30,  5.14s/it]\n",
      "       2/10         0G      1.151      1.441      1.226        138        640:  38%|███▊      | 3/8 [00:15<00:25,  5.13s/it]\n",
      "       2/10         0G      1.173      1.442      1.221        147        640:  50%|█████     | 4/8 [00:20<00:20,  5.12s/it]\n",
      "       2/10         0G      1.148      1.443        1.2         75        640:  62%|██████▎   | 5/8 [00:25<00:15,  5.05s/it]\n",
      "       2/10         0G      1.138      1.395      1.191        114        640:  75%|███████▌  | 6/8 [00:30<00:10,  5.03s/it]\n",
      "       2/10         0G      1.167      1.407      1.211        131        640:  88%|████████▊ | 7/8 [00:35<00:05,  5.09s/it]\n",
      "       2/10         0G      1.156      1.352        1.2        103        640: 100%|██████████| 8/8 [00:40<00:00,  5.12s/it]\n",
      "                 Class     Images  Instances      Box(P          R      mAP50  mAP50-95):   0%|          | 0/4 [00:00<?, ?it/s]\n",
      "                 Class     Images  Instances      Box(P          R      mAP50  mAP50-95):  25%|██▌       | 1/4 [00:02<00:08,  2.96s/it]\n",
      "                 Class     Images  Instances      Box(P          R      mAP50  mAP50-95):  50%|█████     | 2/4 [00:06<00:06,  3.09s/it]\n",
      "                 Class     Images  Instances      Box(P          R      mAP50  mAP50-95):  75%|███████▌  | 3/4 [00:10<00:03,  3.76s/it]\n",
      "                 Class     Images  Instances      Box(P          R      mAP50  mAP50-95): 100%|██████████| 4/4 [00:14<00:00,  3.67s/it]\n"
     ]
    },
    {
     "name": "stdout",
     "output_type": "stream",
     "text": [
      "\u001b[36m(_tune pid=963)\u001b[0m                    all        128        929      0.671       0.57      0.637      0.472\n"
     ]
    },
    {
     "name": "stderr",
     "output_type": "stream",
     "text": [
      "  0%|          | 0/8 [00:00<?, ?it/s]\n"
     ]
    },
    {
     "name": "stdout",
     "output_type": "stream",
     "text": [
      "\u001b[36m(_tune pid=963)\u001b[0m \n",
      "\u001b[36m(_tune pid=963)\u001b[0m       Epoch    GPU_mem   box_loss   cls_loss   dfl_loss  Instances       Size\n"
     ]
    },
    {
     "name": "stderr",
     "output_type": "stream",
     "text": [
      "       3/10         0G      1.213       1.21      1.271        103        640:  12%|█▎        | 1/8 [00:06<00:42,  6.10s/it]\n",
      "       3/10         0G      1.104      1.182      1.217         90        640:  25%|██▌       | 2/8 [00:11<00:33,  5.53s/it]\n",
      "       3/10         0G       1.12      1.258      1.207        140        640:  38%|███▊      | 3/8 [00:16<00:27,  5.54s/it]\n",
      "       3/10         0G      1.131      1.256      1.195         86        640:  50%|█████     | 4/8 [00:22<00:21,  5.45s/it]\n",
      "       3/10         0G      1.136      1.305      1.206         84        640:  62%|██████▎   | 5/8 [00:27<00:16,  5.42s/it]\n",
      "       3/10         0G      1.145        1.3      1.204        132        640:  75%|███████▌  | 6/8 [00:32<00:10,  5.33s/it]\n",
      "       3/10         0G      1.159      1.284        1.2        134        640:  88%|████████▊ | 7/8 [00:38<00:05,  5.38s/it]\n",
      "       3/10         0G      1.167       1.28      1.195        110        640: 100%|██████████| 8/8 [00:43<00:00,  5.45s/it]\n",
      "                 Class     Images  Instances      Box(P          R      mAP50  mAP50-95):   0%|          | 0/4 [00:00<?, ?it/s]\n",
      "                 Class     Images  Instances      Box(P          R      mAP50  mAP50-95):  25%|██▌       | 1/4 [00:02<00:08,  2.76s/it]\n",
      "                 Class     Images  Instances      Box(P          R      mAP50  mAP50-95):  50%|█████     | 2/4 [00:05<00:06,  3.02s/it]\n",
      "                 Class     Images  Instances      Box(P          R      mAP50  mAP50-95):  75%|███████▌  | 3/4 [00:10<00:03,  3.80s/it]\n",
      "                 Class     Images  Instances      Box(P          R      mAP50  mAP50-95): 100%|██████████| 4/4 [00:14<00:00,  3.69s/it]\n"
     ]
    },
    {
     "name": "stdout",
     "output_type": "stream",
     "text": [
      "\u001b[36m(_tune pid=963)\u001b[0m                    all        128        929      0.669      0.568      0.649      0.483\n"
     ]
    },
    {
     "name": "stderr",
     "output_type": "stream",
     "text": [
      "  0%|          | 0/8 [00:00<?, ?it/s]\n"
     ]
    },
    {
     "name": "stdout",
     "output_type": "stream",
     "text": [
      "\u001b[36m(_tune pid=963)\u001b[0m \n",
      "\u001b[36m(_tune pid=963)\u001b[0m       Epoch    GPU_mem   box_loss   cls_loss   dfl_loss  Instances       Size\n"
     ]
    },
    {
     "name": "stderr",
     "output_type": "stream",
     "text": [
      "       4/10         0G      1.155      1.381      1.342         50        640:  12%|█▎        | 1/8 [00:05<00:35,  5.14s/it]\n",
      "       4/10         0G      1.162      1.303       1.22        160        640:  25%|██▌       | 2/8 [00:10<00:31,  5.30s/it]\n",
      "       4/10         0G      1.161      1.268      1.219        121        640:  38%|███▊      | 3/8 [00:15<00:26,  5.29s/it]\n",
      "       4/10         0G      1.164      1.294      1.218        111        640:  50%|█████     | 4/8 [00:20<00:20,  5.24s/it]\n",
      "       4/10         0G      1.167       1.27      1.206         83        640:  62%|██████▎   | 5/8 [00:26<00:15,  5.26s/it]\n",
      "       4/10         0G      1.163      1.296        1.2        147        640:  75%|███████▌  | 6/8 [00:31<00:10,  5.37s/it]\n",
      "       4/10         0G      1.167      1.311      1.206        102        640:  88%|████████▊ | 7/8 [00:37<00:05,  5.43s/it]\n",
      "       4/10         0G      1.147        1.3        1.2         91        640: 100%|██████████| 8/8 [00:42<00:00,  5.36s/it]\n",
      "                 Class     Images  Instances      Box(P          R      mAP50  mAP50-95):   0%|          | 0/4 [00:00<?, ?it/s]\n",
      "                 Class     Images  Instances      Box(P          R      mAP50  mAP50-95):  25%|██▌       | 1/4 [00:02<00:08,  2.92s/it]\n",
      "                 Class     Images  Instances      Box(P          R      mAP50  mAP50-95):  50%|█████     | 2/4 [00:06<00:06,  3.15s/it]\n",
      "                 Class     Images  Instances      Box(P          R      mAP50  mAP50-95):  75%|███████▌  | 3/4 [00:10<00:03,  3.77s/it]\n",
      "                 Class     Images  Instances      Box(P          R      mAP50  mAP50-95): 100%|██████████| 4/4 [00:14<00:00,  3.70s/it]\n"
     ]
    },
    {
     "name": "stdout",
     "output_type": "stream",
     "text": [
      "\u001b[36m(_tune pid=963)\u001b[0m                    all        128        929      0.674      0.598       0.67      0.495\n"
     ]
    },
    {
     "name": "stderr",
     "output_type": "stream",
     "text": [
      "  0%|          | 0/8 [00:00<?, ?it/s]\n"
     ]
    },
    {
     "name": "stdout",
     "output_type": "stream",
     "text": [
      "\u001b[36m(_tune pid=963)\u001b[0m \n",
      "\u001b[36m(_tune pid=963)\u001b[0m       Epoch    GPU_mem   box_loss   cls_loss   dfl_loss  Instances       Size\n"
     ]
    },
    {
     "name": "stderr",
     "output_type": "stream",
     "text": [
      "       5/10         0G      1.061      1.259      1.136         93        640:  12%|█▎        | 1/8 [00:05<00:37,  5.40s/it]\n",
      "       5/10         0G      1.166      1.334      1.161        170        640:  25%|██▌       | 2/8 [00:10<00:31,  5.20s/it]\n",
      "       5/10         0G        1.1       1.21      1.128         82        640:  38%|███▊      | 3/8 [00:15<00:26,  5.33s/it]\n",
      "       5/10         0G      1.095      1.202      1.118         80        640:  50%|█████     | 4/8 [00:21<00:21,  5.36s/it]\n",
      "       5/10         0G      1.109      1.226      1.125        111        640:  62%|██████▎   | 5/8 [00:26<00:16,  5.41s/it]\n",
      "       5/10         0G       1.15      1.288      1.168        162        640:  75%|███████▌  | 6/8 [00:32<00:10,  5.45s/it]\n",
      "       5/10         0G      1.153      1.265      1.172        137        640:  88%|████████▊ | 7/8 [00:38<00:05,  5.54s/it]\n",
      "       5/10         0G      1.112      1.233      1.166         52        640: 100%|██████████| 8/8 [00:43<00:00,  5.41s/it]\n",
      "                 Class     Images  Instances      Box(P          R      mAP50  mAP50-95):   0%|          | 0/4 [00:00<?, ?it/s]\n",
      "                 Class     Images  Instances      Box(P          R      mAP50  mAP50-95):  25%|██▌       | 1/4 [00:03<00:09,  3.03s/it]\n",
      "                 Class     Images  Instances      Box(P          R      mAP50  mAP50-95):  50%|█████     | 2/4 [00:06<00:06,  3.04s/it]\n",
      "                 Class     Images  Instances      Box(P          R      mAP50  mAP50-95):  75%|███████▌  | 3/4 [00:10<00:03,  3.84s/it]\n",
      "                 Class     Images  Instances      Box(P          R      mAP50  mAP50-95): 100%|██████████| 4/4 [00:14<00:00,  3.67s/it]\n"
     ]
    },
    {
     "name": "stdout",
     "output_type": "stream",
     "text": [
      "\u001b[36m(_tune pid=963)\u001b[0m                    all        128        929      0.678       0.61      0.681      0.502\n"
     ]
    },
    {
     "name": "stderr",
     "output_type": "stream",
     "text": [
      "  0%|          | 0/8 [00:00<?, ?it/s]\n"
     ]
    },
    {
     "name": "stdout",
     "output_type": "stream",
     "text": [
      "\u001b[36m(_tune pid=963)\u001b[0m \n",
      "\u001b[36m(_tune pid=963)\u001b[0m       Epoch    GPU_mem   box_loss   cls_loss   dfl_loss  Instances       Size\n"
     ]
    },
    {
     "name": "stderr",
     "output_type": "stream",
     "text": [
      "       6/10         0G      1.196      1.348      1.189        107        640:  12%|█▎        | 1/8 [00:05<00:38,  5.47s/it]\n",
      "       6/10         0G       1.15      1.242      1.185        151        640:  25%|██▌       | 2/8 [00:11<00:33,  5.58s/it]\n",
      "       6/10         0G      1.217       1.25      1.196        117        640:  38%|███▊      | 3/8 [00:16<00:27,  5.56s/it]\n",
      "       6/10         0G      1.161      1.171      1.175         90        640:  50%|█████     | 4/8 [00:21<00:21,  5.36s/it]\n",
      "       6/10         0G      1.191      1.236      1.188        194        640:  62%|██████▎   | 5/8 [00:27<00:16,  5.35s/it]\n",
      "       6/10         0G      1.145       1.25      1.175         63        640:  75%|███████▌  | 6/8 [00:32<00:10,  5.41s/it]\n",
      "       6/10         0G       1.13      1.231      1.174         79        640:  88%|████████▊ | 7/8 [00:38<00:05,  5.42s/it]\n",
      "       6/10         0G      1.102      1.202      1.166        102        640: 100%|██████████| 8/8 [00:43<00:00,  5.43s/it]\n",
      "                 Class     Images  Instances      Box(P          R      mAP50  mAP50-95):   0%|          | 0/4 [00:00<?, ?it/s]\n",
      "                 Class     Images  Instances      Box(P          R      mAP50  mAP50-95):  25%|██▌       | 1/4 [00:02<00:08,  2.97s/it]\n",
      "                 Class     Images  Instances      Box(P          R      mAP50  mAP50-95):  50%|█████     | 2/4 [00:06<00:06,  3.20s/it]\n",
      "                 Class     Images  Instances      Box(P          R      mAP50  mAP50-95):  75%|███████▌  | 3/4 [00:10<00:03,  3.83s/it]\n",
      "                 Class     Images  Instances      Box(P          R      mAP50  mAP50-95): 100%|██████████| 4/4 [00:14<00:00,  3.63s/it]\n"
     ]
    },
    {
     "name": "stdout",
     "output_type": "stream",
     "text": [
      "\u001b[36m(_tune pid=963)\u001b[0m                    all        128        929       0.71      0.634      0.697      0.514\n"
     ]
    },
    {
     "name": "stderr",
     "output_type": "stream",
     "text": [
      "  0%|          | 0/8 [00:00<?, ?it/s]\n"
     ]
    },
    {
     "name": "stdout",
     "output_type": "stream",
     "text": [
      "\u001b[36m(_tune pid=963)\u001b[0m \n",
      "\u001b[36m(_tune pid=963)\u001b[0m       Epoch    GPU_mem   box_loss   cls_loss   dfl_loss  Instances       Size\n"
     ]
    },
    {
     "name": "stderr",
     "output_type": "stream",
     "text": [
      "       7/10         0G        1.2      1.367      1.186         92        640:  12%|█▎        | 1/8 [00:05<00:38,  5.51s/it]\n",
      "       7/10         0G       1.16      1.247      1.158        132        640:  25%|██▌       | 2/8 [00:10<00:32,  5.45s/it]\n",
      "       7/10         0G      1.108      1.249      1.157        103        640:  38%|███▊      | 3/8 [00:16<00:27,  5.52s/it]\n",
      "       7/10         0G      1.118      1.227      1.164         99        640:  50%|█████     | 4/8 [00:21<00:21,  5.42s/it]\n",
      "       7/10         0G      1.093      1.195       1.15         60        640:  62%|██████▎   | 5/8 [00:27<00:16,  5.36s/it]\n",
      "       7/10         0G      1.112        1.2      1.161        142        640:  75%|███████▌  | 6/8 [00:32<00:10,  5.41s/it]\n",
      "       7/10         0G       1.08      1.163      1.144         82        640:  88%|████████▊ | 7/8 [00:37<00:05,  5.29s/it]\n",
      "       7/10         0G      1.105      1.195      1.161        190        640: 100%|██████████| 8/8 [00:42<00:00,  5.37s/it]\n",
      "                 Class     Images  Instances      Box(P          R      mAP50  mAP50-95):   0%|          | 0/4 [00:00<?, ?it/s]\n",
      "                 Class     Images  Instances      Box(P          R      mAP50  mAP50-95):  25%|██▌       | 1/4 [00:02<00:08,  2.85s/it]\n",
      "                 Class     Images  Instances      Box(P          R      mAP50  mAP50-95):  50%|█████     | 2/4 [00:06<00:06,  3.12s/it]\n",
      "                 Class     Images  Instances      Box(P          R      mAP50  mAP50-95):  75%|███████▌  | 3/4 [00:11<00:03,  3.98s/it]\n",
      "                 Class     Images  Instances      Box(P          R      mAP50  mAP50-95): 100%|██████████| 4/4 [00:15<00:00,  3.78s/it]\n"
     ]
    },
    {
     "name": "stdout",
     "output_type": "stream",
     "text": [
      "\u001b[36m(_tune pid=963)\u001b[0m                    all        128        929      0.688      0.659      0.701      0.518\n"
     ]
    },
    {
     "name": "stderr",
     "output_type": "stream",
     "text": [
      "  0%|          | 0/8 [00:00<?, ?it/s]\n"
     ]
    },
    {
     "name": "stdout",
     "output_type": "stream",
     "text": [
      "\u001b[36m(_tune pid=963)\u001b[0m \n",
      "\u001b[36m(_tune pid=963)\u001b[0m       Epoch    GPU_mem   box_loss   cls_loss   dfl_loss  Instances       Size\n"
     ]
    },
    {
     "name": "stderr",
     "output_type": "stream",
     "text": [
      "       8/10         0G      1.192      1.194      1.342         97        640:  12%|█▎        | 1/8 [00:05<00:35,  5.09s/it]\n",
      "       8/10         0G      1.219      1.208      1.259        170        640:  25%|██▌       | 2/8 [00:10<00:30,  5.12s/it]\n",
      "       8/10         0G      1.173      1.214      1.228        134        640:  38%|███▊      | 3/8 [00:15<00:25,  5.19s/it]\n",
      "       8/10         0G      1.101      1.193      1.195         95        640:  50%|█████     | 4/8 [00:20<00:20,  5.11s/it]\n",
      "       8/10         0G      1.095       1.21      1.163         83        640:  62%|██████▎   | 5/8 [00:25<00:15,  5.14s/it]\n",
      "       8/10         0G      1.097      1.207      1.153         78        640:  75%|███████▌  | 6/8 [00:31<00:10,  5.22s/it]\n",
      "       8/10         0G      1.082      1.189      1.152         88        640:  88%|████████▊ | 7/8 [00:36<00:05,  5.27s/it]\n",
      "       8/10         0G      1.098      1.192      1.154        150        640: 100%|██████████| 8/8 [00:41<00:00,  5.24s/it]\n",
      "                 Class     Images  Instances      Box(P          R      mAP50  mAP50-95):   0%|          | 0/4 [00:00<?, ?it/s]\n",
      "                 Class     Images  Instances      Box(P          R      mAP50  mAP50-95):  25%|██▌       | 1/4 [00:03<00:09,  3.00s/it]\n",
      "                 Class     Images  Instances      Box(P          R      mAP50  mAP50-95):  50%|█████     | 2/4 [00:06<00:06,  3.17s/it]\n",
      "                 Class     Images  Instances      Box(P          R      mAP50  mAP50-95):  75%|███████▌  | 3/4 [00:11<00:04,  4.02s/it]\n",
      "                 Class     Images  Instances      Box(P          R      mAP50  mAP50-95): 100%|██████████| 4/4 [00:15<00:00,  3.81s/it]\n"
     ]
    },
    {
     "name": "stdout",
     "output_type": "stream",
     "text": [
      "\u001b[36m(_tune pid=963)\u001b[0m                    all        128        929      0.677      0.673      0.707      0.523\n"
     ]
    },
    {
     "name": "stderr",
     "output_type": "stream",
     "text": [
      "  0%|          | 0/8 [00:00<?, ?it/s]\n"
     ]
    },
    {
     "name": "stdout",
     "output_type": "stream",
     "text": [
      "\u001b[36m(_tune pid=963)\u001b[0m \n",
      "\u001b[36m(_tune pid=963)\u001b[0m       Epoch    GPU_mem   box_loss   cls_loss   dfl_loss  Instances       Size\n"
     ]
    },
    {
     "name": "stderr",
     "output_type": "stream",
     "text": [
      "       9/10         0G      1.313      1.564      1.356         96        640:  12%|█▎        | 1/8 [00:05<00:37,  5.43s/it]\n",
      "       9/10         0G      1.224       1.36      1.291        102        640:  25%|██▌       | 2/8 [00:11<00:34,  5.82s/it]\n",
      "       9/10         0G      1.229      1.318      1.267        139        640:  38%|███▊      | 3/8 [00:16<00:28,  5.63s/it]\n",
      "       9/10         0G      1.198      1.231      1.229        121        640:  50%|█████     | 4/8 [00:22<00:22,  5.59s/it]\n",
      "       9/10         0G      1.156       1.22      1.227        101        640:  62%|██████▎   | 5/8 [00:27<00:16,  5.48s/it]\n",
      "       9/10         0G      1.124       1.19      1.205         74        640:  75%|███████▌  | 6/8 [00:33<00:10,  5.48s/it]\n",
      "       9/10         0G      1.123      1.197      1.195        157        640:  88%|████████▊ | 7/8 [00:38<00:05,  5.48s/it]\n",
      "       9/10         0G      1.118      1.196      1.189        104        640: 100%|██████████| 8/8 [00:44<00:00,  5.53s/it]\n",
      "                 Class     Images  Instances      Box(P          R      mAP50  mAP50-95):   0%|          | 0/4 [00:00<?, ?it/s]\n",
      "                 Class     Images  Instances      Box(P          R      mAP50  mAP50-95):  25%|██▌       | 1/4 [00:03<00:09,  3.05s/it]\n",
      "                 Class     Images  Instances      Box(P          R      mAP50  mAP50-95):  50%|█████     | 2/4 [00:06<00:06,  3.30s/it]\n",
      "                 Class     Images  Instances      Box(P          R      mAP50  mAP50-95):  75%|███████▌  | 3/4 [00:11<00:04,  4.07s/it]\n",
      "                 Class     Images  Instances      Box(P          R      mAP50  mAP50-95): 100%|██████████| 4/4 [00:15<00:00,  3.90s/it]\n"
     ]
    },
    {
     "name": "stdout",
     "output_type": "stream",
     "text": [
      "\u001b[36m(_tune pid=963)\u001b[0m                    all        128        929      0.683       0.68      0.711      0.528\n"
     ]
    },
    {
     "name": "stderr",
     "output_type": "stream",
     "text": [
      "  0%|          | 0/8 [00:00<?, ?it/s]\n"
     ]
    },
    {
     "name": "stdout",
     "output_type": "stream",
     "text": [
      "\u001b[36m(_tune pid=963)\u001b[0m \n",
      "\u001b[36m(_tune pid=963)\u001b[0m       Epoch    GPU_mem   box_loss   cls_loss   dfl_loss  Instances       Size\n"
     ]
    },
    {
     "name": "stderr",
     "output_type": "stream",
     "text": [
      "      10/10         0G     0.9821      1.097      1.028         89        640:  12%|█▎        | 1/8 [00:05<00:38,  5.45s/it]\n",
      "      10/10         0G       1.11       1.09      1.122         93        640:  25%|██▌       | 2/8 [00:10<00:32,  5.44s/it]\n",
      "      10/10         0G      1.087      1.134      1.126        111        640:  38%|███▊      | 3/8 [00:16<00:27,  5.42s/it]\n",
      "      10/10         0G      1.064      1.099      1.149         90        640:  50%|█████     | 4/8 [00:21<00:21,  5.30s/it]\n",
      "      10/10         0G       1.04      1.115      1.162         77        640:  62%|██████▎   | 5/8 [00:26<00:16,  5.34s/it]\n",
      "      10/10         0G      1.073      1.144      1.164        187        640:  75%|███████▌  | 6/8 [00:32<00:10,  5.41s/it]\n",
      "      10/10         0G      1.068      1.151      1.168        131        640:  88%|████████▊ | 7/8 [00:37<00:05,  5.43s/it]\n",
      "      10/10         0G      1.078      1.147      1.163        112        640: 100%|██████████| 8/8 [00:43<00:00,  5.42s/it]\n",
      "                 Class     Images  Instances      Box(P          R      mAP50  mAP50-95):   0%|          | 0/4 [00:00<?, ?it/s]\n",
      "                 Class     Images  Instances      Box(P          R      mAP50  mAP50-95):  25%|██▌       | 1/4 [00:03<00:10,  3.41s/it]\n",
      "                 Class     Images  Instances      Box(P          R      mAP50  mAP50-95):  50%|█████     | 2/4 [00:06<00:06,  3.33s/it]\n",
      "                 Class     Images  Instances      Box(P          R      mAP50  mAP50-95):  75%|███████▌  | 3/4 [00:11<00:03,  3.94s/it]\n",
      "                 Class     Images  Instances      Box(P          R      mAP50  mAP50-95): 100%|██████████| 4/4 [00:15<00:00,  3.82s/it]\n"
     ]
    },
    {
     "name": "stdout",
     "output_type": "stream",
     "text": [
      "\u001b[36m(_tune pid=963)\u001b[0m                    all        128        929      0.686      0.678       0.71      0.529\n",
      "\u001b[36m(_tune pid=963)\u001b[0m \n",
      "\u001b[36m(_tune pid=963)\u001b[0m 10 epochs completed in 0.162 hours.\n",
      "\u001b[36m(_tune pid=963)\u001b[0m Optimizer stripped from runs/detect/train/weights/last.pt, 6.5MB\n",
      "\u001b[36m(_tune pid=963)\u001b[0m Optimizer stripped from runs/detect/train/weights/best.pt, 6.5MB\n",
      "\u001b[36m(_tune pid=963)\u001b[0m \n",
      "\u001b[36m(_tune pid=963)\u001b[0m Validating runs/detect/train/weights/best.pt...\n",
      "\u001b[36m(_tune pid=963)\u001b[0m Ultralytics YOLOv8.1.19 🚀 Python-3.10.13 torch-2.2.1 CPU (Intel Core(TM) i7-7700 3.60GHz)\n",
      "\u001b[36m(_tune pid=963)\u001b[0m Model summary (fused): 168 layers, 3151904 parameters, 0 gradients, 8.7 GFLOPs\n"
     ]
    },
    {
     "name": "stderr",
     "output_type": "stream",
     "text": [
      "                 Class     Images  Instances      Box(P          R      mAP50  mAP50-95):   0%|          | 0/4 [00:00<?, ?it/s]\n",
      "                 Class     Images  Instances      Box(P          R      mAP50  mAP50-95):  25%|██▌       | 1/4 [00:01<00:05,  1.98s/it]\n",
      "                 Class     Images  Instances      Box(P          R      mAP50  mAP50-95):  50%|█████     | 2/4 [00:04<00:04,  2.45s/it]\n",
      "                 Class     Images  Instances      Box(P          R      mAP50  mAP50-95):  75%|███████▌  | 3/4 [00:08<00:03,  3.12s/it]\n",
      "                 Class     Images  Instances      Box(P          R      mAP50  mAP50-95): 100%|██████████| 4/4 [00:12<00:00,  3.04s/it]\n"
     ]
    },
    {
     "name": "stdout",
     "output_type": "stream",
     "text": [
      "\u001b[36m(_tune pid=963)\u001b[0m                    all        128        929      0.687      0.677      0.711       0.53\n",
      "\u001b[36m(_tune pid=963)\u001b[0m                 person        128        254      0.812      0.699      0.781      0.568\n",
      "\u001b[36m(_tune pid=963)\u001b[0m                bicycle        128          6      0.826      0.333      0.382      0.318\n",
      "\u001b[36m(_tune pid=963)\u001b[0m                    car        128         46      0.636      0.239      0.346      0.201\n",
      "\u001b[36m(_tune pid=963)\u001b[0m             motorcycle        128          5      0.818      0.906      0.962      0.714\n",
      "\u001b[36m(_tune pid=963)\u001b[0m               airplane        128          6      0.795          1      0.995      0.936\n",
      "\u001b[36m(_tune pid=963)\u001b[0m                    bus        128          7      0.718      0.714      0.722      0.679\n",
      "\u001b[36m(_tune pid=963)\u001b[0m                  train        128          3      0.793          1      0.995      0.863\n",
      "\u001b[36m(_tune pid=963)\u001b[0m                  truck        128         12       0.83        0.5      0.549      0.359\n",
      "\u001b[36m(_tune pid=963)\u001b[0m                   boat        128          6      0.409      0.333      0.563      0.404\n",
      "\u001b[36m(_tune pid=963)\u001b[0m          traffic light        128         14      0.412      0.143      0.186      0.138\n",
      "\u001b[36m(_tune pid=963)\u001b[0m              stop sign        128          2      0.732          1      0.995      0.697\n",
      "\u001b[36m(_tune pid=963)\u001b[0m                  bench        128          9      0.801      0.448      0.699      0.467\n",
      "\u001b[36m(_tune pid=963)\u001b[0m                   bird        128         16      0.892      0.938      0.969      0.668\n",
      "\u001b[36m(_tune pid=963)\u001b[0m                    cat        128          4      0.844          1      0.995      0.747\n",
      "\u001b[36m(_tune pid=963)\u001b[0m                    dog        128          9      0.645      0.889       0.92      0.747\n",
      "\u001b[36m(_tune pid=963)\u001b[0m                  horse        128          2       0.74          1      0.995      0.597\n",
      "\u001b[36m(_tune pid=963)\u001b[0m               elephant        128         17      0.753      0.895      0.924      0.734\n",
      "\u001b[36m(_tune pid=963)\u001b[0m                   bear        128          1      0.548          1      0.995      0.995\n",
      "\u001b[36m(_tune pid=963)\u001b[0m                  zebra        128          4      0.859          1      0.995      0.972\n",
      "\u001b[36m(_tune pid=963)\u001b[0m                giraffe        128          9      0.899      0.988      0.962      0.736\n",
      "\u001b[36m(_tune pid=963)\u001b[0m               backpack        128          6      0.548      0.333      0.405      0.254\n",
      "\u001b[36m(_tune pid=963)\u001b[0m               umbrella        128         18      0.614      0.667      0.708      0.473\n",
      "\u001b[36m(_tune pid=963)\u001b[0m                handbag        128         19       0.61     0.0874      0.277      0.156\n",
      "\u001b[36m(_tune pid=963)\u001b[0m                    tie        128          7       0.78      0.714       0.73      0.494\n",
      "\u001b[36m(_tune pid=963)\u001b[0m               suitcase        128          4       0.73          1      0.895      0.637\n",
      "\u001b[36m(_tune pid=963)\u001b[0m                frisbee        128          5      0.719        0.8      0.799      0.689\n",
      "\u001b[36m(_tune pid=963)\u001b[0m                   skis        128          1      0.855          1      0.995      0.497\n",
      "\u001b[36m(_tune pid=963)\u001b[0m              snowboard        128          7      0.431      0.571      0.684      0.482\n",
      "\u001b[36m(_tune pid=963)\u001b[0m            sports ball        128          6      0.702      0.404      0.514      0.304\n",
      "\u001b[36m(_tune pid=963)\u001b[0m                   kite        128         10      0.635        0.5      0.615      0.194\n",
      "\u001b[36m(_tune pid=963)\u001b[0m           baseball bat        128          4       0.62        0.5      0.497      0.273\n",
      "\u001b[36m(_tune pid=963)\u001b[0m         baseball glove        128          7      0.824      0.429      0.431      0.303\n",
      "\u001b[36m(_tune pid=963)\u001b[0m             skateboard        128          5      0.463        0.6      0.616       0.42\n",
      "\u001b[36m(_tune pid=963)\u001b[0m          tennis racket        128          7      0.719      0.375       0.59      0.329\n",
      "\u001b[36m(_tune pid=963)\u001b[0m                 bottle        128         18      0.648      0.409      0.483       0.24\n",
      "\u001b[36m(_tune pid=963)\u001b[0m             wine glass        128         16      0.561      0.721      0.724      0.396\n",
      "\u001b[36m(_tune pid=963)\u001b[0m                    cup        128         36      0.629       0.33      0.452      0.323\n",
      "\u001b[36m(_tune pid=963)\u001b[0m                   fork        128          6          1      0.302      0.364       0.26\n",
      "\u001b[36m(_tune pid=963)\u001b[0m                  knife        128         16      0.608      0.562      0.614      0.371\n",
      "\u001b[36m(_tune pid=963)\u001b[0m                  spoon        128         22      0.436      0.364      0.418      0.279\n",
      "\u001b[36m(_tune pid=963)\u001b[0m                   bowl        128         28      0.646       0.75      0.715      0.598\n",
      "\u001b[36m(_tune pid=963)\u001b[0m                 banana        128          1      0.399          1      0.497      0.106\n",
      "\u001b[36m(_tune pid=963)\u001b[0m               sandwich        128          2      0.774          1      0.995      0.995\n",
      "\u001b[36m(_tune pid=963)\u001b[0m                 orange        128          4      0.751          1      0.895      0.594\n",
      "\u001b[36m(_tune pid=963)\u001b[0m               broccoli        128         11      0.568      0.273       0.34      0.265\n",
      "\u001b[36m(_tune pid=963)\u001b[0m                 carrot        128         24      0.546      0.853      0.793      0.515\n",
      "\u001b[36m(_tune pid=963)\u001b[0m                hot dog        128          2      0.502          1      0.995      0.945\n",
      "\u001b[36m(_tune pid=963)\u001b[0m                  pizza        128          5      0.992          1      0.995       0.85\n",
      "\u001b[36m(_tune pid=963)\u001b[0m                  donut        128         14      0.564          1       0.93      0.855\n",
      "\u001b[36m(_tune pid=963)\u001b[0m                   cake        128          4      0.832          1      0.995       0.89\n",
      "\u001b[36m(_tune pid=963)\u001b[0m                  chair        128         35      0.574      0.486      0.501      0.293\n",
      "\u001b[36m(_tune pid=963)\u001b[0m                  couch        128          6      0.571      0.667      0.693      0.533\n",
      "\u001b[36m(_tune pid=963)\u001b[0m           potted plant        128         14      0.687      0.784      0.773      0.523\n",
      "\u001b[36m(_tune pid=963)\u001b[0m                    bed        128          3      0.844          1      0.995      0.858\n",
      "\u001b[36m(_tune pid=963)\u001b[0m           dining table        128         13      0.479      0.496      0.525      0.428\n",
      "\u001b[36m(_tune pid=963)\u001b[0m                 toilet        128          2          1      0.888      0.995      0.946\n",
      "\u001b[36m(_tune pid=963)\u001b[0m                     tv        128          2       0.63          1      0.995      0.846\n",
      "\u001b[36m(_tune pid=963)\u001b[0m                 laptop        128          3       0.77      0.667      0.789      0.686\n",
      "\u001b[36m(_tune pid=963)\u001b[0m                  mouse        128          2          1          0     0.0404    0.00404\n",
      "\u001b[36m(_tune pid=963)\u001b[0m                 remote        128          8          1      0.604      0.659       0.56\n",
      "\u001b[36m(_tune pid=963)\u001b[0m             cell phone        128          8          0          0      0.131     0.0549\n",
      "\u001b[36m(_tune pid=963)\u001b[0m              microwave        128          3      0.735      0.941      0.913      0.808\n",
      "\u001b[36m(_tune pid=963)\u001b[0m                   oven        128          5       0.52        0.4        0.5       0.37\n",
      "\u001b[36m(_tune pid=963)\u001b[0m                   sink        128          6      0.445      0.167      0.299      0.209\n",
      "\u001b[36m(_tune pid=963)\u001b[0m           refrigerator        128          5      0.608        0.6      0.731      0.598\n",
      "\u001b[36m(_tune pid=963)\u001b[0m                   book        128         29      0.634       0.36      0.435      0.233\n",
      "\u001b[36m(_tune pid=963)\u001b[0m                  clock        128          9      0.844      0.778      0.881      0.735\n",
      "\u001b[36m(_tune pid=963)\u001b[0m                   vase        128          2      0.508          1      0.995      0.945\n",
      "\u001b[36m(_tune pid=963)\u001b[0m               scissors        128          1      0.887          1      0.995      0.298\n",
      "\u001b[36m(_tune pid=963)\u001b[0m             teddy bear        128         21      0.755      0.667      0.758      0.516\n",
      "\u001b[36m(_tune pid=963)\u001b[0m             toothbrush        128          5      0.822          1      0.962      0.641\n",
      "\u001b[36m(_tune pid=963)\u001b[0m Speed: 1.5ms preprocess, 81.3ms inference, 0.0ms loss, 2.4ms postprocess per image\n",
      "\u001b[36m(_tune pid=963)\u001b[0m Results saved to \u001b[1mruns/detect/train\u001b[0m\n",
      "\u001b[36m(_tune pid=963)\u001b[0m \u001b[34m\u001b[1mMLflow: \u001b[0mresults logged to runs/mlflow\n",
      "\u001b[36m(_tune pid=963)\u001b[0m \u001b[34m\u001b[1mMLflow: \u001b[0mdisable with 'yolo settings mlflow=False'\n",
      "\u001b[36m(_tune pid=963)\u001b[0m Ultralytics YOLOv8.1.19 🚀 Python-3.10.13 torch-2.2.1 CPU (Intel Core(TM) i7-7700 3.60GHz)\n",
      "\u001b[36m(_tune pid=963)\u001b[0m \u001b[34m\u001b[1mengine/trainer: \u001b[0mtask=detect, mode=train, model=yolov8n.pt, data=coco128.yaml, epochs=10, time=None, patience=100, batch=16, imgsz=640, save=True, save_period=-1, cache=False, device=None, workers=8, project=None, name=train, exist_ok=False, pretrained=True, optimizer=auto, verbose=True, seed=0, deterministic=True, single_cls=False, rect=False, cos_lr=False, close_mosaic=10, resume=False, amp=True, fraction=1.0, profile=False, freeze=None, multi_scale=False, overlap_mask=True, mask_ratio=4, dropout=0.0, val=True, split=val, save_json=False, save_hybrid=False, conf=None, iou=0.7, max_det=300, half=False, dnn=False, plots=True, source=None, vid_stride=1, stream_buffer=False, visualize=False, augment=False, agnostic_nms=False, classes=None, retina_masks=False, embed=None, show=False, save_frames=False, save_txt=False, save_conf=False, save_crop=False, show_labels=True, show_conf=True, show_boxes=True, line_width=None, format=torchscript, keras=False, optimize=False, int8=False, dynamic=False, simplify=False, opset=None, workspace=4, nms=False, lr0=0.05996217172336975, lrf=0.01, momentum=0.937, weight_decay=0.0005, warmup_epochs=3.0, warmup_momentum=0.8, warmup_bias_lr=0.1, box=7.5, cls=0.5, dfl=1.5, pose=12.0, kobj=1.0, label_smoothing=0.0, nbs=64, hsv_h=0.015, hsv_s=0.7, hsv_v=0.4, degrees=0.0, translate=0.1, scale=0.5, shear=0.0, perspective=0.0, flipud=0.0, fliplr=0.5, mosaic=1.0, mixup=0.0, copy_paste=0.0, auto_augment=randaugment, erasing=0.4, crop_fraction=1.0, cfg=None, tracker=botsort.yaml, save_dir=runs/detect/train\n",
      "\u001b[36m(_tune pid=963)\u001b[0m \n",
      "\u001b[36m(_tune pid=963)\u001b[0m                    from  n    params  module                                       arguments                     \n",
      "\u001b[36m(_tune pid=963)\u001b[0m   0                  -1  1       464  ultralytics.nn.modules.conv.Conv             [3, 16, 3, 2]                 \n",
      "\u001b[36m(_tune pid=963)\u001b[0m   1                  -1  1      4672  ultralytics.nn.modules.conv.Conv             [16, 32, 3, 2]                \n",
      "\u001b[36m(_tune pid=963)\u001b[0m   2                  -1  1      7360  ultralytics.nn.modules.block.C2f             [32, 32, 1, True]             \n",
      "\u001b[36m(_tune pid=963)\u001b[0m   3                  -1  1     18560  ultralytics.nn.modules.conv.Conv             [32, 64, 3, 2]                \n",
      "\u001b[36m(_tune pid=963)\u001b[0m   4                  -1  2     49664  ultralytics.nn.modules.block.C2f             [64, 64, 2, True]             \n",
      "\u001b[36m(_tune pid=963)\u001b[0m   5                  -1  1     73984  ultralytics.nn.modules.conv.Conv             [64, 128, 3, 2]               \n",
      "\u001b[36m(_tune pid=963)\u001b[0m   6                  -1  2    197632  ultralytics.nn.modules.block.C2f             [128, 128, 2, True]           \n",
      "\u001b[36m(_tune pid=963)\u001b[0m   7                  -1  1    295424  ultralytics.nn.modules.conv.Conv             [128, 256, 3, 2]              \n",
      "\u001b[36m(_tune pid=963)\u001b[0m   8                  -1  1    460288  ultralytics.nn.modules.block.C2f             [256, 256, 1, True]           \n",
      "\u001b[36m(_tune pid=963)\u001b[0m   9                  -1  1    164608  ultralytics.nn.modules.block.SPPF            [256, 256, 5]                 \n",
      "\u001b[36m(_tune pid=963)\u001b[0m  10                  -1  1         0  torch.nn.modules.upsampling.Upsample         [None, 2, 'nearest']          \n",
      "\u001b[36m(_tune pid=963)\u001b[0m  11             [-1, 6]  1         0  ultralytics.nn.modules.conv.Concat           [1]                           \n",
      "\u001b[36m(_tune pid=963)\u001b[0m  12                  -1  1    148224  ultralytics.nn.modules.block.C2f             [384, 128, 1]                 \n",
      "\u001b[36m(_tune pid=963)\u001b[0m  13                  -1  1         0  torch.nn.modules.upsampling.Upsample         [None, 2, 'nearest']          \n",
      "\u001b[36m(_tune pid=963)\u001b[0m  14             [-1, 4]  1         0  ultralytics.nn.modules.conv.Concat           [1]                           \n",
      "\u001b[36m(_tune pid=963)\u001b[0m  15                  -1  1     37248  ultralytics.nn.modules.block.C2f             [192, 64, 1]                  \n",
      "\u001b[36m(_tune pid=963)\u001b[0m  16                  -1  1     36992  ultralytics.nn.modules.conv.Conv             [64, 64, 3, 2]                \n",
      "\u001b[36m(_tune pid=963)\u001b[0m  17            [-1, 12]  1         0  ultralytics.nn.modules.conv.Concat           [1]                           \n",
      "\u001b[36m(_tune pid=963)\u001b[0m  18                  -1  1    123648  ultralytics.nn.modules.block.C2f             [192, 128, 1]                 \n",
      "\u001b[36m(_tune pid=963)\u001b[0m  19                  -1  1    147712  ultralytics.nn.modules.conv.Conv             [128, 128, 3, 2]              \n",
      "\u001b[36m(_tune pid=963)\u001b[0m  20             [-1, 9]  1         0  ultralytics.nn.modules.conv.Concat           [1]                           \n",
      "\u001b[36m(_tune pid=963)\u001b[0m  21                  -1  1    493056  ultralytics.nn.modules.block.C2f             [384, 256, 1]                 \n",
      "\u001b[36m(_tune pid=963)\u001b[0m  22        [15, 18, 21]  1    897664  ultralytics.nn.modules.head.Detect           [80, [64, 128, 256]]          \n",
      "\u001b[36m(_tune pid=963)\u001b[0m Model summary: 225 layers, 3157200 parameters, 3157184 gradients, 8.9 GFLOPs\n",
      "\u001b[36m(_tune pid=963)\u001b[0m \n",
      "\u001b[36m(_tune pid=963)\u001b[0m Transferred 355/355 items from pretrained weights\n",
      "\u001b[36m(_tune pid=963)\u001b[0m Freezing layer 'model.22.dfl.conv.weight'\n"
     ]
    },
    {
     "name": "stderr",
     "output_type": "stream",
     "text": [
      "\u001b[34m\u001b[1mtrain: \u001b[0mScanning /opt/app/notebooks/datasets/coco128/labels/train2017.cache... 126 images, 2 backgrounds, 0 corrupt: 100%|██████████| 128/128 [00:00<?, ?it/s]\n",
      "\u001b[34m\u001b[1mval: \u001b[0mScanning /opt/app/notebooks/datasets/coco128/labels/train2017.cache... 126 images, 2 backgrounds, 0 corrupt: 100%|██████████| 128/128 [00:00<?, ?it/s]\n"
     ]
    },
    {
     "name": "stdout",
     "output_type": "stream",
     "text": [
      "\u001b[36m(_tune pid=963)\u001b[0m Plotting labels to runs/detect/train/labels.jpg... \n"
     ]
    },
    {
     "name": "stderr",
     "output_type": "stream",
     "text": [
      "2024-02-28 16:30:23,169\tERROR tune_controller.py:1374 -- Trial task failed for trial _tune_c3722_00003\n",
      "Traceback (most recent call last):\n",
      "  File \"/opt/conda/lib/python3.10/site-packages/ray/air/execution/_internal/event_manager.py\", line 110, in resolve_future\n",
      "    result = ray.get(future)\n",
      "  File \"/opt/conda/lib/python3.10/site-packages/ray/_private/auto_init_hook.py\", line 22, in auto_init_wrapper\n",
      "    return fn(*args, **kwargs)\n",
      "  File \"/opt/conda/lib/python3.10/site-packages/ray/_private/client_mode_hook.py\", line 103, in wrapper\n",
      "    return func(*args, **kwargs)\n",
      "  File \"/opt/conda/lib/python3.10/site-packages/ray/_private/worker.py\", line 2624, in get\n",
      "    raise value.as_instanceof_cause()\n",
      "ray.exceptions.RayTaskError: \u001b[36mray::ImplicitFunc.train()\u001b[39m (pid=963, ip=172.17.0.2, actor_id=3839a99a91240abff2e4c15c01000000, repr=_tune)\n",
      "  File \"/opt/conda/lib/python3.10/site-packages/ray/tune/trainable/trainable.py\", line 342, in train\n",
      "    raise skipped from exception_cause(skipped)\n",
      "  File \"/opt/conda/lib/python3.10/site-packages/ray/air/_internal/util.py\", line 88, in run\n",
      "    self._ret = self._target(*self._args, **self._kwargs)\n",
      "  File \"/opt/conda/lib/python3.10/site-packages/ray/tune/trainable/function_trainable.py\", line 249, in <lambda>\n",
      "    training_func=lambda: self._trainable_func(self.config),\n",
      "  File \"/opt/conda/lib/python3.10/site-packages/ray/tune/trainable/function_trainable.py\", line 332, in _trainable_func\n",
      "    output = fn()\n",
      "  File \"/opt/conda/lib/python3.10/site-packages/ultralytics/utils/tuner.py\", line 102, in _tune\n",
      "    results = model_to_train.train(**config)\n",
      "  File \"/opt/conda/lib/python3.10/site-packages/ultralytics/engine/model.py\", line 644, in train\n",
      "    self.trainer.train()\n",
      "  File \"/opt/conda/lib/python3.10/site-packages/ultralytics/engine/trainer.py\", line 208, in train\n",
      "    self._do_train(world_size)\n",
      "  File \"/opt/conda/lib/python3.10/site-packages/ultralytics/engine/trainer.py\", line 322, in _do_train\n",
      "    self._setup_train(world_size)\n",
      "  File \"/opt/conda/lib/python3.10/site-packages/ultralytics/engine/trainer.py\", line 316, in _setup_train\n",
      "    self.run_callbacks(\"on_pretrain_routine_end\")\n",
      "  File \"/opt/conda/lib/python3.10/site-packages/ultralytics/engine/trainer.py\", line 171, in run_callbacks\n",
      "    callback(self)\n",
      "  File \"/opt/conda/lib/python3.10/site-packages/ultralytics/utils/callbacks/mlflow.py\", line 71, in on_pretrain_routine_end\n",
      "    mlflow.set_experiment(experiment_name)\n",
      "  File \"/opt/conda/lib/python3.10/site-packages/mlflow/tracking/fluent.py\", line 138, in set_experiment\n",
      "    experiment = client.get_experiment_by_name(experiment_name)\n",
      "  File \"/opt/conda/lib/python3.10/site-packages/mlflow/tracking/client.py\", line 520, in get_experiment_by_name\n",
      "    return self._tracking_client.get_experiment_by_name(name)\n",
      "  File \"/opt/conda/lib/python3.10/site-packages/mlflow/tracking/_tracking_service/client.py\", line 221, in get_experiment_by_name\n",
      "    return self.store.get_experiment_by_name(name)\n",
      "  File \"/opt/conda/lib/python3.10/site-packages/mlflow/store/tracking/file_store.py\", line 327, in get_experiment_by_name\n",
      "    experiments = get_results_from_paginated_fn(\n",
      "  File \"/opt/conda/lib/python3.10/site-packages/mlflow/utils/__init__.py\", line 271, in get_results_from_paginated_fn\n",
      "    page_results = paginated_fn(max_results_per_page, next_page_token)\n",
      "  File \"/opt/conda/lib/python3.10/site-packages/mlflow/store/tracking/file_store.py\", line 320, in pagination_wrapper_func\n",
      "    return self.search_experiments(\n",
      "  File \"/opt/conda/lib/python3.10/site-packages/mlflow/store/tracking/file_store.py\", line 291, in search_experiments\n",
      "    self._check_root_dir()\n",
      "  File \"/opt/conda/lib/python3.10/site-packages/mlflow/store/tracking/file_store.py\", line 191, in _check_root_dir\n",
      "    raise Exception(f\"'{self.root_directory}' does not exist.\")\n",
      "Exception: 'runs/mlflow' does not exist.\n"
     ]
    },
    {
     "name": "stdout",
     "output_type": "stream",
     "text": [
      "\u001b[36m(_tune pid=963)\u001b[0m \u001b[34m\u001b[1moptimizer:\u001b[0m 'optimizer=auto' found, ignoring 'lr0=0.05996217172336975' and 'momentum=0.937' and determining best 'optimizer', 'lr0' and 'momentum' automatically... \n",
      "\u001b[36m(_tune pid=963)\u001b[0m \u001b[34m\u001b[1moptimizer:\u001b[0m AdamW(lr=0.000119, momentum=0.9) with parameter groups 57 weight(decay=0.0), 64 weight(decay=0.0005), 63 bias(decay=0.0)\n",
      "\u001b[36m(_tune pid=1226)\u001b[0m Ultralytics YOLOv8.1.19 🚀 Python-3.10.13 torch-2.2.1 CPU (Intel Core(TM) i7-7700 3.60GHz)\n",
      "\u001b[36m(_tune pid=1226)\u001b[0m \u001b[34m\u001b[1mengine/trainer: \u001b[0mtask=detect, mode=train, model=yolov8n.pt, data=coco128.yaml, epochs=10, time=None, patience=100, batch=16, imgsz=640, save=True, save_period=-1, cache=False, device=None, workers=8, project=None, name=train, exist_ok=False, pretrained=True, optimizer=auto, verbose=True, seed=0, deterministic=True, single_cls=False, rect=False, cos_lr=False, close_mosaic=10, resume=False, amp=True, fraction=1.0, profile=False, freeze=None, multi_scale=False, overlap_mask=True, mask_ratio=4, dropout=0.0, val=True, split=val, save_json=False, save_hybrid=False, conf=None, iou=0.7, max_det=300, half=False, dnn=False, plots=True, source=None, vid_stride=1, stream_buffer=False, visualize=False, augment=False, agnostic_nms=False, classes=None, retina_masks=False, embed=None, show=False, save_frames=False, save_txt=False, save_conf=False, save_crop=False, show_labels=True, show_conf=True, show_boxes=True, line_width=None, format=torchscript, keras=False, optimize=False, int8=False, dynamic=False, simplify=False, opset=None, workspace=4, nms=False, lr0=0.09824311174126528, lrf=0.01, momentum=0.937, weight_decay=0.0005, warmup_epochs=3.0, warmup_momentum=0.8, warmup_bias_lr=0.1, box=7.5, cls=0.5, dfl=1.5, pose=12.0, kobj=1.0, label_smoothing=0.0, nbs=64, hsv_h=0.015, hsv_s=0.7, hsv_v=0.4, degrees=0.0, translate=0.1, scale=0.5, shear=0.0, perspective=0.0, flipud=0.0, fliplr=0.5, mosaic=1.0, mixup=0.0, copy_paste=0.0, auto_augment=randaugment, erasing=0.4, crop_fraction=1.0, cfg=None, tracker=botsort.yaml, save_dir=runs/detect/train\n",
      "\u001b[36m(_tune pid=1226)\u001b[0m \n",
      "\u001b[36m(_tune pid=1226)\u001b[0m                    from  n    params  module                                       arguments                     \n",
      "\u001b[36m(_tune pid=1226)\u001b[0m   0                  -1  1       464  ultralytics.nn.modules.conv.Conv             [3, 16, 3, 2]                 \n",
      "\u001b[36m(_tune pid=1226)\u001b[0m   1                  -1  1      4672  ultralytics.nn.modules.conv.Conv             [16, 32, 3, 2]                \n",
      "\u001b[36m(_tune pid=1226)\u001b[0m   2                  -1  1      7360  ultralytics.nn.modules.block.C2f             [32, 32, 1, True]             \n",
      "\u001b[36m(_tune pid=1226)\u001b[0m   3                  -1  1     18560  ultralytics.nn.modules.conv.Conv             [32, 64, 3, 2]                \n",
      "\u001b[36m(_tune pid=1226)\u001b[0m   4                  -1  2     49664  ultralytics.nn.modules.block.C2f             [64, 64, 2, True]             \n",
      "\u001b[36m(_tune pid=1226)\u001b[0m   5                  -1  1     73984  ultralytics.nn.modules.conv.Conv             [64, 128, 3, 2]               \n",
      "\u001b[36m(_tune pid=1226)\u001b[0m   6                  -1  2    197632  ultralytics.nn.modules.block.C2f             [128, 128, 2, True]           \n",
      "\u001b[36m(_tune pid=1226)\u001b[0m   7                  -1  1    295424  ultralytics.nn.modules.conv.Conv             [128, 256, 3, 2]              \n",
      "\u001b[36m(_tune pid=1226)\u001b[0m   8                  -1  1    460288  ultralytics.nn.modules.block.C2f             [256, 256, 1, True]           \n",
      "\u001b[36m(_tune pid=1226)\u001b[0m   9                  -1  1    164608  ultralytics.nn.modules.block.SPPF            [256, 256, 5]                 \n",
      "\u001b[36m(_tune pid=1226)\u001b[0m  10                  -1  1         0  torch.nn.modules.upsampling.Upsample         [None, 2, 'nearest']          \n",
      "\u001b[36m(_tune pid=1226)\u001b[0m  11             [-1, 6]  1         0  ultralytics.nn.modules.conv.Concat           [1]                           \n",
      "\u001b[36m(_tune pid=1226)\u001b[0m  12                  -1  1    148224  ultralytics.nn.modules.block.C2f             [384, 128, 1]                 \n",
      "\u001b[36m(_tune pid=1226)\u001b[0m  13                  -1  1         0  torch.nn.modules.upsampling.Upsample         [None, 2, 'nearest']          \n",
      "\u001b[36m(_tune pid=1226)\u001b[0m  14             [-1, 4]  1         0  ultralytics.nn.modules.conv.Concat           [1]                           \n",
      "\u001b[36m(_tune pid=1226)\u001b[0m  15                  -1  1     37248  ultralytics.nn.modules.block.C2f             [192, 64, 1]                  \n",
      "\u001b[36m(_tune pid=1226)\u001b[0m  16                  -1  1     36992  ultralytics.nn.modules.conv.Conv             [64, 64, 3, 2]                \n",
      "\u001b[36m(_tune pid=1226)\u001b[0m  17            [-1, 12]  1         0  ultralytics.nn.modules.conv.Concat           [1]                           \n",
      "\u001b[36m(_tune pid=1226)\u001b[0m  18                  -1  1    123648  ultralytics.nn.modules.block.C2f             [192, 128, 1]                 \n",
      "\u001b[36m(_tune pid=1226)\u001b[0m  19                  -1  1    147712  ultralytics.nn.modules.conv.Conv             [128, 128, 3, 2]              \n",
      "\u001b[36m(_tune pid=1226)\u001b[0m  20             [-1, 9]  1         0  ultralytics.nn.modules.conv.Concat           [1]                           \n",
      "\u001b[36m(_tune pid=1226)\u001b[0m  21                  -1  1    493056  ultralytics.nn.modules.block.C2f             [384, 256, 1]                 \n",
      "\u001b[36m(_tune pid=1226)\u001b[0m  22        [15, 18, 21]  1    897664  ultralytics.nn.modules.head.Detect           [80, [64, 128, 256]]          \n"
     ]
    },
    {
     "name": "stderr",
     "output_type": "stream",
     "text": [
      "\u001b[34m\u001b[1mval: \u001b[0mScanning /opt/app/notebooks/datasets/coco128/labels/train2017.cache... 126 images, 2 backgrounds, 0 corrupt: 100%|██████████| 128/128 [00:00<?, ?it/s]\u001b[32m [repeated 2x across cluster]\u001b[0m\n"
     ]
    },
    {
     "name": "stdout",
     "output_type": "stream",
     "text": [
      "\u001b[36m(_tune pid=1226)\u001b[0m Model summary: 225 layers, 3157200 parameters, 3157184 gradients, 8.9 GFLOPs\n",
      "\u001b[36m(_tune pid=1226)\u001b[0m \n",
      "\u001b[36m(_tune pid=1226)\u001b[0m Transferred 355/355 items from pretrained weights\n",
      "\u001b[36m(_tune pid=1226)\u001b[0m Freezing layer 'model.22.dfl.conv.weight'\n",
      "\u001b[36m(_tune pid=1226)\u001b[0m Plotting labels to runs/detect/train/labels.jpg... \n"
     ]
    },
    {
     "name": "stderr",
     "output_type": "stream",
     "text": [
      "\u001b[36m(_tune pid=1226)\u001b[0m 2024/02/28 16:30:32 INFO mlflow.tracking.fluent: Experiment with name '/Shared/YOLOv8' does not exist. Creating a new experiment.\n",
      "  0%|          | 0/8 [00:00<?, ?it/s]\n"
     ]
    },
    {
     "name": "stdout",
     "output_type": "stream",
     "text": [
      "\u001b[36m(_tune pid=1226)\u001b[0m \u001b[34m\u001b[1moptimizer:\u001b[0m 'optimizer=auto' found, ignoring 'lr0=0.09824311174126528' and 'momentum=0.937' and determining best 'optimizer', 'lr0' and 'momentum' automatically... \n",
      "\u001b[36m(_tune pid=1226)\u001b[0m \u001b[34m\u001b[1moptimizer:\u001b[0m AdamW(lr=0.000119, momentum=0.9) with parameter groups 57 weight(decay=0.0), 64 weight(decay=0.0005), 63 bias(decay=0.0)\n",
      "\u001b[36m(_tune pid=1226)\u001b[0m \u001b[34m\u001b[1mMLflow: \u001b[0mlogging run_id(f254e4684aac418586d1bf693065f3c3) to runs/mlflow\n",
      "\u001b[36m(_tune pid=1226)\u001b[0m \u001b[34m\u001b[1mMLflow: \u001b[0mview at http://127.0.0.1:5000 with 'mlflow server --backend-store-uri runs/mlflow'\n",
      "\u001b[36m(_tune pid=1226)\u001b[0m \u001b[34m\u001b[1mMLflow: \u001b[0mdisable with 'yolo settings mlflow=False'\n",
      "\u001b[36m(_tune pid=1226)\u001b[0m Image sizes 640 train, 640 val\n",
      "\u001b[36m(_tune pid=1226)\u001b[0m Using 0 dataloader workers\n",
      "\u001b[36m(_tune pid=1226)\u001b[0m Logging results to \u001b[1mruns/detect/train\u001b[0m\n",
      "\u001b[36m(_tune pid=1226)\u001b[0m Starting training for 10 epochs...\n",
      "\u001b[36m(_tune pid=1226)\u001b[0m Closing dataloader mosaic\n",
      "\u001b[36m(_tune pid=1226)\u001b[0m \n",
      "\u001b[36m(_tune pid=1226)\u001b[0m       Epoch    GPU_mem   box_loss   cls_loss   dfl_loss  Instances       Size\n"
     ]
    },
    {
     "name": "stderr",
     "output_type": "stream",
     "text": [
      "       1/10         0G     0.9717      1.306      1.138        112        640:  12%|█▎        | 1/8 [00:05<00:38,  5.49s/it]\n",
      "       1/10         0G      1.045      1.309      1.162         95        640:  25%|██▌       | 2/8 [00:10<00:31,  5.26s/it]\n",
      "       1/10         0G      1.096      1.356      1.162        137        640:  38%|███▊      | 3/8 [00:15<00:25,  5.12s/it]\n",
      "       1/10         0G      1.137      1.356       1.18        138        640:  50%|█████     | 4/8 [00:20<00:20,  5.07s/it]\n",
      "       1/10         0G       1.14      1.352      1.175        119        640:  62%|██████▎   | 5/8 [00:25<00:15,  5.01s/it]\n",
      "       1/10         0G      1.161      1.346      1.189         98        640:  75%|███████▌  | 6/8 [00:30<00:10,  5.08s/it]\n",
      "       1/10         0G      1.164      1.366      1.177        108        640:  88%|████████▊ | 7/8 [00:35<00:05,  5.12s/it]\n",
      "       1/10         0G      1.174      1.371      1.182         78        640: 100%|██████████| 8/8 [00:41<00:00,  5.13s/it]\n",
      "                 Class     Images  Instances      Box(P          R      mAP50  mAP50-95):   0%|          | 0/4 [00:00<?, ?it/s]\n",
      "                 Class     Images  Instances      Box(P          R      mAP50  mAP50-95):  25%|██▌       | 1/4 [00:02<00:08,  2.97s/it]\n",
      "                 Class     Images  Instances      Box(P          R      mAP50  mAP50-95):  50%|█████     | 2/4 [00:06<00:06,  3.13s/it]\n",
      "                 Class     Images  Instances      Box(P          R      mAP50  mAP50-95):  75%|███████▌  | 3/4 [00:10<00:03,  3.73s/it]\n",
      "                 Class     Images  Instances      Box(P          R      mAP50  mAP50-95): 100%|██████████| 4/4 [00:14<00:00,  3.60s/it]\n"
     ]
    },
    {
     "name": "stdout",
     "output_type": "stream",
     "text": [
      "\u001b[36m(_tune pid=1226)\u001b[0m                    all        128        929      0.679      0.524      0.617      0.455\n"
     ]
    },
    {
     "name": "stderr",
     "output_type": "stream",
     "text": [
      "  0%|          | 0/8 [00:00<?, ?it/s]\n"
     ]
    },
    {
     "name": "stdout",
     "output_type": "stream",
     "text": [
      "\u001b[36m(_tune pid=1226)\u001b[0m \n",
      "\u001b[36m(_tune pid=1226)\u001b[0m       Epoch    GPU_mem   box_loss   cls_loss   dfl_loss  Instances       Size\n"
     ]
    },
    {
     "name": "stderr",
     "output_type": "stream",
     "text": [
      "       2/10         0G      1.274      1.464      1.303         98        640:  12%|█▎        | 1/8 [00:04<00:33,  4.79s/it]\n",
      "       2/10         0G      1.179      1.494      1.263         86        640:  25%|██▌       | 2/8 [00:09<00:29,  4.90s/it]\n",
      "       2/10         0G      1.153      1.402      1.229        140        640:  38%|███▊      | 3/8 [00:14<00:24,  4.93s/it]\n",
      "       2/10         0G      1.159        1.4      1.199        145        640:  50%|█████     | 4/8 [00:20<00:20,  5.11s/it]\n",
      "       2/10         0G      1.143      1.376      1.194         75        640:  62%|██████▎   | 5/8 [00:25<00:15,  5.09s/it]\n",
      "       2/10         0G      1.148      1.364      1.181        112        640:  75%|███████▌  | 6/8 [00:30<00:10,  5.21s/it]\n",
      "       2/10         0G      1.171      1.359      1.189        135        640:  88%|████████▊ | 7/8 [00:35<00:05,  5.13s/it]\n",
      "       2/10         0G      1.149      1.307      1.175        103        640: 100%|██████████| 8/8 [00:40<00:00,  5.04s/it]\n",
      "                 Class     Images  Instances      Box(P          R      mAP50  mAP50-95):   0%|          | 0/4 [00:00<?, ?it/s]\n",
      "                 Class     Images  Instances      Box(P          R      mAP50  mAP50-95):  25%|██▌       | 1/4 [00:02<00:08,  2.86s/it]\n",
      "                 Class     Images  Instances      Box(P          R      mAP50  mAP50-95):  50%|█████     | 2/4 [00:06<00:06,  3.10s/it]\n",
      "                 Class     Images  Instances      Box(P          R      mAP50  mAP50-95):  75%|███████▌  | 3/4 [00:11<00:03,  3.93s/it]\n",
      "                 Class     Images  Instances      Box(P          R      mAP50  mAP50-95): 100%|██████████| 4/4 [00:15<00:00,  3.79s/it]\n"
     ]
    },
    {
     "name": "stdout",
     "output_type": "stream",
     "text": [
      "\u001b[36m(_tune pid=1226)\u001b[0m                    all        128        929      0.649      0.584      0.627      0.467\n"
     ]
    },
    {
     "name": "stderr",
     "output_type": "stream",
     "text": [
      "  0%|          | 0/8 [00:00<?, ?it/s]\n"
     ]
    },
    {
     "name": "stdout",
     "output_type": "stream",
     "text": [
      "\u001b[36m(_tune pid=1226)\u001b[0m \n",
      "\u001b[36m(_tune pid=1226)\u001b[0m       Epoch    GPU_mem   box_loss   cls_loss   dfl_loss  Instances       Size\n"
     ]
    },
    {
     "name": "stderr",
     "output_type": "stream",
     "text": [
      "       3/10         0G      1.136      1.097        1.2         99        640:  12%|█▎        | 1/8 [00:05<00:39,  5.70s/it]\n",
      "       3/10         0G      1.127      1.136      1.205         92        640:  25%|██▌       | 2/8 [00:10<00:31,  5.28s/it]\n",
      "       3/10         0G      1.138       1.23      1.203        142        640:  38%|███▊      | 3/8 [00:15<00:26,  5.28s/it]\n",
      "       3/10         0G      1.124      1.252      1.181         91        640:  50%|█████     | 4/8 [00:21<00:21,  5.29s/it]\n",
      "       3/10         0G      1.158      1.304      1.213         99        640:  62%|██████▎   | 5/8 [00:26<00:15,  5.28s/it]\n",
      "       3/10         0G      1.158       1.29      1.213        129        640:  75%|███████▌  | 6/8 [00:31<00:10,  5.24s/it]\n",
      "       3/10         0G      1.154      1.297      1.208        130        640:  88%|████████▊ | 7/8 [00:37<00:05,  5.43s/it]\n",
      "       3/10         0G      1.171        1.3      1.207        109        640: 100%|██████████| 8/8 [00:43<00:00,  5.40s/it]\n",
      "                 Class     Images  Instances      Box(P          R      mAP50  mAP50-95):   0%|          | 0/4 [00:00<?, ?it/s]\n",
      "                 Class     Images  Instances      Box(P          R      mAP50  mAP50-95):  25%|██▌       | 1/4 [00:03<00:10,  3.51s/it]\n",
      "                 Class     Images  Instances      Box(P          R      mAP50  mAP50-95):  50%|█████     | 2/4 [00:07<00:07,  3.68s/it]\n",
      "                 Class     Images  Instances      Box(P          R      mAP50  mAP50-95):  75%|███████▌  | 3/4 [00:12<00:04,  4.32s/it]\n",
      "                 Class     Images  Instances      Box(P          R      mAP50  mAP50-95): 100%|██████████| 4/4 [00:16<00:00,  4.12s/it]\n"
     ]
    },
    {
     "name": "stdout",
     "output_type": "stream",
     "text": [
      "\u001b[36m(_tune pid=1226)\u001b[0m                    all        128        929      0.675      0.587      0.645      0.481\n"
     ]
    },
    {
     "name": "stderr",
     "output_type": "stream",
     "text": [
      "  0%|          | 0/8 [00:00<?, ?it/s]\n"
     ]
    },
    {
     "name": "stdout",
     "output_type": "stream",
     "text": [
      "\u001b[36m(_tune pid=1226)\u001b[0m \n",
      "\u001b[36m(_tune pid=1226)\u001b[0m       Epoch    GPU_mem   box_loss   cls_loss   dfl_loss  Instances       Size\n"
     ]
    },
    {
     "name": "stderr",
     "output_type": "stream",
     "text": [
      "       4/10         0G      1.122      1.385      1.192         54        640:  12%|█▎        | 1/8 [00:04<00:33,  4.81s/it]\n",
      "       4/10         0G      1.102       1.24      1.139        157        640:  25%|██▌       | 2/8 [00:09<00:29,  4.97s/it]\n",
      "       4/10         0G      1.093      1.208      1.132        126        640:  38%|███▊      | 3/8 [00:15<00:25,  5.17s/it]\n",
      "       4/10         0G      1.111      1.247      1.162        108        640:  50%|█████     | 4/8 [00:20<00:20,  5.04s/it]\n",
      "       4/10         0G      1.106      1.199      1.147         82        640:  62%|██████▎   | 5/8 [00:25<00:15,  5.16s/it]\n",
      "       4/10         0G      1.112      1.218       1.15        156        640:  75%|███████▌  | 6/8 [00:30<00:10,  5.06s/it]\n",
      "       4/10         0G       1.14      1.262      1.172        107        640:  88%|████████▊ | 7/8 [00:35<00:05,  5.09s/it]\n",
      "       4/10         0G      1.132       1.26      1.176         97        640: 100%|██████████| 8/8 [00:40<00:00,  5.07s/it]\n",
      "                 Class     Images  Instances      Box(P          R      mAP50  mAP50-95):   0%|          | 0/4 [00:00<?, ?it/s]\n",
      "                 Class     Images  Instances      Box(P          R      mAP50  mAP50-95):  25%|██▌       | 1/4 [00:02<00:08,  2.92s/it]\n",
      "                 Class     Images  Instances      Box(P          R      mAP50  mAP50-95):  50%|█████     | 2/4 [00:06<00:06,  3.18s/it]\n",
      "                 Class     Images  Instances      Box(P          R      mAP50  mAP50-95):  75%|███████▌  | 3/4 [00:11<00:03,  3.89s/it]\n",
      "                 Class     Images  Instances      Box(P          R      mAP50  mAP50-95): 100%|██████████| 4/4 [00:15<00:00,  3.78s/it]\n"
     ]
    },
    {
     "name": "stdout",
     "output_type": "stream",
     "text": [
      "\u001b[36m(_tune pid=1226)\u001b[0m                    all        128        929      0.689      0.589      0.659      0.493\n"
     ]
    },
    {
     "name": "stderr",
     "output_type": "stream",
     "text": [
      "  0%|          | 0/8 [00:00<?, ?it/s]\n"
     ]
    },
    {
     "name": "stdout",
     "output_type": "stream",
     "text": [
      "\u001b[36m(_tune pid=1226)\u001b[0m \n",
      "\u001b[36m(_tune pid=1226)\u001b[0m       Epoch    GPU_mem   box_loss   cls_loss   dfl_loss  Instances       Size\n"
     ]
    },
    {
     "name": "stderr",
     "output_type": "stream",
     "text": [
      "       5/10         0G      1.068      1.315      1.122         98        640:  12%|█▎        | 1/8 [00:05<00:35,  5.04s/it]\n",
      "       5/10         0G      1.112      1.349      1.152        165        640:  25%|██▌       | 2/8 [00:10<00:31,  5.30s/it]\n",
      "       5/10         0G      1.033      1.258      1.137         78        640:  38%|███▊      | 3/8 [00:15<00:26,  5.33s/it]\n",
      "       5/10         0G      1.031      1.237      1.134         75        640:  50%|█████     | 4/8 [00:22<00:22,  5.72s/it]\n",
      "       5/10         0G      1.065      1.292      1.164        112        640:  62%|██████▎   | 5/8 [00:27<00:17,  5.67s/it]\n",
      "       5/10         0G      1.105      1.318      1.189        170        640:  75%|███████▌  | 6/8 [00:32<00:10,  5.34s/it]\n",
      "       5/10         0G       1.12      1.306        1.2        130        640:  88%|████████▊ | 7/8 [00:37<00:05,  5.21s/it]\n",
      "       5/10         0G        1.1      1.258      1.201         52        640: 100%|██████████| 8/8 [00:42<00:00,  5.28s/it]\n",
      "                 Class     Images  Instances      Box(P          R      mAP50  mAP50-95):   0%|          | 0/4 [00:00<?, ?it/s]\n",
      "                 Class     Images  Instances      Box(P          R      mAP50  mAP50-95):  25%|██▌       | 1/4 [00:02<00:08,  2.88s/it]\n",
      "                 Class     Images  Instances      Box(P          R      mAP50  mAP50-95):  50%|█████     | 2/4 [00:06<00:06,  3.06s/it]\n",
      "                 Class     Images  Instances      Box(P          R      mAP50  mAP50-95):  75%|███████▌  | 3/4 [00:10<00:03,  3.65s/it]\n",
      "                 Class     Images  Instances      Box(P          R      mAP50  mAP50-95): 100%|██████████| 4/4 [00:14<00:00,  3.53s/it]\n"
     ]
    },
    {
     "name": "stdout",
     "output_type": "stream",
     "text": [
      "\u001b[36m(_tune pid=1226)\u001b[0m                    all        128        929      0.692      0.607      0.667      0.502\n"
     ]
    },
    {
     "name": "stderr",
     "output_type": "stream",
     "text": [
      "  0%|          | 0/8 [00:00<?, ?it/s]\n"
     ]
    },
    {
     "name": "stdout",
     "output_type": "stream",
     "text": [
      "\u001b[36m(_tune pid=1226)\u001b[0m \n",
      "\u001b[36m(_tune pid=1226)\u001b[0m       Epoch    GPU_mem   box_loss   cls_loss   dfl_loss  Instances       Size\n"
     ]
    },
    {
     "name": "stderr",
     "output_type": "stream",
     "text": [
      "       6/10         0G      1.168      1.324      1.168        103        640:  12%|█▎        | 1/8 [00:04<00:34,  4.97s/it]\n",
      "       6/10         0G      1.126      1.215       1.16        149        640:  25%|██▌       | 2/8 [00:09<00:28,  4.75s/it]\n",
      "       6/10         0G      1.179      1.227      1.181        115        640:  38%|███▊      | 3/8 [00:14<00:24,  4.91s/it]\n",
      "       6/10         0G      1.135       1.16      1.155         93        640:  50%|█████     | 4/8 [00:19<00:19,  4.85s/it]\n",
      "       6/10         0G      1.189      1.235       1.18        186        640:  62%|██████▎   | 5/8 [00:24<00:14,  4.85s/it]\n",
      "       6/10         0G      1.147      1.251      1.182         53        640:  75%|███████▌  | 6/8 [00:29<00:09,  4.81s/it]\n",
      "       6/10         0G       1.13      1.242       1.17         79        640:  88%|████████▊ | 7/8 [00:33<00:04,  4.81s/it]\n",
      "       6/10         0G      1.105      1.209      1.162         95        640: 100%|██████████| 8/8 [00:38<00:00,  4.79s/it]\n",
      "                 Class     Images  Instances      Box(P          R      mAP50  mAP50-95):   0%|          | 0/4 [00:00<?, ?it/s]\n",
      "                 Class     Images  Instances      Box(P          R      mAP50  mAP50-95):  25%|██▌       | 1/4 [00:02<00:07,  2.56s/it]\n",
      "                 Class     Images  Instances      Box(P          R      mAP50  mAP50-95):  50%|█████     | 2/4 [00:05<00:05,  2.88s/it]\n",
      "                 Class     Images  Instances      Box(P          R      mAP50  mAP50-95):  75%|███████▌  | 3/4 [00:09<00:03,  3.42s/it]\n",
      "                 Class     Images  Instances      Box(P          R      mAP50  mAP50-95): 100%|██████████| 4/4 [00:13<00:00,  3.30s/it]\n"
     ]
    },
    {
     "name": "stdout",
     "output_type": "stream",
     "text": [
      "\u001b[36m(_tune pid=1226)\u001b[0m                    all        128        929      0.693      0.625      0.683      0.511\n"
     ]
    },
    {
     "name": "stderr",
     "output_type": "stream",
     "text": [
      "  0%|          | 0/8 [00:00<?, ?it/s]\n"
     ]
    },
    {
     "name": "stdout",
     "output_type": "stream",
     "text": [
      "\u001b[36m(_tune pid=1226)\u001b[0m \n",
      "\u001b[36m(_tune pid=1226)\u001b[0m       Epoch    GPU_mem   box_loss   cls_loss   dfl_loss  Instances       Size\n"
     ]
    },
    {
     "name": "stderr",
     "output_type": "stream",
     "text": [
      "       7/10         0G      1.223      1.294      1.211         91        640:  12%|█▎        | 1/8 [00:05<00:38,  5.53s/it]\n",
      "       7/10         0G      1.192      1.206      1.186        132        640:  25%|██▌       | 2/8 [00:10<00:30,  5.08s/it]\n"
     ]
    }
   ],
   "source": [
    "from ultralytics import YOLO\n",
    "\n",
    "# Define a YOLO model\n",
    "model = YOLO(\"yolov8n.pt\")\n",
    "\n",
    "# Run Ray Tune on the model\n",
    "result_grid = model.tune(data=\"coco128.yaml\",\n",
    "                         space={\"lr0\": tune.uniform(1e-5, 1e-1)},\n",
    "                         epochs=10,\n",
    "                         use_ray=True)"
   ]
  },
  {
   "cell_type": "markdown",
   "id": "9549ec64-5678-4902-9321-e68a542e0caa",
   "metadata": {},
   "source": [
    "### Processing Ray Tune Results"
   ]
  },
  {
   "cell_type": "code",
   "execution_count": null,
   "id": "970786a4-8d3e-4a43-acf9-c5f360a44aa7",
   "metadata": {},
   "outputs": [],
   "source": [
    "# storage_path = 'runs/detect/tune'\n",
    "# tune = '_tune_2024-02-27_17-08-37'\n",
    "# experiment = 'experiment_state-2024-02-27_17-08-37.json'\n",
    "\n",
    "# experiment_path = f\"{storage_path}/{tune}/{experiment}\"\n",
    "# print(f\"Loading results from {experiment_path}...\")\n",
    "\n",
    "# restored_tuner = tune.Tuner.restore(experiment_path, trainable=\"_tune\")\n",
    "# result_grid = restored_tuner.get_results()"
   ]
  },
  {
   "cell_type": "code",
   "execution_count": 21,
   "id": "800b155a-316e-4e60-95a4-c23704649a2e",
   "metadata": {},
   "outputs": [
    {
     "name": "stdout",
     "output_type": "stream",
     "text": [
      "Trial #0: Configuration: {'lr0': 0.022139359677241066, 'data': 'coco128.yaml', 'epochs': 10}, Last Reported Metrics: {'metrics/precision(B)': 0.6870841651209729, 'metrics/recall(B)': 0.6770751611424184, 'metrics/mAP50(B)': 0.7106112928649144, 'metrics/mAP50-95(B)': 0.5297666352827185, 'fitness': 0.5478511010409381, 'timestamp': 1709054308, 'checkpoint_dir_name': None, 'done': True, 'training_iteration': 1, 'trial_id': 'd8cbe_00000', 'date': '2024-02-27_17-18-28', 'time_this_iter_s': 589.4447066783905, 'time_total_s': 589.4447066783905, 'pid': 1041, 'hostname': 'fec87aab8937', 'node_ip': '172.17.0.2', 'config': {'lr0': 0.022139359677241066, 'data': 'coco128.yaml', 'epochs': 10}, 'time_since_restore': 589.4447066783905, 'iterations_since_restore': 1, 'experiment_tag': '0_lr0=0.0221'}\n",
      "Trial #1: Configuration: {'lr0': 0.07427690062071145, 'data': 'coco128.yaml'}, Last Reported Metrics: {'trial_id': 'd8cbe_00001', 'date': '2024-02-27_17-18-28', 'timestamp': 1709054308, 'pid': 1041, 'hostname': 'fec87aab8937', 'node_ip': '172.17.0.2', 'config': {'lr0': 0.07427690062071145, 'data': 'coco128.yaml'}}\n",
      "Trial #2: Configuration: {'lr0': 0.0014192225531678279, 'data': 'coco128.yaml', 'epochs': 10}, Last Reported Metrics: {'metrics/precision(B)': 0.6870841651209729, 'metrics/recall(B)': 0.6770751611424184, 'metrics/mAP50(B)': 0.7106112928649144, 'metrics/mAP50-95(B)': 0.5297666352827185, 'fitness': 0.5478511010409381, 'timestamp': 1709054875, 'checkpoint_dir_name': None, 'done': True, 'training_iteration': 1, 'trial_id': 'd8cbe_00002', 'date': '2024-02-27_17-27-55', 'time_this_iter_s': 561.102489233017, 'time_total_s': 561.102489233017, 'pid': 1551, 'hostname': 'fec87aab8937', 'node_ip': '172.17.0.2', 'config': {'lr0': 0.0014192225531678279, 'data': 'coco128.yaml', 'epochs': 10}, 'time_since_restore': 561.102489233017, 'iterations_since_restore': 1, 'experiment_tag': '2_lr0=0.0014'}\n",
      "Trial #3: Configuration: {'lr0': 0.07521082103299316, 'data': 'coco128.yaml'}, Last Reported Metrics: {'trial_id': 'd8cbe_00003', 'date': '2024-02-27_17-27-55', 'timestamp': 1709054875, 'pid': 1551, 'hostname': 'fec87aab8937', 'node_ip': '172.17.0.2', 'config': {'lr0': 0.07521082103299316, 'data': 'coco128.yaml'}}\n",
      "Trial #4: Configuration: {'lr0': 0.07717176076477328, 'data': 'coco128.yaml', 'epochs': 10}, Last Reported Metrics: {'metrics/precision(B)': 0.6870841651209729, 'metrics/recall(B)': 0.6770751611424184, 'metrics/mAP50(B)': 0.7106112928649144, 'metrics/mAP50-95(B)': 0.5297666352827185, 'fitness': 0.5478511010409381, 'timestamp': 1709055470, 'checkpoint_dir_name': None, 'done': True, 'training_iteration': 1, 'trial_id': 'd8cbe_00004', 'date': '2024-02-27_17-37-50', 'time_this_iter_s': 588.7714297771454, 'time_total_s': 588.7714297771454, 'pid': 2013, 'hostname': 'fec87aab8937', 'node_ip': '172.17.0.2', 'config': {'lr0': 0.07717176076477328, 'data': 'coco128.yaml', 'epochs': 10}, 'time_since_restore': 588.7714297771454, 'iterations_since_restore': 1, 'experiment_tag': '4_lr0=0.0772'}\n",
      "Trial #5: Configuration: {'lr0': 0.0545660956972016, 'data': 'coco128.yaml'}, Last Reported Metrics: {'trial_id': 'd8cbe_00005', 'date': '2024-02-27_17-37-50', 'timestamp': 1709055470, 'pid': 2013, 'hostname': 'fec87aab8937', 'node_ip': '172.17.0.2', 'config': {'lr0': 0.0545660956972016, 'data': 'coco128.yaml'}}\n",
      "Trial #6: Configuration: {'lr0': 0.09869635138073933, 'data': 'coco128.yaml', 'epochs': 10}, Last Reported Metrics: {'metrics/precision(B)': 0.6870841651209729, 'metrics/recall(B)': 0.6770751611424184, 'metrics/mAP50(B)': 0.7106112928649144, 'metrics/mAP50-95(B)': 0.5297666352827185, 'fitness': 0.5478511010409381, 'timestamp': 1709056067, 'checkpoint_dir_name': None, 'done': True, 'training_iteration': 1, 'trial_id': 'd8cbe_00006', 'date': '2024-02-27_17-47-47', 'time_this_iter_s': 588.846440076828, 'time_total_s': 588.846440076828, 'pid': 2487, 'hostname': 'fec87aab8937', 'node_ip': '172.17.0.2', 'config': {'lr0': 0.09869635138073933, 'data': 'coco128.yaml', 'epochs': 10}, 'time_since_restore': 588.846440076828, 'iterations_since_restore': 1, 'experiment_tag': '6_lr0=0.0987'}\n",
      "Trial #7: Configuration: {'lr0': 0.09134110039917798, 'data': 'coco128.yaml'}, Last Reported Metrics: {'trial_id': 'd8cbe_00007', 'date': '2024-02-27_17-47-47', 'timestamp': 1709056067, 'pid': 2487, 'hostname': 'fec87aab8937', 'node_ip': '172.17.0.2', 'config': {'lr0': 0.09134110039917798, 'data': 'coco128.yaml'}}\n",
      "Trial #8: Configuration: {'lr0': 0.06814106131240176, 'data': 'coco128.yaml', 'epochs': 10}, Last Reported Metrics: {'metrics/precision(B)': 0.6870841651209729, 'metrics/recall(B)': 0.6770751611424184, 'metrics/mAP50(B)': 0.7106112928649144, 'metrics/mAP50-95(B)': 0.5297666352827185, 'fitness': 0.5478511010409381, 'timestamp': 1709056655, 'checkpoint_dir_name': None, 'done': True, 'training_iteration': 1, 'trial_id': 'd8cbe_00008', 'date': '2024-02-27_17-57-35', 'time_this_iter_s': 581.4498834609985, 'time_total_s': 581.4498834609985, 'pid': 2964, 'hostname': 'fec87aab8937', 'node_ip': '172.17.0.2', 'config': {'lr0': 0.06814106131240176, 'data': 'coco128.yaml', 'epochs': 10}, 'time_since_restore': 581.4498834609985, 'iterations_since_restore': 1, 'experiment_tag': '8_lr0=0.0681'}\n",
      "Trial #9: Configuration: {'lr0': 0.03522810291850651, 'data': 'coco128.yaml'}, Last Reported Metrics: {'trial_id': 'd8cbe_00009', 'date': '2024-02-27_17-57-35', 'timestamp': 1709056655, 'pid': 2964, 'hostname': 'fec87aab8937', 'node_ip': '172.17.0.2', 'config': {'lr0': 0.03522810291850651, 'data': 'coco128.yaml'}}\n"
     ]
    }
   ],
   "source": [
    "for i, result in enumerate(result_grid):\n",
    "    print(f\"Trial #{i}: Configuration: {result.config}, Last Reported Metrics: {result.metrics}\")"
   ]
  },
  {
   "cell_type": "code",
   "execution_count": 31,
   "id": "407749e1-7a3c-4a3e-ad65-dc858e8e53e8",
   "metadata": {
    "scrolled": true
   },
   "outputs": [
    {
     "name": "stdout",
     "output_type": "stream",
     "text": [
      "Result(\n",
      "  metrics={'metrics/precision(B)': 0.6870841651209729, 'metrics/recall(B)': 0.6770751611424184, 'metrics/mAP50(B)': 0.7106112928649144, 'metrics/mAP50-95(B)': 0.5297666352827185, 'fitness': 0.5478511010409381},\n",
      "  path='/opt/app/notebooks/runs/detect/tune/_tune_2024-02-27_17-08-37/_tune_d8cbe_00000_0_lr0=0.0221_2024-02-27_17-08-37',\n",
      "  filesystem='local',\n",
      "  checkpoint=None\n",
      ")\n",
      "Result(\n",
      "  error='RayTaskError',\n",
      "  metrics={},\n",
      "  path='/opt/app/notebooks/runs/detect/tune/_tune_2024-02-27_17-08-37/_tune_d8cbe_00001_1_lr0=0.0743_2024-02-27_17-08-37',\n",
      "  filesystem='local',\n",
      "  checkpoint=None\n",
      ")\n",
      "Result(\n",
      "  metrics={'metrics/precision(B)': 0.6870841651209729, 'metrics/recall(B)': 0.6770751611424184, 'metrics/mAP50(B)': 0.7106112928649144, 'metrics/mAP50-95(B)': 0.5297666352827185, 'fitness': 0.5478511010409381},\n",
      "  path='/opt/app/notebooks/runs/detect/tune/_tune_2024-02-27_17-08-37/_tune_d8cbe_00002_2_lr0=0.0014_2024-02-27_17-08-37',\n",
      "  filesystem='local',\n",
      "  checkpoint=None\n",
      ")\n",
      "Result(\n",
      "  error='RayTaskError',\n",
      "  metrics={},\n",
      "  path='/opt/app/notebooks/runs/detect/tune/_tune_2024-02-27_17-08-37/_tune_d8cbe_00003_3_lr0=0.0752_2024-02-27_17-08-37',\n",
      "  filesystem='local',\n",
      "  checkpoint=None\n",
      ")\n",
      "Result(\n",
      "  metrics={'metrics/precision(B)': 0.6870841651209729, 'metrics/recall(B)': 0.6770751611424184, 'metrics/mAP50(B)': 0.7106112928649144, 'metrics/mAP50-95(B)': 0.5297666352827185, 'fitness': 0.5478511010409381},\n",
      "  path='/opt/app/notebooks/runs/detect/tune/_tune_2024-02-27_17-08-37/_tune_d8cbe_00004_4_lr0=0.0772_2024-02-27_17-08-37',\n",
      "  filesystem='local',\n",
      "  checkpoint=None\n",
      ")\n",
      "Result(\n",
      "  error='RayTaskError',\n",
      "  metrics={},\n",
      "  path='/opt/app/notebooks/runs/detect/tune/_tune_2024-02-27_17-08-37/_tune_d8cbe_00005_5_lr0=0.0546_2024-02-27_17-08-37',\n",
      "  filesystem='local',\n",
      "  checkpoint=None\n",
      ")\n",
      "Result(\n",
      "  metrics={'metrics/precision(B)': 0.6870841651209729, 'metrics/recall(B)': 0.6770751611424184, 'metrics/mAP50(B)': 0.7106112928649144, 'metrics/mAP50-95(B)': 0.5297666352827185, 'fitness': 0.5478511010409381},\n",
      "  path='/opt/app/notebooks/runs/detect/tune/_tune_2024-02-27_17-08-37/_tune_d8cbe_00006_6_lr0=0.0987_2024-02-27_17-08-37',\n",
      "  filesystem='local',\n",
      "  checkpoint=None\n",
      ")\n",
      "Result(\n",
      "  error='RayTaskError',\n",
      "  metrics={},\n",
      "  path='/opt/app/notebooks/runs/detect/tune/_tune_2024-02-27_17-08-37/_tune_d8cbe_00007_7_lr0=0.0913_2024-02-27_17-08-37',\n",
      "  filesystem='local',\n",
      "  checkpoint=None\n",
      ")\n",
      "Result(\n",
      "  metrics={'metrics/precision(B)': 0.6870841651209729, 'metrics/recall(B)': 0.6770751611424184, 'metrics/mAP50(B)': 0.7106112928649144, 'metrics/mAP50-95(B)': 0.5297666352827185, 'fitness': 0.5478511010409381},\n",
      "  path='/opt/app/notebooks/runs/detect/tune/_tune_2024-02-27_17-08-37/_tune_d8cbe_00008_8_lr0=0.0681_2024-02-27_17-08-37',\n",
      "  filesystem='local',\n",
      "  checkpoint=None\n",
      ")\n",
      "Result(\n",
      "  error='RayTaskError',\n",
      "  metrics={},\n",
      "  path='/opt/app/notebooks/runs/detect/tune/_tune_2024-02-27_17-08-37/_tune_d8cbe_00009_9_lr0=0.0352_2024-02-27_17-08-37',\n",
      "  filesystem='local',\n",
      "  checkpoint=None\n",
      ")\n"
     ]
    }
   ],
   "source": [
    "for result in result_grid:\n",
    "    print(result)"
   ]
  },
  {
   "cell_type": "code",
   "execution_count": 39,
   "id": "370c227f-9ca6-4f7b-b6e3-cad87282b3cd",
   "metadata": {},
   "outputs": [],
   "source": [
    "for result in result_grid:\n",
    "    if not result_grid.errors:\n",
    "      print(result.metrics_dataframe[\"metrics/precision(B)\"])"
   ]
  },
  {
   "cell_type": "code",
   "execution_count": null,
   "id": "b795edaa-6cee-4ef0-bd18-b79c4c70876c",
   "metadata": {},
   "outputs": [],
   "source": [
    "import matplotlib.pyplot as plt\n",
    "\n",
    "for result in result_grid:\n",
    "    plt.plot(result.metrics_dataframe[\"training_iteration\"], result.metrics_dataframe[\"metrics/mAP50(B)\"], label=f\"Trial {i}\")\n",
    "\n",
    "plt.xlabel('Training Iterations')\n",
    "plt.ylabel('Mean Accuracy')\n",
    "plt.legend()\n",
    "plt.show()"
   ]
  },
  {
   "cell_type": "code",
   "execution_count": null,
   "id": "fb4ef31a-4373-4b95-96b0-58b61fb593f4",
   "metadata": {},
   "outputs": [],
   "source": [
    "from ultralytics import YOLO\n",
    "from ultralytics.utils.tuner import run_ray_tune\n",
    "\n",
    "model = YOLO(\"model_path\")\n",
    "\n",
    "run_ray_tune(model, data=\"ymal_file_path\", grace_period=30, gpu_per_trial=1)"
   ]
  },
  {
   "cell_type": "code",
   "execution_count": 4,
   "id": "f6f52e39-9d82-42c4-a2a5-a014cb5a44a2",
   "metadata": {},
   "outputs": [],
   "source": [
    "from ultralytics import settings\n",
    "\n",
    "# Update a setting\n",
    "settings.update({\n",
    "    'mlflow': True,\n",
    "    'clearml': False,\n",
    "    'comet': False,\n",
    "    'dvc': False,\n",
    "    'hub': False,\n",
    "    'neptune': False,\n",
    "    'raytune': False,\n",
    "    'tensorboard': False,\n",
    "    'wandb': False\n",
    "})\n",
    "\n",
    "# Reset settings to default values\n",
    "# settings.reset()"
   ]
  },
  {
   "cell_type": "code",
   "execution_count": 5,
   "id": "acc5fd17-c246-4d64-8528-abe3df2df573",
   "metadata": {},
   "outputs": [
    {
     "name": "stdout",
     "output_type": "stream",
     "text": [
      "{'settings_version': '0.0.4', 'datasets_dir': '/opt/app/notebooks/datasets', 'weights_dir': 'weights', 'runs_dir': 'runs', 'uuid': 'af86e989f891cbd0cd78de981596cc553f47f4a708b5ec210405ae2024cb9aec', 'sync': True, 'api_key': '', 'openai_api_key': '', 'clearml': False, 'comet': False, 'dvc': False, 'hub': False, 'mlflow': True, 'neptune': False, 'raytune': False, 'tensorboard': False, 'wandb': False}\n"
     ]
    }
   ],
   "source": [
    "print(settings)"
   ]
  },
  {
   "cell_type": "markdown",
   "id": "142635b9-34d0-4eb7-bf6b-af3bc8bcd7f8",
   "metadata": {},
   "source": [
    "## Model Training"
   ]
  },
  {
   "cell_type": "code",
   "execution_count": 7,
   "id": "50def09e-c9df-4ed9-b454-d7e5b6f98833",
   "metadata": {},
   "outputs": [
    {
     "name": "stdout",
     "output_type": "stream",
     "text": [
      "New https://pypi.org/project/ultralytics/8.1.18 available 😃 Update with 'pip install -U ultralytics'\n",
      "Ultralytics YOLOv8.1.17 🚀 Python-3.10.13 torch-2.2.0 CUDA:0 (NVIDIA GeForce GTX 1060 6GB, 6070MiB)\n",
      "\u001b[34m\u001b[1mengine/trainer: \u001b[0mtask=detect, mode=train, model=yolov8n.pt, data=coco128.yaml, epochs=3, time=None, patience=100, batch=16, imgsz=640, save=True, save_period=-1, cache=False, device=None, workers=8, project=None, name=train, exist_ok=False, pretrained=True, optimizer=auto, verbose=True, seed=0, deterministic=True, single_cls=False, rect=False, cos_lr=False, close_mosaic=10, resume=False, amp=True, fraction=1.0, profile=False, freeze=None, multi_scale=False, overlap_mask=True, mask_ratio=4, dropout=0.0, val=True, split=val, save_json=False, save_hybrid=False, conf=None, iou=0.7, max_det=300, half=False, dnn=False, plots=True, source=None, vid_stride=1, stream_buffer=False, visualize=False, augment=False, agnostic_nms=False, classes=None, retina_masks=False, embed=None, show=False, save_frames=False, save_txt=False, save_conf=False, save_crop=False, show_labels=True, show_conf=True, show_boxes=True, line_width=None, format=torchscript, keras=False, optimize=False, int8=False, dynamic=False, simplify=False, opset=None, workspace=4, nms=False, lr0=0.01, lrf=0.01, momentum=0.937, weight_decay=0.0005, warmup_epochs=3.0, warmup_momentum=0.8, warmup_bias_lr=0.1, box=7.5, cls=0.5, dfl=1.5, pose=12.0, kobj=1.0, label_smoothing=0.0, nbs=64, hsv_h=0.015, hsv_s=0.7, hsv_v=0.4, degrees=0.0, translate=0.1, scale=0.5, shear=0.0, perspective=0.0, flipud=0.0, fliplr=0.5, mosaic=1.0, mixup=0.0, copy_paste=0.0, auto_augment=randaugment, erasing=0.4, crop_fraction=1.0, cfg=None, tracker=botsort.yaml, save_dir=runs/detect/train\n",
      "\n",
      "                   from  n    params  module                                       arguments                     \n",
      "  0                  -1  1       464  ultralytics.nn.modules.conv.Conv             [3, 16, 3, 2]                 \n",
      "  1                  -1  1      4672  ultralytics.nn.modules.conv.Conv             [16, 32, 3, 2]                \n",
      "  2                  -1  1      7360  ultralytics.nn.modules.block.C2f             [32, 32, 1, True]             \n",
      "  3                  -1  1     18560  ultralytics.nn.modules.conv.Conv             [32, 64, 3, 2]                \n",
      "  4                  -1  2     49664  ultralytics.nn.modules.block.C2f             [64, 64, 2, True]             \n",
      "  5                  -1  1     73984  ultralytics.nn.modules.conv.Conv             [64, 128, 3, 2]               \n",
      "  6                  -1  2    197632  ultralytics.nn.modules.block.C2f             [128, 128, 2, True]           \n",
      "  7                  -1  1    295424  ultralytics.nn.modules.conv.Conv             [128, 256, 3, 2]              \n",
      "  8                  -1  1    460288  ultralytics.nn.modules.block.C2f             [256, 256, 1, True]           \n",
      "  9                  -1  1    164608  ultralytics.nn.modules.block.SPPF            [256, 256, 5]                 \n",
      " 10                  -1  1         0  torch.nn.modules.upsampling.Upsample         [None, 2, 'nearest']          \n",
      " 11             [-1, 6]  1         0  ultralytics.nn.modules.conv.Concat           [1]                           \n",
      " 12                  -1  1    148224  ultralytics.nn.modules.block.C2f             [384, 128, 1]                 \n",
      " 13                  -1  1         0  torch.nn.modules.upsampling.Upsample         [None, 2, 'nearest']          \n",
      " 14             [-1, 4]  1         0  ultralytics.nn.modules.conv.Concat           [1]                           \n",
      " 15                  -1  1     37248  ultralytics.nn.modules.block.C2f             [192, 64, 1]                  \n",
      " 16                  -1  1     36992  ultralytics.nn.modules.conv.Conv             [64, 64, 3, 2]                \n",
      " 17            [-1, 12]  1         0  ultralytics.nn.modules.conv.Concat           [1]                           \n",
      " 18                  -1  1    123648  ultralytics.nn.modules.block.C2f             [192, 128, 1]                 \n",
      " 19                  -1  1    147712  ultralytics.nn.modules.conv.Conv             [128, 128, 3, 2]              \n",
      " 20             [-1, 9]  1         0  ultralytics.nn.modules.conv.Concat           [1]                           \n",
      " 21                  -1  1    493056  ultralytics.nn.modules.block.C2f             [384, 256, 1]                 \n",
      " 22        [15, 18, 21]  1    897664  ultralytics.nn.modules.head.Detect           [80, [64, 128, 256]]          \n",
      "Model summary: 225 layers, 3157200 parameters, 3157184 gradients, 8.9 GFLOPs\n",
      "\n",
      "Transferred 355/355 items from pretrained weights\n",
      "Freezing layer 'model.22.dfl.conv.weight'\n",
      "\u001b[34m\u001b[1mAMP: \u001b[0mrunning Automatic Mixed Precision (AMP) checks with YOLOv8n...\n",
      "\u001b[34m\u001b[1mAMP: \u001b[0mchecks passed ✅\n"
     ]
    },
    {
     "name": "stderr",
     "output_type": "stream",
     "text": [
      "\u001b[34m\u001b[1mtrain: \u001b[0mScanning /opt/app/notebooks/datasets/coco128/labels/train2017.cache... 126 images, 2 backgrounds, 0 corrupt: \u001b[0m\n",
      "\u001b[34m\u001b[1mval: \u001b[0mScanning /opt/app/notebooks/datasets/coco128/labels/train2017.cache... 126 images, 2 backgrounds, 0 corrupt: 10\u001b[0m\n"
     ]
    },
    {
     "name": "stdout",
     "output_type": "stream",
     "text": [
      "Plotting labels to runs/detect/train/labels.jpg... \n",
      "\u001b[34m\u001b[1moptimizer:\u001b[0m 'optimizer=auto' found, ignoring 'lr0=0.01' and 'momentum=0.937' and determining best 'optimizer', 'lr0' and 'momentum' automatically... \n",
      "\u001b[34m\u001b[1moptimizer:\u001b[0m AdamW(lr=0.000119, momentum=0.9) with parameter groups 57 weight(decay=0.0), 64 weight(decay=0.0005), 63 bias(decay=0.0)\n",
      "\u001b[34m\u001b[1mMLflow: \u001b[0mlogging run_id(990096c31fbc48c59c97834ec396bd4f) to runs/mlflow\n",
      "\u001b[34m\u001b[1mMLflow: \u001b[0mview at http://127.0.0.1:5000 with 'mlflow server --backend-store-uri runs/mlflow'\n",
      "\u001b[34m\u001b[1mMLflow: \u001b[0mdisable with 'yolo settings mlflow=False'\n",
      "Image sizes 640 train, 640 val\n",
      "Using 8 dataloader workers\n",
      "Logging results to \u001b[1mruns/detect/train\u001b[0m\n",
      "Starting training for 3 epochs...\n",
      "\n",
      "      Epoch    GPU_mem   box_loss   cls_loss   dfl_loss  Instances       Size\n"
     ]
    },
    {
     "name": "stderr",
     "output_type": "stream",
     "text": [
      "        1/3       2.6G      1.226      1.615      1.274        178        640: 100%|██████████| 8/8 [00:03<00:00,  2\n",
      "                 Class     Images  Instances      Box(P          R      mAP50  mAP50-95): 100%|██████████| 4/4 [00:0"
     ]
    },
    {
     "name": "stdout",
     "output_type": "stream",
     "text": [
      "                   all        128        929      0.644      0.527      0.612      0.454\n"
     ]
    },
    {
     "name": "stderr",
     "output_type": "stream",
     "text": [
      "\n"
     ]
    },
    {
     "name": "stdout",
     "output_type": "stream",
     "text": [
      "\n",
      "      Epoch    GPU_mem   box_loss   cls_loss   dfl_loss  Instances       Size\n"
     ]
    },
    {
     "name": "stderr",
     "output_type": "stream",
     "text": [
      "        2/3      2.56G      1.224       1.51      1.267        231        640: 100%|██████████| 8/8 [00:03<00:00,  2\n",
      "                 Class     Images  Instances      Box(P          R      mAP50  mAP50-95): 100%|██████████| 4/4 [00:0"
     ]
    },
    {
     "name": "stdout",
     "output_type": "stream",
     "text": [
      "                   all        128        929      0.657      0.553      0.623      0.466\n"
     ]
    },
    {
     "name": "stderr",
     "output_type": "stream",
     "text": [
      "\n"
     ]
    },
    {
     "name": "stdout",
     "output_type": "stream",
     "text": [
      "\n",
      "      Epoch    GPU_mem   box_loss   cls_loss   dfl_loss  Instances       Size\n"
     ]
    },
    {
     "name": "stderr",
     "output_type": "stream",
     "text": [
      "        3/3      2.65G      1.207      1.442      1.221        178        640: 100%|██████████| 8/8 [00:03<00:00,  2\n",
      "                 Class     Images  Instances      Box(P          R      mAP50  mAP50-95): 100%|██████████| 4/4 [00:0"
     ]
    },
    {
     "name": "stdout",
     "output_type": "stream",
     "text": [
      "                   all        128        929      0.671      0.547      0.629      0.468\n"
     ]
    },
    {
     "name": "stderr",
     "output_type": "stream",
     "text": [
      "\n"
     ]
    },
    {
     "name": "stdout",
     "output_type": "stream",
     "text": [
      "\n",
      "3 epochs completed in 0.005 hours.\n",
      "Optimizer stripped from runs/detect/train/weights/last.pt, 6.5MB\n",
      "Optimizer stripped from runs/detect/train/weights/best.pt, 6.5MB\n",
      "\n",
      "Validating runs/detect/train/weights/best.pt...\n",
      "Ultralytics YOLOv8.1.17 🚀 Python-3.10.13 torch-2.2.0 CUDA:0 (NVIDIA GeForce GTX 1060 6GB, 6070MiB)\n",
      "Model summary (fused): 168 layers, 3151904 parameters, 0 gradients, 8.7 GFLOPs\n"
     ]
    },
    {
     "name": "stderr",
     "output_type": "stream",
     "text": [
      "                 Class     Images  Instances      Box(P          R      mAP50  mAP50-95): 100%|██████████| 4/4 [00:0\n"
     ]
    },
    {
     "name": "stdout",
     "output_type": "stream",
     "text": [
      "                   all        128        929      0.672      0.547       0.63      0.469\n",
      "                person        128        254       0.78      0.677      0.767       0.54\n",
      "               bicycle        128          6      0.601      0.333      0.325      0.281\n",
      "                   car        128         46      0.798      0.217      0.281      0.185\n",
      "            motorcycle        128          5      0.685      0.877      0.938      0.721\n",
      "              airplane        128          6      0.828      0.806      0.903      0.675\n",
      "                   bus        128          7      0.717      0.714      0.736      0.648\n",
      "                 train        128          3      0.551      0.667      0.723      0.645\n",
      "                 truck        128         12          1      0.376      0.491       0.31\n",
      "                  boat        128          6      0.284      0.167      0.376      0.229\n",
      "         traffic light        128         14      0.712      0.181      0.202      0.139\n",
      "             stop sign        128          2      0.922          1      0.995      0.725\n",
      "                 bench        128          9       0.83      0.545      0.635        0.4\n",
      "                  bird        128         16      0.923      0.749      0.908      0.554\n",
      "                   cat        128          4      0.862          1      0.995      0.835\n",
      "                   dog        128          9      0.705      0.797      0.851      0.655\n",
      "                 horse        128          2       0.54          1      0.995      0.512\n",
      "              elephant        128         17      0.855      0.765      0.883       0.66\n",
      "                  bear        128          1      0.631          1      0.995      0.995\n",
      "                 zebra        128          4      0.856          1      0.995      0.965\n",
      "               giraffe        128          9      0.801      0.893      0.963      0.721\n",
      "              backpack        128          6      0.603      0.333      0.393      0.236\n",
      "              umbrella        128         18      0.722        0.5      0.661      0.457\n",
      "               handbag        128         19      0.588     0.0803      0.181     0.0955\n",
      "                   tie        128          7      0.695      0.656      0.641      0.457\n",
      "              suitcase        128          4      0.623      0.836      0.828      0.599\n",
      "               frisbee        128          5      0.601        0.8      0.759      0.655\n",
      "                  skis        128          1      0.606          1      0.995      0.497\n",
      "             snowboard        128          7      0.712      0.714      0.755      0.483\n",
      "           sports ball        128          6      0.695      0.389      0.503      0.291\n",
      "                  kite        128         10      0.828        0.5      0.594      0.204\n",
      "          baseball bat        128          4      0.575      0.363       0.42      0.175\n",
      "        baseball glove        128          7      0.671      0.429      0.429      0.295\n",
      "            skateboard        128          5      0.773        0.6        0.6       0.44\n",
      "         tennis racket        128          7      0.732      0.398       0.53      0.394\n",
      "                bottle        128         18      0.517      0.389      0.373      0.213\n",
      "            wine glass        128         16      0.573      0.562      0.587      0.365\n",
      "                   cup        128         36       0.63      0.284      0.399      0.278\n",
      "                  fork        128          6       0.59      0.167      0.264      0.193\n",
      "                 knife        128         16      0.645        0.5      0.621      0.358\n",
      "                 spoon        128         22      0.559      0.182      0.316       0.17\n",
      "                  bowl        128         28      0.653      0.571      0.619      0.505\n",
      "                banana        128          1          0          0      0.166     0.0485\n",
      "              sandwich        128          2      0.382      0.645      0.497      0.497\n",
      "                orange        128          4          1      0.318      0.995      0.666\n",
      "              broccoli        128         11      0.471      0.182      0.247      0.222\n",
      "                carrot        128         24      0.717      0.458      0.665      0.414\n",
      "               hot dog        128          2      0.648      0.943      0.828      0.796\n",
      "                 pizza        128          5      0.698          1      0.995       0.86\n",
      "                 donut        128         14      0.641          1      0.934      0.848\n",
      "                  cake        128          4      0.641          1      0.995       0.88\n",
      "                 chair        128         35      0.465      0.522      0.472       0.27\n",
      "                 couch        128          6      0.557        0.5      0.671      0.506\n",
      "          potted plant        128         14      0.812      0.618      0.722      0.484\n",
      "                   bed        128          3      0.744      0.667      0.806      0.633\n",
      "          dining table        128         13      0.457      0.615      0.512      0.413\n",
      "                toilet        128          2          1      0.869      0.995      0.946\n",
      "                    tv        128          2      0.392        0.5      0.695      0.656\n",
      "                laptop        128          3          1          0      0.679      0.531\n",
      "                 mouse        128          2          1          0      0.048     0.0048\n",
      "                remote        128          8       0.85        0.5      0.577      0.499\n",
      "            cell phone        128          8          0          0     0.0703     0.0481\n",
      "             microwave        128          3      0.587      0.667       0.83      0.715\n",
      "                  oven        128          5       0.48        0.4       0.34      0.271\n",
      "                  sink        128          6      0.366      0.167      0.221      0.155\n",
      "          refrigerator        128          5      0.675        0.4      0.623      0.505\n",
      "                  book        128         29      0.623      0.115      0.339      0.181\n",
      "                 clock        128          9      0.778      0.779      0.894      0.754\n",
      "                  vase        128          2      0.411          1      0.828      0.795\n",
      "              scissors        128          1          1          0      0.249     0.0746\n",
      "            teddy bear        128         21          1      0.372      0.643      0.421\n",
      "            toothbrush        128          5      0.862        0.6      0.738      0.486\n",
      "Speed: 0.8ms preprocess, 4.4ms inference, 0.0ms loss, 1.0ms postprocess per image\n",
      "Results saved to \u001b[1mruns/detect/train\u001b[0m\n",
      "\u001b[34m\u001b[1mMLflow: \u001b[0mresults logged to runs/mlflow\n",
      "\u001b[34m\u001b[1mMLflow: \u001b[0mdisable with 'yolo settings mlflow=False'\n"
     ]
    }
   ],
   "source": [
    "from ultralytics import YOLO\n",
    "\n",
    "# Create a new YOLO model from scratch\n",
    "# model = YOLO('yolov8n.yaml')\n",
    "\n",
    "# Load a pretrained YOLO model (recommended for training)\n",
    "model = YOLO('yolov8n.pt')\n",
    "\n",
    "# Train the model using the 'coco128.yaml' dataset for 3 epochs\n",
    "results = model.train(data='coco128.yaml', epochs=3)"
   ]
  },
  {
   "cell_type": "code",
   "execution_count": 8,
   "id": "9423e996-3a10-4384-b1a9-2ffb6611de67",
   "metadata": {
    "scrolled": true
   },
   "outputs": [
    {
     "name": "stdout",
     "output_type": "stream",
     "text": [
      "Ultralytics YOLOv8.1.17 🚀 Python-3.10.13 torch-2.2.0 CUDA:0 (NVIDIA GeForce GTX 1060 6GB, 6070MiB)\n",
      "Model summary (fused): 168 layers, 3151904 parameters, 0 gradients, 8.7 GFLOPs\n"
     ]
    },
    {
     "name": "stderr",
     "output_type": "stream",
     "text": [
      "\u001b[34m\u001b[1mval: \u001b[0mScanning /opt/app/notebooks/datasets/coco128/labels/train2017.cache... 126 images, 2 backgrounds, 0 corrupt: 10\u001b[0m\n",
      "                 Class     Images  Instances      Box(P          R      mAP50  mAP50-95): 100%|██████████| 8/8 [00:0\n"
     ]
    },
    {
     "name": "stdout",
     "output_type": "stream",
     "text": [
      "                   all        128        929      0.669      0.547      0.627      0.467\n",
      "                person        128        254      0.786      0.681      0.766      0.542\n",
      "               bicycle        128          6      0.595      0.333      0.323       0.28\n",
      "                   car        128         46      0.786      0.217      0.284      0.183\n",
      "            motorcycle        128          5      0.687      0.884      0.898       0.73\n",
      "              airplane        128          6      0.828      0.808      0.903      0.674\n",
      "                   bus        128          7      0.668      0.714      0.735      0.648\n",
      "                 train        128          3      0.548      0.667      0.731      0.652\n",
      "                 truck        128         12      0.986      0.417      0.497      0.299\n",
      "                  boat        128          6      0.273      0.167      0.334      0.142\n",
      "         traffic light        128         14      0.702      0.173      0.202      0.139\n",
      "             stop sign        128          2      0.907          1      0.995      0.725\n",
      "                 bench        128          9      0.832       0.55      0.635      0.399\n",
      "                  bird        128         16      0.921       0.75      0.894      0.528\n",
      "                   cat        128          4      0.861          1      0.995      0.835\n",
      "                   dog        128          9      0.709      0.815      0.854      0.652\n",
      "                 horse        128          2      0.539          1      0.995      0.512\n",
      "              elephant        128         17      0.853      0.765      0.883       0.66\n",
      "                  bear        128          1      0.629          1      0.995      0.995\n",
      "                 zebra        128          4      0.855          1      0.995      0.965\n",
      "               giraffe        128          9        0.9      0.997      0.962      0.759\n",
      "              backpack        128          6      0.615      0.333      0.392      0.235\n",
      "              umbrella        128         18      0.713        0.5      0.655      0.453\n",
      "               handbag        128         19      0.607     0.0865      0.178     0.0945\n",
      "                   tie        128          7        0.7      0.671      0.641      0.457\n",
      "              suitcase        128          4      0.635      0.883      0.828      0.599\n",
      "               frisbee        128          5      0.593        0.8      0.759      0.663\n",
      "                  skis        128          1       0.58          1      0.995      0.497\n",
      "             snowboard        128          7       0.71      0.714      0.753      0.482\n",
      "           sports ball        128          6      0.696      0.392      0.503       0.29\n",
      "                  kite        128         10      0.822        0.5      0.596      0.219\n",
      "          baseball bat        128          4      0.562       0.25      0.354      0.175\n",
      "        baseball glove        128          7      0.639      0.429      0.429      0.295\n",
      "            skateboard        128          5      0.873        0.6        0.6       0.44\n",
      "         tennis racket        128          7      0.733        0.4       0.53      0.366\n",
      "                bottle        128         18      0.517      0.389      0.393      0.247\n",
      "            wine glass        128         16      0.575      0.562      0.555       0.34\n",
      "                   cup        128         36      0.599       0.29       0.41      0.291\n",
      "                  fork        128          6      0.573      0.167      0.227      0.177\n",
      "                 knife        128         16      0.576        0.5      0.603      0.364\n",
      "                 spoon        128         22      0.639      0.182      0.317      0.176\n",
      "                  bowl        128         28      0.745      0.643      0.653      0.497\n",
      "                banana        128          1          0          0      0.111     0.0442\n",
      "              sandwich        128          2      0.193      0.289      0.497      0.497\n",
      "                orange        128          4          1      0.322      0.995      0.666\n",
      "              broccoli        128         11      0.507      0.182      0.259      0.208\n",
      "                carrot        128         24      0.729       0.56       0.66       0.42\n",
      "               hot dog        128          2      0.646      0.937      0.828      0.796\n",
      "                 pizza        128          5      0.736          1      0.995       0.86\n",
      "                 donut        128         14       0.64          1      0.926      0.841\n",
      "                  cake        128          4      0.608          1      0.945      0.845\n",
      "                 chair        128         35      0.471      0.543      0.472      0.263\n",
      "                 couch        128          6      0.621        0.5      0.737       0.56\n",
      "          potted plant        128         14      0.814      0.626      0.725      0.484\n",
      "                   bed        128          3      0.742      0.667      0.913      0.675\n",
      "          dining table        128         13      0.451      0.615      0.505      0.391\n",
      "                toilet        128          2          1      0.871      0.995      0.946\n",
      "                    tv        128          2      0.389        0.5      0.695      0.656\n",
      "                laptop        128          3          1          0      0.605      0.484\n",
      "                 mouse        128          2          1          0      0.069     0.0069\n",
      "                remote        128          8      0.847        0.5      0.598      0.508\n",
      "            cell phone        128          8          0          0     0.0703     0.0472\n",
      "             microwave        128          3      0.579      0.667       0.83      0.733\n",
      "                  oven        128          5      0.454        0.4       0.34      0.271\n",
      "                  sink        128          6      0.377      0.167      0.171      0.128\n",
      "          refrigerator        128          5      0.673        0.4      0.627      0.481\n",
      "                  book        128         29      0.632       0.12      0.366      0.197\n",
      "                 clock        128          9      0.779      0.782      0.895      0.751\n",
      "                  vase        128          2      0.409          1      0.828      0.745\n",
      "              scissors        128          1          1          0      0.249     0.0746\n",
      "            teddy bear        128         21          1      0.376       0.64      0.428\n",
      "            toothbrush        128          5      0.621        0.6      0.704      0.443\n",
      "Speed: 0.4ms preprocess, 8.5ms inference, 0.0ms loss, 2.2ms postprocess per image\n",
      "Results saved to \u001b[1mruns/detect/train2\u001b[0m\n"
     ]
    }
   ],
   "source": [
    "# Evaluate the model's performance on the validation set\n",
    "results = model.val()"
   ]
  },
  {
   "cell_type": "code",
   "execution_count": 9,
   "id": "1e5e6643-33a8-47e5-af26-13e8c11a53f6",
   "metadata": {},
   "outputs": [
    {
     "name": "stdout",
     "output_type": "stream",
     "text": [
      "\n",
      "Found https://ultralytics.com/images/bus.jpg locally at bus.jpg\n",
      "image 1/1 /opt/app/notebooks/bus.jpg: 640x480 4 persons, 1 bus, 1 stop sign, 9.3ms\n",
      "Speed: 3.1ms preprocess, 9.3ms inference, 1.6ms postprocess per image at shape (1, 3, 640, 480)\n"
     ]
    }
   ],
   "source": [
    "# Perform object detection on an image using the model\n",
    "results = model('https://ultralytics.com/images/bus.jpg')"
   ]
  },
  {
   "cell_type": "code",
   "execution_count": 10,
   "id": "d7bd6697-ffe5-492b-8fe2-72a25a7e0408",
   "metadata": {
    "scrolled": true
   },
   "outputs": [
    {
     "data": {
      "text/plain": [
       "[ultralytics.engine.results.Results object with attributes:\n",
       " \n",
       " boxes: ultralytics.engine.results.Boxes object\n",
       " keypoints: None\n",
       " masks: None\n",
       " names: {0: 'person', 1: 'bicycle', 2: 'car', 3: 'motorcycle', 4: 'airplane', 5: 'bus', 6: 'train', 7: 'truck', 8: 'boat', 9: 'traffic light', 10: 'fire hydrant', 11: 'stop sign', 12: 'parking meter', 13: 'bench', 14: 'bird', 15: 'cat', 16: 'dog', 17: 'horse', 18: 'sheep', 19: 'cow', 20: 'elephant', 21: 'bear', 22: 'zebra', 23: 'giraffe', 24: 'backpack', 25: 'umbrella', 26: 'handbag', 27: 'tie', 28: 'suitcase', 29: 'frisbee', 30: 'skis', 31: 'snowboard', 32: 'sports ball', 33: 'kite', 34: 'baseball bat', 35: 'baseball glove', 36: 'skateboard', 37: 'surfboard', 38: 'tennis racket', 39: 'bottle', 40: 'wine glass', 41: 'cup', 42: 'fork', 43: 'knife', 44: 'spoon', 45: 'bowl', 46: 'banana', 47: 'apple', 48: 'sandwich', 49: 'orange', 50: 'broccoli', 51: 'carrot', 52: 'hot dog', 53: 'pizza', 54: 'donut', 55: 'cake', 56: 'chair', 57: 'couch', 58: 'potted plant', 59: 'bed', 60: 'dining table', 61: 'toilet', 62: 'tv', 63: 'laptop', 64: 'mouse', 65: 'remote', 66: 'keyboard', 67: 'cell phone', 68: 'microwave', 69: 'oven', 70: 'toaster', 71: 'sink', 72: 'refrigerator', 73: 'book', 74: 'clock', 75: 'vase', 76: 'scissors', 77: 'teddy bear', 78: 'hair drier', 79: 'toothbrush'}\n",
       " obb: None\n",
       " orig_img: array([[[122, 148, 172],\n",
       "         [120, 146, 170],\n",
       "         [125, 153, 177],\n",
       "         ...,\n",
       "         [157, 170, 184],\n",
       "         [158, 171, 185],\n",
       "         [158, 171, 185]],\n",
       " \n",
       "        [[127, 153, 177],\n",
       "         [124, 150, 174],\n",
       "         [127, 155, 179],\n",
       "         ...,\n",
       "         [158, 171, 185],\n",
       "         [159, 172, 186],\n",
       "         [159, 172, 186]],\n",
       " \n",
       "        [[128, 154, 178],\n",
       "         [126, 152, 176],\n",
       "         [126, 154, 178],\n",
       "         ...,\n",
       "         [158, 171, 185],\n",
       "         [158, 171, 185],\n",
       "         [158, 171, 185]],\n",
       " \n",
       "        ...,\n",
       " \n",
       "        [[185, 185, 191],\n",
       "         [182, 182, 188],\n",
       "         [179, 179, 185],\n",
       "         ...,\n",
       "         [114, 107, 112],\n",
       "         [115, 105, 111],\n",
       "         [116, 106, 112]],\n",
       " \n",
       "        [[157, 157, 163],\n",
       "         [180, 180, 186],\n",
       "         [185, 186, 190],\n",
       "         ...,\n",
       "         [107,  97, 103],\n",
       "         [102,  92,  98],\n",
       "         [108,  98, 104]],\n",
       " \n",
       "        [[112, 112, 118],\n",
       "         [160, 160, 166],\n",
       "         [169, 170, 174],\n",
       "         ...,\n",
       "         [ 99,  89,  95],\n",
       "         [ 96,  86,  92],\n",
       "         [102,  92,  98]]], dtype=uint8)\n",
       " orig_shape: (1080, 810)\n",
       " path: '/opt/app/notebooks/bus.jpg'\n",
       " probs: None\n",
       " save_dir: None\n",
       " speed: {'preprocess': 3.1189918518066406, 'inference': 9.268522262573242, 'postprocess': 1.5952587127685547}]"
      ]
     },
     "execution_count": 10,
     "metadata": {},
     "output_type": "execute_result"
    }
   ],
   "source": [
    "results"
   ]
  },
  {
   "cell_type": "markdown",
   "id": "480e4555-ee48-4983-bb62-55b3c76b07aa",
   "metadata": {},
   "source": [
    "## Gradio for Object Detection"
   ]
  },
  {
   "cell_type": "code",
   "execution_count": 5,
   "id": "6b3167cb-62d4-4e63-84b3-da4df7007a73",
   "metadata": {},
   "outputs": [
    {
     "name": "stdout",
     "output_type": "stream",
     "text": [
      "Running on local URL:  http://0.0.0.0:7861\n",
      "\n",
      "To create a public link, set `share=True` in `launch()`.\n",
      "\n",
      "0: 384x640 1 person, 1 sports ball, 84.4ms\n",
      "Speed: 4.3ms preprocess, 84.4ms inference, 295.8ms postprocess per image at shape (1, 3, 384, 640)\n"
     ]
    }
   ],
   "source": [
    "get_ipython().system_raw(\"python serve.py &\")\n",
    "# http://localhost:7861/"
   ]
  },
  {
   "cell_type": "code",
   "execution_count": null,
   "id": "ae0c72e0-0271-4f29-ae3e-03d3855da122",
   "metadata": {},
   "outputs": [],
   "source": []
  }
 ],
 "metadata": {
  "kernelspec": {
   "display_name": "Python 3 (ipykernel)",
   "language": "python",
   "name": "python3"
  },
  "language_info": {
   "codemirror_mode": {
    "name": "ipython",
    "version": 3
   },
   "file_extension": ".py",
   "mimetype": "text/x-python",
   "name": "python",
   "nbconvert_exporter": "python",
   "pygments_lexer": "ipython3",
   "version": "3.10.13"
  }
 },
 "nbformat": 4,
 "nbformat_minor": 5
}
