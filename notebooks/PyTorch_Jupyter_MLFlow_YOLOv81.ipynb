{
 "cells": [
  {
   "cell_type": "markdown",
   "id": "1f515942-19b7-4b3c-873d-35fc1a26d6dc",
   "metadata": {},
   "source": [
    "# YOLOv8.1"
   ]
  },
  {
   "cell_type": "markdown",
   "id": "25084b1e-ede4-4a2c-9d71-e37478e2fcab",
   "metadata": {},
   "source": [
    "## Test Cuda"
   ]
  },
  {
   "cell_type": "code",
   "execution_count": 1,
   "id": "446ce10c-5251-4e25-b61b-8e10c7335d22",
   "metadata": {},
   "outputs": [],
   "source": [
    "import torch"
   ]
  },
  {
   "cell_type": "code",
   "execution_count": 2,
   "id": "3ffacd44-d521-4b8e-999a-58e23a64fca9",
   "metadata": {},
   "outputs": [
    {
     "data": {
      "text/plain": [
       "'NVIDIA GeForce GTX 1060 6GB'"
      ]
     },
     "execution_count": 2,
     "metadata": {},
     "output_type": "execute_result"
    }
   ],
   "source": [
    "torch.cuda.get_device_name()"
   ]
  },
  {
   "cell_type": "code",
   "execution_count": 3,
   "id": "c4b7aa30-1a97-4b93-a999-53bff8966ddc",
   "metadata": {},
   "outputs": [
    {
     "data": {
      "text/plain": [
       "1"
      ]
     },
     "execution_count": 3,
     "metadata": {},
     "output_type": "execute_result"
    }
   ],
   "source": [
    "torch.cuda.device_count()"
   ]
  },
  {
   "cell_type": "markdown",
   "id": "75a08f3c-8b49-45c2-a90a-d9dd6fee7e68",
   "metadata": {},
   "source": [
    "## Enable MLflow Logging\n",
    "\n",
    "<!-- https://docs.ultralytics.com/integrations/mlflow/#setup-and-prerequisites -->"
   ]
  },
  {
   "cell_type": "code",
   "execution_count": 4,
   "id": "f6f52e39-9d82-42c4-a2a5-a014cb5a44a2",
   "metadata": {},
   "outputs": [],
   "source": [
    "from ultralytics import settings\n",
    "\n",
    "# Update a setting\n",
    "settings.update({\n",
    "    'mlflow': True,\n",
    "    'clearml': False,\n",
    "    'comet': False,\n",
    "    'dvc': False,\n",
    "    'hub': False,\n",
    "    'neptune': False,\n",
    "    'raytune': False,\n",
    "    'tensorboard': False,\n",
    "    'wandb': False\n",
    "})\n",
    "\n",
    "# Reset settings to default values\n",
    "# settings.reset()"
   ]
  },
  {
   "cell_type": "code",
   "execution_count": 5,
   "id": "acc5fd17-c246-4d64-8528-abe3df2df573",
   "metadata": {},
   "outputs": [
    {
     "name": "stdout",
     "output_type": "stream",
     "text": [
      "{'settings_version': '0.0.4', 'datasets_dir': '/opt/app/notebooks/datasets', 'weights_dir': 'weights', 'runs_dir': 'runs', 'uuid': 'af86e989f891cbd0cd78de981596cc553f47f4a708b5ec210405ae2024cb9aec', 'sync': True, 'api_key': '', 'openai_api_key': '', 'clearml': False, 'comet': False, 'dvc': False, 'hub': False, 'mlflow': True, 'neptune': False, 'raytune': False, 'tensorboard': False, 'wandb': False}\n"
     ]
    }
   ],
   "source": [
    "print(settings)"
   ]
  },
  {
   "cell_type": "code",
   "execution_count": null,
   "id": "9927e642-1aad-43e2-94ec-00e406d8e82e",
   "metadata": {},
   "outputs": [],
   "source": [
    "# # Set a Project Name\n",
    "# !export MLFLOW_EXPERIMENT_NAME=yolo81-test\n",
    "\n",
    "# # Set a Run Name\n",
    "# !export MLFLOW_RUN=first-testrun"
   ]
  },
  {
   "cell_type": "code",
   "execution_count": 6,
   "id": "9ec40dc7-58af-4979-a5f1-3fbe4c3d6b97",
   "metadata": {},
   "outputs": [
    {
     "name": "stderr",
     "output_type": "stream",
     "text": [
      "[2024-02-26 17:33:35 +0000] [1944] [INFO] Starting gunicorn 21.2.0\n",
      "[2024-02-26 17:33:35 +0000] [1944] [INFO] Listening at: http://0.0.0.0:5000 (1944)\n",
      "[2024-02-26 17:33:35 +0000] [1944] [INFO] Using worker: sync\n",
      "[2024-02-26 17:33:35 +0000] [1945] [INFO] Booting worker with pid: 1945\n",
      "[2024-02-26 17:33:35 +0000] [1946] [INFO] Booting worker with pid: 1946\n",
      "[2024-02-26 17:33:35 +0000] [1947] [INFO] Booting worker with pid: 1947\n",
      "[2024-02-26 17:33:35 +0000] [1948] [INFO] Booting worker with pid: 1948\n"
     ]
    }
   ],
   "source": [
    "get_ipython().system_raw(\"mlflow ui --port 5000 --host 0.0.0.0 --backend-store-uri runs/mlflow &\")"
   ]
  },
  {
   "cell_type": "markdown",
   "id": "142635b9-34d0-4eb7-bf6b-af3bc8bcd7f8",
   "metadata": {},
   "source": [
    "## Model Training"
   ]
  },
  {
   "cell_type": "code",
   "execution_count": 7,
   "id": "50def09e-c9df-4ed9-b454-d7e5b6f98833",
   "metadata": {},
   "outputs": [
    {
     "name": "stdout",
     "output_type": "stream",
     "text": [
      "New https://pypi.org/project/ultralytics/8.1.18 available 😃 Update with 'pip install -U ultralytics'\n",
      "Ultralytics YOLOv8.1.17 🚀 Python-3.10.13 torch-2.2.0 CUDA:0 (NVIDIA GeForce GTX 1060 6GB, 6070MiB)\n",
      "\u001b[34m\u001b[1mengine/trainer: \u001b[0mtask=detect, mode=train, model=yolov8n.pt, data=coco128.yaml, epochs=3, time=None, patience=100, batch=16, imgsz=640, save=True, save_period=-1, cache=False, device=None, workers=8, project=None, name=train, exist_ok=False, pretrained=True, optimizer=auto, verbose=True, seed=0, deterministic=True, single_cls=False, rect=False, cos_lr=False, close_mosaic=10, resume=False, amp=True, fraction=1.0, profile=False, freeze=None, multi_scale=False, overlap_mask=True, mask_ratio=4, dropout=0.0, val=True, split=val, save_json=False, save_hybrid=False, conf=None, iou=0.7, max_det=300, half=False, dnn=False, plots=True, source=None, vid_stride=1, stream_buffer=False, visualize=False, augment=False, agnostic_nms=False, classes=None, retina_masks=False, embed=None, show=False, save_frames=False, save_txt=False, save_conf=False, save_crop=False, show_labels=True, show_conf=True, show_boxes=True, line_width=None, format=torchscript, keras=False, optimize=False, int8=False, dynamic=False, simplify=False, opset=None, workspace=4, nms=False, lr0=0.01, lrf=0.01, momentum=0.937, weight_decay=0.0005, warmup_epochs=3.0, warmup_momentum=0.8, warmup_bias_lr=0.1, box=7.5, cls=0.5, dfl=1.5, pose=12.0, kobj=1.0, label_smoothing=0.0, nbs=64, hsv_h=0.015, hsv_s=0.7, hsv_v=0.4, degrees=0.0, translate=0.1, scale=0.5, shear=0.0, perspective=0.0, flipud=0.0, fliplr=0.5, mosaic=1.0, mixup=0.0, copy_paste=0.0, auto_augment=randaugment, erasing=0.4, crop_fraction=1.0, cfg=None, tracker=botsort.yaml, save_dir=runs/detect/train\n",
      "\n",
      "                   from  n    params  module                                       arguments                     \n",
      "  0                  -1  1       464  ultralytics.nn.modules.conv.Conv             [3, 16, 3, 2]                 \n",
      "  1                  -1  1      4672  ultralytics.nn.modules.conv.Conv             [16, 32, 3, 2]                \n",
      "  2                  -1  1      7360  ultralytics.nn.modules.block.C2f             [32, 32, 1, True]             \n",
      "  3                  -1  1     18560  ultralytics.nn.modules.conv.Conv             [32, 64, 3, 2]                \n",
      "  4                  -1  2     49664  ultralytics.nn.modules.block.C2f             [64, 64, 2, True]             \n",
      "  5                  -1  1     73984  ultralytics.nn.modules.conv.Conv             [64, 128, 3, 2]               \n",
      "  6                  -1  2    197632  ultralytics.nn.modules.block.C2f             [128, 128, 2, True]           \n",
      "  7                  -1  1    295424  ultralytics.nn.modules.conv.Conv             [128, 256, 3, 2]              \n",
      "  8                  -1  1    460288  ultralytics.nn.modules.block.C2f             [256, 256, 1, True]           \n",
      "  9                  -1  1    164608  ultralytics.nn.modules.block.SPPF            [256, 256, 5]                 \n",
      " 10                  -1  1         0  torch.nn.modules.upsampling.Upsample         [None, 2, 'nearest']          \n",
      " 11             [-1, 6]  1         0  ultralytics.nn.modules.conv.Concat           [1]                           \n",
      " 12                  -1  1    148224  ultralytics.nn.modules.block.C2f             [384, 128, 1]                 \n",
      " 13                  -1  1         0  torch.nn.modules.upsampling.Upsample         [None, 2, 'nearest']          \n",
      " 14             [-1, 4]  1         0  ultralytics.nn.modules.conv.Concat           [1]                           \n",
      " 15                  -1  1     37248  ultralytics.nn.modules.block.C2f             [192, 64, 1]                  \n",
      " 16                  -1  1     36992  ultralytics.nn.modules.conv.Conv             [64, 64, 3, 2]                \n",
      " 17            [-1, 12]  1         0  ultralytics.nn.modules.conv.Concat           [1]                           \n",
      " 18                  -1  1    123648  ultralytics.nn.modules.block.C2f             [192, 128, 1]                 \n",
      " 19                  -1  1    147712  ultralytics.nn.modules.conv.Conv             [128, 128, 3, 2]              \n",
      " 20             [-1, 9]  1         0  ultralytics.nn.modules.conv.Concat           [1]                           \n",
      " 21                  -1  1    493056  ultralytics.nn.modules.block.C2f             [384, 256, 1]                 \n",
      " 22        [15, 18, 21]  1    897664  ultralytics.nn.modules.head.Detect           [80, [64, 128, 256]]          \n",
      "Model summary: 225 layers, 3157200 parameters, 3157184 gradients, 8.9 GFLOPs\n",
      "\n",
      "Transferred 355/355 items from pretrained weights\n",
      "Freezing layer 'model.22.dfl.conv.weight'\n",
      "\u001b[34m\u001b[1mAMP: \u001b[0mrunning Automatic Mixed Precision (AMP) checks with YOLOv8n...\n",
      "\u001b[34m\u001b[1mAMP: \u001b[0mchecks passed ✅\n"
     ]
    },
    {
     "name": "stderr",
     "output_type": "stream",
     "text": [
      "\u001b[34m\u001b[1mtrain: \u001b[0mScanning /opt/app/notebooks/datasets/coco128/labels/train2017.cache... 126 images, 2 backgrounds, 0 corrupt: \u001b[0m\n",
      "\u001b[34m\u001b[1mval: \u001b[0mScanning /opt/app/notebooks/datasets/coco128/labels/train2017.cache... 126 images, 2 backgrounds, 0 corrupt: 10\u001b[0m\n"
     ]
    },
    {
     "name": "stdout",
     "output_type": "stream",
     "text": [
      "Plotting labels to runs/detect/train/labels.jpg... \n",
      "\u001b[34m\u001b[1moptimizer:\u001b[0m 'optimizer=auto' found, ignoring 'lr0=0.01' and 'momentum=0.937' and determining best 'optimizer', 'lr0' and 'momentum' automatically... \n",
      "\u001b[34m\u001b[1moptimizer:\u001b[0m AdamW(lr=0.000119, momentum=0.9) with parameter groups 57 weight(decay=0.0), 64 weight(decay=0.0005), 63 bias(decay=0.0)\n",
      "\u001b[34m\u001b[1mMLflow: \u001b[0mlogging run_id(990096c31fbc48c59c97834ec396bd4f) to runs/mlflow\n",
      "\u001b[34m\u001b[1mMLflow: \u001b[0mview at http://127.0.0.1:5000 with 'mlflow server --backend-store-uri runs/mlflow'\n",
      "\u001b[34m\u001b[1mMLflow: \u001b[0mdisable with 'yolo settings mlflow=False'\n",
      "Image sizes 640 train, 640 val\n",
      "Using 8 dataloader workers\n",
      "Logging results to \u001b[1mruns/detect/train\u001b[0m\n",
      "Starting training for 3 epochs...\n",
      "\n",
      "      Epoch    GPU_mem   box_loss   cls_loss   dfl_loss  Instances       Size\n"
     ]
    },
    {
     "name": "stderr",
     "output_type": "stream",
     "text": [
      "        1/3       2.6G      1.226      1.615      1.274        178        640: 100%|██████████| 8/8 [00:03<00:00,  2\n",
      "                 Class     Images  Instances      Box(P          R      mAP50  mAP50-95): 100%|██████████| 4/4 [00:0"
     ]
    },
    {
     "name": "stdout",
     "output_type": "stream",
     "text": [
      "                   all        128        929      0.644      0.527      0.612      0.454\n"
     ]
    },
    {
     "name": "stderr",
     "output_type": "stream",
     "text": [
      "\n"
     ]
    },
    {
     "name": "stdout",
     "output_type": "stream",
     "text": [
      "\n",
      "      Epoch    GPU_mem   box_loss   cls_loss   dfl_loss  Instances       Size\n"
     ]
    },
    {
     "name": "stderr",
     "output_type": "stream",
     "text": [
      "        2/3      2.56G      1.224       1.51      1.267        231        640: 100%|██████████| 8/8 [00:03<00:00,  2\n",
      "                 Class     Images  Instances      Box(P          R      mAP50  mAP50-95): 100%|██████████| 4/4 [00:0"
     ]
    },
    {
     "name": "stdout",
     "output_type": "stream",
     "text": [
      "                   all        128        929      0.657      0.553      0.623      0.466\n"
     ]
    },
    {
     "name": "stderr",
     "output_type": "stream",
     "text": [
      "\n"
     ]
    },
    {
     "name": "stdout",
     "output_type": "stream",
     "text": [
      "\n",
      "      Epoch    GPU_mem   box_loss   cls_loss   dfl_loss  Instances       Size\n"
     ]
    },
    {
     "name": "stderr",
     "output_type": "stream",
     "text": [
      "        3/3      2.65G      1.207      1.442      1.221        178        640: 100%|██████████| 8/8 [00:03<00:00,  2\n",
      "                 Class     Images  Instances      Box(P          R      mAP50  mAP50-95): 100%|██████████| 4/4 [00:0"
     ]
    },
    {
     "name": "stdout",
     "output_type": "stream",
     "text": [
      "                   all        128        929      0.671      0.547      0.629      0.468\n"
     ]
    },
    {
     "name": "stderr",
     "output_type": "stream",
     "text": [
      "\n"
     ]
    },
    {
     "name": "stdout",
     "output_type": "stream",
     "text": [
      "\n",
      "3 epochs completed in 0.005 hours.\n",
      "Optimizer stripped from runs/detect/train/weights/last.pt, 6.5MB\n",
      "Optimizer stripped from runs/detect/train/weights/best.pt, 6.5MB\n",
      "\n",
      "Validating runs/detect/train/weights/best.pt...\n",
      "Ultralytics YOLOv8.1.17 🚀 Python-3.10.13 torch-2.2.0 CUDA:0 (NVIDIA GeForce GTX 1060 6GB, 6070MiB)\n",
      "Model summary (fused): 168 layers, 3151904 parameters, 0 gradients, 8.7 GFLOPs\n"
     ]
    },
    {
     "name": "stderr",
     "output_type": "stream",
     "text": [
      "                 Class     Images  Instances      Box(P          R      mAP50  mAP50-95): 100%|██████████| 4/4 [00:0\n"
     ]
    },
    {
     "name": "stdout",
     "output_type": "stream",
     "text": [
      "                   all        128        929      0.672      0.547       0.63      0.469\n",
      "                person        128        254       0.78      0.677      0.767       0.54\n",
      "               bicycle        128          6      0.601      0.333      0.325      0.281\n",
      "                   car        128         46      0.798      0.217      0.281      0.185\n",
      "            motorcycle        128          5      0.685      0.877      0.938      0.721\n",
      "              airplane        128          6      0.828      0.806      0.903      0.675\n",
      "                   bus        128          7      0.717      0.714      0.736      0.648\n",
      "                 train        128          3      0.551      0.667      0.723      0.645\n",
      "                 truck        128         12          1      0.376      0.491       0.31\n",
      "                  boat        128          6      0.284      0.167      0.376      0.229\n",
      "         traffic light        128         14      0.712      0.181      0.202      0.139\n",
      "             stop sign        128          2      0.922          1      0.995      0.725\n",
      "                 bench        128          9       0.83      0.545      0.635        0.4\n",
      "                  bird        128         16      0.923      0.749      0.908      0.554\n",
      "                   cat        128          4      0.862          1      0.995      0.835\n",
      "                   dog        128          9      0.705      0.797      0.851      0.655\n",
      "                 horse        128          2       0.54          1      0.995      0.512\n",
      "              elephant        128         17      0.855      0.765      0.883       0.66\n",
      "                  bear        128          1      0.631          1      0.995      0.995\n",
      "                 zebra        128          4      0.856          1      0.995      0.965\n",
      "               giraffe        128          9      0.801      0.893      0.963      0.721\n",
      "              backpack        128          6      0.603      0.333      0.393      0.236\n",
      "              umbrella        128         18      0.722        0.5      0.661      0.457\n",
      "               handbag        128         19      0.588     0.0803      0.181     0.0955\n",
      "                   tie        128          7      0.695      0.656      0.641      0.457\n",
      "              suitcase        128          4      0.623      0.836      0.828      0.599\n",
      "               frisbee        128          5      0.601        0.8      0.759      0.655\n",
      "                  skis        128          1      0.606          1      0.995      0.497\n",
      "             snowboard        128          7      0.712      0.714      0.755      0.483\n",
      "           sports ball        128          6      0.695      0.389      0.503      0.291\n",
      "                  kite        128         10      0.828        0.5      0.594      0.204\n",
      "          baseball bat        128          4      0.575      0.363       0.42      0.175\n",
      "        baseball glove        128          7      0.671      0.429      0.429      0.295\n",
      "            skateboard        128          5      0.773        0.6        0.6       0.44\n",
      "         tennis racket        128          7      0.732      0.398       0.53      0.394\n",
      "                bottle        128         18      0.517      0.389      0.373      0.213\n",
      "            wine glass        128         16      0.573      0.562      0.587      0.365\n",
      "                   cup        128         36       0.63      0.284      0.399      0.278\n",
      "                  fork        128          6       0.59      0.167      0.264      0.193\n",
      "                 knife        128         16      0.645        0.5      0.621      0.358\n",
      "                 spoon        128         22      0.559      0.182      0.316       0.17\n",
      "                  bowl        128         28      0.653      0.571      0.619      0.505\n",
      "                banana        128          1          0          0      0.166     0.0485\n",
      "              sandwich        128          2      0.382      0.645      0.497      0.497\n",
      "                orange        128          4          1      0.318      0.995      0.666\n",
      "              broccoli        128         11      0.471      0.182      0.247      0.222\n",
      "                carrot        128         24      0.717      0.458      0.665      0.414\n",
      "               hot dog        128          2      0.648      0.943      0.828      0.796\n",
      "                 pizza        128          5      0.698          1      0.995       0.86\n",
      "                 donut        128         14      0.641          1      0.934      0.848\n",
      "                  cake        128          4      0.641          1      0.995       0.88\n",
      "                 chair        128         35      0.465      0.522      0.472       0.27\n",
      "                 couch        128          6      0.557        0.5      0.671      0.506\n",
      "          potted plant        128         14      0.812      0.618      0.722      0.484\n",
      "                   bed        128          3      0.744      0.667      0.806      0.633\n",
      "          dining table        128         13      0.457      0.615      0.512      0.413\n",
      "                toilet        128          2          1      0.869      0.995      0.946\n",
      "                    tv        128          2      0.392        0.5      0.695      0.656\n",
      "                laptop        128          3          1          0      0.679      0.531\n",
      "                 mouse        128          2          1          0      0.048     0.0048\n",
      "                remote        128          8       0.85        0.5      0.577      0.499\n",
      "            cell phone        128          8          0          0     0.0703     0.0481\n",
      "             microwave        128          3      0.587      0.667       0.83      0.715\n",
      "                  oven        128          5       0.48        0.4       0.34      0.271\n",
      "                  sink        128          6      0.366      0.167      0.221      0.155\n",
      "          refrigerator        128          5      0.675        0.4      0.623      0.505\n",
      "                  book        128         29      0.623      0.115      0.339      0.181\n",
      "                 clock        128          9      0.778      0.779      0.894      0.754\n",
      "                  vase        128          2      0.411          1      0.828      0.795\n",
      "              scissors        128          1          1          0      0.249     0.0746\n",
      "            teddy bear        128         21          1      0.372      0.643      0.421\n",
      "            toothbrush        128          5      0.862        0.6      0.738      0.486\n",
      "Speed: 0.8ms preprocess, 4.4ms inference, 0.0ms loss, 1.0ms postprocess per image\n",
      "Results saved to \u001b[1mruns/detect/train\u001b[0m\n",
      "\u001b[34m\u001b[1mMLflow: \u001b[0mresults logged to runs/mlflow\n",
      "\u001b[34m\u001b[1mMLflow: \u001b[0mdisable with 'yolo settings mlflow=False'\n"
     ]
    }
   ],
   "source": [
    "from ultralytics import YOLO\n",
    "\n",
    "# Create a new YOLO model from scratch\n",
    "# model = YOLO('yolov8n.yaml')\n",
    "\n",
    "# Load a pretrained YOLO model (recommended for training)\n",
    "model = YOLO('yolov8n.pt')\n",
    "\n",
    "# Train the model using the 'coco128.yaml' dataset for 3 epochs\n",
    "results = model.train(data='coco128.yaml', epochs=3)"
   ]
  },
  {
   "cell_type": "code",
   "execution_count": 8,
   "id": "9423e996-3a10-4384-b1a9-2ffb6611de67",
   "metadata": {},
   "outputs": [
    {
     "name": "stdout",
     "output_type": "stream",
     "text": [
      "Ultralytics YOLOv8.1.17 🚀 Python-3.10.13 torch-2.2.0 CUDA:0 (NVIDIA GeForce GTX 1060 6GB, 6070MiB)\n",
      "Model summary (fused): 168 layers, 3151904 parameters, 0 gradients, 8.7 GFLOPs\n"
     ]
    },
    {
     "name": "stderr",
     "output_type": "stream",
     "text": [
      "\u001b[34m\u001b[1mval: \u001b[0mScanning /opt/app/notebooks/datasets/coco128/labels/train2017.cache... 126 images, 2 backgrounds, 0 corrupt: 10\u001b[0m\n",
      "                 Class     Images  Instances      Box(P          R      mAP50  mAP50-95): 100%|██████████| 8/8 [00:0\n"
     ]
    },
    {
     "name": "stdout",
     "output_type": "stream",
     "text": [
      "                   all        128        929      0.669      0.547      0.627      0.467\n",
      "                person        128        254      0.786      0.681      0.766      0.542\n",
      "               bicycle        128          6      0.595      0.333      0.323       0.28\n",
      "                   car        128         46      0.786      0.217      0.284      0.183\n",
      "            motorcycle        128          5      0.687      0.884      0.898       0.73\n",
      "              airplane        128          6      0.828      0.808      0.903      0.674\n",
      "                   bus        128          7      0.668      0.714      0.735      0.648\n",
      "                 train        128          3      0.548      0.667      0.731      0.652\n",
      "                 truck        128         12      0.986      0.417      0.497      0.299\n",
      "                  boat        128          6      0.273      0.167      0.334      0.142\n",
      "         traffic light        128         14      0.702      0.173      0.202      0.139\n",
      "             stop sign        128          2      0.907          1      0.995      0.725\n",
      "                 bench        128          9      0.832       0.55      0.635      0.399\n",
      "                  bird        128         16      0.921       0.75      0.894      0.528\n",
      "                   cat        128          4      0.861          1      0.995      0.835\n",
      "                   dog        128          9      0.709      0.815      0.854      0.652\n",
      "                 horse        128          2      0.539          1      0.995      0.512\n",
      "              elephant        128         17      0.853      0.765      0.883       0.66\n",
      "                  bear        128          1      0.629          1      0.995      0.995\n",
      "                 zebra        128          4      0.855          1      0.995      0.965\n",
      "               giraffe        128          9        0.9      0.997      0.962      0.759\n",
      "              backpack        128          6      0.615      0.333      0.392      0.235\n",
      "              umbrella        128         18      0.713        0.5      0.655      0.453\n",
      "               handbag        128         19      0.607     0.0865      0.178     0.0945\n",
      "                   tie        128          7        0.7      0.671      0.641      0.457\n",
      "              suitcase        128          4      0.635      0.883      0.828      0.599\n",
      "               frisbee        128          5      0.593        0.8      0.759      0.663\n",
      "                  skis        128          1       0.58          1      0.995      0.497\n",
      "             snowboard        128          7       0.71      0.714      0.753      0.482\n",
      "           sports ball        128          6      0.696      0.392      0.503       0.29\n",
      "                  kite        128         10      0.822        0.5      0.596      0.219\n",
      "          baseball bat        128          4      0.562       0.25      0.354      0.175\n",
      "        baseball glove        128          7      0.639      0.429      0.429      0.295\n",
      "            skateboard        128          5      0.873        0.6        0.6       0.44\n",
      "         tennis racket        128          7      0.733        0.4       0.53      0.366\n",
      "                bottle        128         18      0.517      0.389      0.393      0.247\n",
      "            wine glass        128         16      0.575      0.562      0.555       0.34\n",
      "                   cup        128         36      0.599       0.29       0.41      0.291\n",
      "                  fork        128          6      0.573      0.167      0.227      0.177\n",
      "                 knife        128         16      0.576        0.5      0.603      0.364\n",
      "                 spoon        128         22      0.639      0.182      0.317      0.176\n",
      "                  bowl        128         28      0.745      0.643      0.653      0.497\n",
      "                banana        128          1          0          0      0.111     0.0442\n",
      "              sandwich        128          2      0.193      0.289      0.497      0.497\n",
      "                orange        128          4          1      0.322      0.995      0.666\n",
      "              broccoli        128         11      0.507      0.182      0.259      0.208\n",
      "                carrot        128         24      0.729       0.56       0.66       0.42\n",
      "               hot dog        128          2      0.646      0.937      0.828      0.796\n",
      "                 pizza        128          5      0.736          1      0.995       0.86\n",
      "                 donut        128         14       0.64          1      0.926      0.841\n",
      "                  cake        128          4      0.608          1      0.945      0.845\n",
      "                 chair        128         35      0.471      0.543      0.472      0.263\n",
      "                 couch        128          6      0.621        0.5      0.737       0.56\n",
      "          potted plant        128         14      0.814      0.626      0.725      0.484\n",
      "                   bed        128          3      0.742      0.667      0.913      0.675\n",
      "          dining table        128         13      0.451      0.615      0.505      0.391\n",
      "                toilet        128          2          1      0.871      0.995      0.946\n",
      "                    tv        128          2      0.389        0.5      0.695      0.656\n",
      "                laptop        128          3          1          0      0.605      0.484\n",
      "                 mouse        128          2          1          0      0.069     0.0069\n",
      "                remote        128          8      0.847        0.5      0.598      0.508\n",
      "            cell phone        128          8          0          0     0.0703     0.0472\n",
      "             microwave        128          3      0.579      0.667       0.83      0.733\n",
      "                  oven        128          5      0.454        0.4       0.34      0.271\n",
      "                  sink        128          6      0.377      0.167      0.171      0.128\n",
      "          refrigerator        128          5      0.673        0.4      0.627      0.481\n",
      "                  book        128         29      0.632       0.12      0.366      0.197\n",
      "                 clock        128          9      0.779      0.782      0.895      0.751\n",
      "                  vase        128          2      0.409          1      0.828      0.745\n",
      "              scissors        128          1          1          0      0.249     0.0746\n",
      "            teddy bear        128         21          1      0.376       0.64      0.428\n",
      "            toothbrush        128          5      0.621        0.6      0.704      0.443\n",
      "Speed: 0.4ms preprocess, 8.5ms inference, 0.0ms loss, 2.2ms postprocess per image\n",
      "Results saved to \u001b[1mruns/detect/train2\u001b[0m\n"
     ]
    }
   ],
   "source": [
    "# Evaluate the model's performance on the validation set\n",
    "results = model.val()"
   ]
  },
  {
   "cell_type": "code",
   "execution_count": 9,
   "id": "1e5e6643-33a8-47e5-af26-13e8c11a53f6",
   "metadata": {},
   "outputs": [
    {
     "name": "stdout",
     "output_type": "stream",
     "text": [
      "\n",
      "Found https://ultralytics.com/images/bus.jpg locally at bus.jpg\n",
      "image 1/1 /opt/app/notebooks/bus.jpg: 640x480 4 persons, 1 bus, 1 stop sign, 9.3ms\n",
      "Speed: 3.1ms preprocess, 9.3ms inference, 1.6ms postprocess per image at shape (1, 3, 640, 480)\n"
     ]
    }
   ],
   "source": [
    "# Perform object detection on an image using the model\n",
    "results = model('https://ultralytics.com/images/bus.jpg')"
   ]
  },
  {
   "cell_type": "code",
   "execution_count": 10,
   "id": "d7bd6697-ffe5-492b-8fe2-72a25a7e0408",
   "metadata": {},
   "outputs": [
    {
     "data": {
      "text/plain": [
       "[ultralytics.engine.results.Results object with attributes:\n",
       " \n",
       " boxes: ultralytics.engine.results.Boxes object\n",
       " keypoints: None\n",
       " masks: None\n",
       " names: {0: 'person', 1: 'bicycle', 2: 'car', 3: 'motorcycle', 4: 'airplane', 5: 'bus', 6: 'train', 7: 'truck', 8: 'boat', 9: 'traffic light', 10: 'fire hydrant', 11: 'stop sign', 12: 'parking meter', 13: 'bench', 14: 'bird', 15: 'cat', 16: 'dog', 17: 'horse', 18: 'sheep', 19: 'cow', 20: 'elephant', 21: 'bear', 22: 'zebra', 23: 'giraffe', 24: 'backpack', 25: 'umbrella', 26: 'handbag', 27: 'tie', 28: 'suitcase', 29: 'frisbee', 30: 'skis', 31: 'snowboard', 32: 'sports ball', 33: 'kite', 34: 'baseball bat', 35: 'baseball glove', 36: 'skateboard', 37: 'surfboard', 38: 'tennis racket', 39: 'bottle', 40: 'wine glass', 41: 'cup', 42: 'fork', 43: 'knife', 44: 'spoon', 45: 'bowl', 46: 'banana', 47: 'apple', 48: 'sandwich', 49: 'orange', 50: 'broccoli', 51: 'carrot', 52: 'hot dog', 53: 'pizza', 54: 'donut', 55: 'cake', 56: 'chair', 57: 'couch', 58: 'potted plant', 59: 'bed', 60: 'dining table', 61: 'toilet', 62: 'tv', 63: 'laptop', 64: 'mouse', 65: 'remote', 66: 'keyboard', 67: 'cell phone', 68: 'microwave', 69: 'oven', 70: 'toaster', 71: 'sink', 72: 'refrigerator', 73: 'book', 74: 'clock', 75: 'vase', 76: 'scissors', 77: 'teddy bear', 78: 'hair drier', 79: 'toothbrush'}\n",
       " obb: None\n",
       " orig_img: array([[[122, 148, 172],\n",
       "         [120, 146, 170],\n",
       "         [125, 153, 177],\n",
       "         ...,\n",
       "         [157, 170, 184],\n",
       "         [158, 171, 185],\n",
       "         [158, 171, 185]],\n",
       " \n",
       "        [[127, 153, 177],\n",
       "         [124, 150, 174],\n",
       "         [127, 155, 179],\n",
       "         ...,\n",
       "         [158, 171, 185],\n",
       "         [159, 172, 186],\n",
       "         [159, 172, 186]],\n",
       " \n",
       "        [[128, 154, 178],\n",
       "         [126, 152, 176],\n",
       "         [126, 154, 178],\n",
       "         ...,\n",
       "         [158, 171, 185],\n",
       "         [158, 171, 185],\n",
       "         [158, 171, 185]],\n",
       " \n",
       "        ...,\n",
       " \n",
       "        [[185, 185, 191],\n",
       "         [182, 182, 188],\n",
       "         [179, 179, 185],\n",
       "         ...,\n",
       "         [114, 107, 112],\n",
       "         [115, 105, 111],\n",
       "         [116, 106, 112]],\n",
       " \n",
       "        [[157, 157, 163],\n",
       "         [180, 180, 186],\n",
       "         [185, 186, 190],\n",
       "         ...,\n",
       "         [107,  97, 103],\n",
       "         [102,  92,  98],\n",
       "         [108,  98, 104]],\n",
       " \n",
       "        [[112, 112, 118],\n",
       "         [160, 160, 166],\n",
       "         [169, 170, 174],\n",
       "         ...,\n",
       "         [ 99,  89,  95],\n",
       "         [ 96,  86,  92],\n",
       "         [102,  92,  98]]], dtype=uint8)\n",
       " orig_shape: (1080, 810)\n",
       " path: '/opt/app/notebooks/bus.jpg'\n",
       " probs: None\n",
       " save_dir: None\n",
       " speed: {'preprocess': 3.1189918518066406, 'inference': 9.268522262573242, 'postprocess': 1.5952587127685547}]"
      ]
     },
     "execution_count": 10,
     "metadata": {},
     "output_type": "execute_result"
    }
   ],
   "source": [
    "results"
   ]
  },
  {
   "cell_type": "code",
   "execution_count": null,
   "id": "effd0ed4-bc73-4359-b368-21d5fe0069c9",
   "metadata": {},
   "outputs": [],
   "source": [
    "# Export the model to ONNX format\n",
    "success = model.export(format='onnx')"
   ]
  }
 ],
 "metadata": {
  "kernelspec": {
   "display_name": "Python 3 (ipykernel)",
   "language": "python",
   "name": "python3"
  },
  "language_info": {
   "codemirror_mode": {
    "name": "ipython",
    "version": 3
   },
   "file_extension": ".py",
   "mimetype": "text/x-python",
   "name": "python",
   "nbconvert_exporter": "python",
   "pygments_lexer": "ipython3",
   "version": "3.10.13"
  }
 },
 "nbformat": 4,
 "nbformat_minor": 5
}
