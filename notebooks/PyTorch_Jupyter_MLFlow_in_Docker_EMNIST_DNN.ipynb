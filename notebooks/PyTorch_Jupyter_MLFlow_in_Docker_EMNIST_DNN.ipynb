{
 "cells": [
  {
   "cell_type": "markdown",
   "id": "1f515942-19b7-4b3c-873d-35fc1a26d6dc",
   "metadata": {},
   "source": [
    "# EMNIST Image Classification"
   ]
  },
  {
   "cell_type": "markdown",
   "id": "25084b1e-ede4-4a2c-9d71-e37478e2fcab",
   "metadata": {},
   "source": [
    "## Test Cuda"
   ]
  },
  {
   "cell_type": "code",
   "execution_count": 1,
   "id": "446ce10c-5251-4e25-b61b-8e10c7335d22",
   "metadata": {},
   "outputs": [],
   "source": [
    "import torch"
   ]
  },
  {
   "cell_type": "code",
   "execution_count": 2,
   "id": "3ffacd44-d521-4b8e-999a-58e23a64fca9",
   "metadata": {},
   "outputs": [
    {
     "data": {
      "text/plain": [
       "'NVIDIA GeForce GTX 1060 6GB'"
      ]
     },
     "execution_count": 2,
     "metadata": {},
     "output_type": "execute_result"
    }
   ],
   "source": [
    "torch.cuda.get_device_name()"
   ]
  },
  {
   "cell_type": "code",
   "execution_count": 3,
   "id": "c4b7aa30-1a97-4b93-a999-53bff8966ddc",
   "metadata": {},
   "outputs": [
    {
     "data": {
      "text/plain": [
       "1"
      ]
     },
     "execution_count": 3,
     "metadata": {},
     "output_type": "execute_result"
    }
   ],
   "source": [
    "torch.cuda.device_count()"
   ]
  },
  {
   "cell_type": "markdown",
   "id": "75a08f3c-8b49-45c2-a90a-d9dd6fee7e68",
   "metadata": {},
   "source": [
    "## Start MLFlow"
   ]
  },
  {
   "cell_type": "code",
   "execution_count": 4,
   "id": "9ec40dc7-58af-4979-a5f1-3fbe4c3d6b97",
   "metadata": {},
   "outputs": [
    {
     "name": "stderr",
     "output_type": "stream",
     "text": [
      "[2024-02-24 11:00:15 +0000] [8899] [INFO] Starting gunicorn 21.2.0\n",
      "[2024-02-24 11:00:15 +0000] [8899] [INFO] Listening at: http://0.0.0.0:5000 (8899)\n",
      "[2024-02-24 11:00:15 +0000] [8899] [INFO] Using worker: sync\n",
      "[2024-02-24 11:00:15 +0000] [8900] [INFO] Booting worker with pid: 8900\n",
      "[2024-02-24 11:00:15 +0000] [8901] [INFO] Booting worker with pid: 8901\n",
      "[2024-02-24 11:00:15 +0000] [8902] [INFO] Booting worker with pid: 8902\n",
      "[2024-02-24 11:00:15 +0000] [8903] [INFO] Booting worker with pid: 8903\n"
     ]
    }
   ],
   "source": [
    "get_ipython().system_raw(\"mlflow ui --port 5000 --host 0.0.0.0 &\")"
   ]
  },
  {
   "cell_type": "markdown",
   "id": "13c0f30b-274c-4cbb-9c81-66179a776e76",
   "metadata": {},
   "source": [
    "## DNN PyTorch Model"
   ]
  },
  {
   "cell_type": "code",
   "execution_count": 80,
   "id": "83496ff1-cb41-4564-9f1a-ba8125126a73",
   "metadata": {},
   "outputs": [],
   "source": [
    "import mlflow\n",
    "import numpy as np\n",
    "import pandas as pd\n",
    "import matplotlib.pyplot as plt\n",
    "import seaborn as sns\n",
    "from sklearn.metrics import accuracy_score, confusion_matrix, ConfusionMatrixDisplay\n",
    "\n",
    "from mlflow.models.signature import ModelSignature\n",
    "from mlflow.types.schema import ColSpec, Schema, TensorSpec\n",
    "\n",
    "import pytorch_lightning as pl\n",
    "from pytorch_lightning.loggers import CSVLogger\n",
    "\n",
    "import torch.nn as nn\n",
    "import torch.nn.functional as F\n",
    "import torch.optim as optim\n",
    "from torch.utils.data import Dataset, DataLoader, random_split\n",
    "from torchmetrics.functional import accuracy"
   ]
  },
  {
   "cell_type": "code",
   "execution_count": 6,
   "id": "93f27a90-8a00-4783-98be-067b15077579",
   "metadata": {},
   "outputs": [],
   "source": [
    "BATCH_SIZE = 64\n",
    "INPUT_SIZE = 28*28\n",
    "OUTPUT_SIZE = 26"
   ]
  },
  {
   "cell_type": "markdown",
   "id": "888d2fc3-490b-454c-ac81-69e62fd629ac",
   "metadata": {},
   "source": [
    "### Dataset"
   ]
  },
  {
   "cell_type": "code",
   "execution_count": 7,
   "id": "b348dfcc-bb24-4f45-90e9-53110eb3e25d",
   "metadata": {},
   "outputs": [
    {
     "data": {
      "text/plain": [
       "26"
      ]
     },
     "execution_count": 7,
     "metadata": {},
     "output_type": "execute_result"
    }
   ],
   "source": [
    "classes = ['a', 'b', 'c', 'd', 'e', 'f', 'g', 'h', 'i', 'j', 'k', 'l', 'm', 'n', 'o', 'p', 'q', 'r', 's', 't', 'u', 'v', 'w', 'x', 'y', 'z']\n",
    "len(classes)"
   ]
  },
  {
   "cell_type": "code",
   "execution_count": 8,
   "id": "7958a200-8ce7-4767-a745-c142214b5287",
   "metadata": {},
   "outputs": [],
   "source": [
    "emnist_train_data = pd.read_csv(\"./datasets/emnist-letters-train.csv\", header=None)\n",
    "\n",
    "emnist_test_data = pd.read_csv(\"./datasets/emnist-letters-test.csv\", header=None)\n",
    "emnist_test_data = emnist_test_data.sample(frac=1)"
   ]
  },
  {
   "cell_type": "code",
   "execution_count": 9,
   "id": "ed53d50c-59cb-4966-b6cb-16a4cbac489a",
   "metadata": {},
   "outputs": [
    {
     "data": {
      "text/html": [
       "<div>\n",
       "<style scoped>\n",
       "    .dataframe tbody tr th:only-of-type {\n",
       "        vertical-align: middle;\n",
       "    }\n",
       "\n",
       "    .dataframe tbody tr th {\n",
       "        vertical-align: top;\n",
       "    }\n",
       "\n",
       "    .dataframe thead th {\n",
       "        text-align: right;\n",
       "    }\n",
       "</style>\n",
       "<table border=\"1\" class=\"dataframe\">\n",
       "  <thead>\n",
       "    <tr style=\"text-align: right;\">\n",
       "      <th></th>\n",
       "      <th>0</th>\n",
       "      <th>1</th>\n",
       "      <th>2</th>\n",
       "      <th>3</th>\n",
       "      <th>4</th>\n",
       "      <th>5</th>\n",
       "      <th>6</th>\n",
       "      <th>7</th>\n",
       "      <th>8</th>\n",
       "      <th>9</th>\n",
       "      <th>...</th>\n",
       "      <th>775</th>\n",
       "      <th>776</th>\n",
       "      <th>777</th>\n",
       "      <th>778</th>\n",
       "      <th>779</th>\n",
       "      <th>780</th>\n",
       "      <th>781</th>\n",
       "      <th>782</th>\n",
       "      <th>783</th>\n",
       "      <th>784</th>\n",
       "    </tr>\n",
       "  </thead>\n",
       "  <tbody>\n",
       "    <tr>\n",
       "      <th>0</th>\n",
       "      <td>23</td>\n",
       "      <td>0</td>\n",
       "      <td>0</td>\n",
       "      <td>0</td>\n",
       "      <td>0</td>\n",
       "      <td>0</td>\n",
       "      <td>0</td>\n",
       "      <td>0</td>\n",
       "      <td>0</td>\n",
       "      <td>0</td>\n",
       "      <td>...</td>\n",
       "      <td>0</td>\n",
       "      <td>0</td>\n",
       "      <td>0</td>\n",
       "      <td>0</td>\n",
       "      <td>0</td>\n",
       "      <td>0</td>\n",
       "      <td>0</td>\n",
       "      <td>0</td>\n",
       "      <td>0</td>\n",
       "      <td>0</td>\n",
       "    </tr>\n",
       "    <tr>\n",
       "      <th>1</th>\n",
       "      <td>7</td>\n",
       "      <td>0</td>\n",
       "      <td>0</td>\n",
       "      <td>0</td>\n",
       "      <td>0</td>\n",
       "      <td>0</td>\n",
       "      <td>0</td>\n",
       "      <td>0</td>\n",
       "      <td>0</td>\n",
       "      <td>0</td>\n",
       "      <td>...</td>\n",
       "      <td>0</td>\n",
       "      <td>0</td>\n",
       "      <td>0</td>\n",
       "      <td>0</td>\n",
       "      <td>0</td>\n",
       "      <td>0</td>\n",
       "      <td>0</td>\n",
       "      <td>0</td>\n",
       "      <td>0</td>\n",
       "      <td>0</td>\n",
       "    </tr>\n",
       "    <tr>\n",
       "      <th>2</th>\n",
       "      <td>16</td>\n",
       "      <td>0</td>\n",
       "      <td>0</td>\n",
       "      <td>0</td>\n",
       "      <td>0</td>\n",
       "      <td>0</td>\n",
       "      <td>0</td>\n",
       "      <td>0</td>\n",
       "      <td>0</td>\n",
       "      <td>0</td>\n",
       "      <td>...</td>\n",
       "      <td>0</td>\n",
       "      <td>0</td>\n",
       "      <td>0</td>\n",
       "      <td>0</td>\n",
       "      <td>0</td>\n",
       "      <td>0</td>\n",
       "      <td>0</td>\n",
       "      <td>0</td>\n",
       "      <td>0</td>\n",
       "      <td>0</td>\n",
       "    </tr>\n",
       "    <tr>\n",
       "      <th>3</th>\n",
       "      <td>15</td>\n",
       "      <td>0</td>\n",
       "      <td>0</td>\n",
       "      <td>0</td>\n",
       "      <td>0</td>\n",
       "      <td>0</td>\n",
       "      <td>0</td>\n",
       "      <td>0</td>\n",
       "      <td>0</td>\n",
       "      <td>0</td>\n",
       "      <td>...</td>\n",
       "      <td>0</td>\n",
       "      <td>0</td>\n",
       "      <td>0</td>\n",
       "      <td>0</td>\n",
       "      <td>0</td>\n",
       "      <td>0</td>\n",
       "      <td>0</td>\n",
       "      <td>0</td>\n",
       "      <td>0</td>\n",
       "      <td>0</td>\n",
       "    </tr>\n",
       "    <tr>\n",
       "      <th>4</th>\n",
       "      <td>23</td>\n",
       "      <td>0</td>\n",
       "      <td>0</td>\n",
       "      <td>0</td>\n",
       "      <td>0</td>\n",
       "      <td>0</td>\n",
       "      <td>0</td>\n",
       "      <td>0</td>\n",
       "      <td>0</td>\n",
       "      <td>0</td>\n",
       "      <td>...</td>\n",
       "      <td>0</td>\n",
       "      <td>0</td>\n",
       "      <td>0</td>\n",
       "      <td>0</td>\n",
       "      <td>0</td>\n",
       "      <td>0</td>\n",
       "      <td>0</td>\n",
       "      <td>0</td>\n",
       "      <td>0</td>\n",
       "      <td>0</td>\n",
       "    </tr>\n",
       "  </tbody>\n",
       "</table>\n",
       "<p>5 rows × 785 columns</p>\n",
       "</div>"
      ],
      "text/plain": [
       "   0    1    2    3    4    5    6    7    8    9    ...  775  776  777  778  \\\n",
       "0   23    0    0    0    0    0    0    0    0    0  ...    0    0    0    0   \n",
       "1    7    0    0    0    0    0    0    0    0    0  ...    0    0    0    0   \n",
       "2   16    0    0    0    0    0    0    0    0    0  ...    0    0    0    0   \n",
       "3   15    0    0    0    0    0    0    0    0    0  ...    0    0    0    0   \n",
       "4   23    0    0    0    0    0    0    0    0    0  ...    0    0    0    0   \n",
       "\n",
       "   779  780  781  782  783  784  \n",
       "0    0    0    0    0    0    0  \n",
       "1    0    0    0    0    0    0  \n",
       "2    0    0    0    0    0    0  \n",
       "3    0    0    0    0    0    0  \n",
       "4    0    0    0    0    0    0  \n",
       "\n",
       "[5 rows x 785 columns]"
      ]
     },
     "execution_count": 9,
     "metadata": {},
     "output_type": "execute_result"
    }
   ],
   "source": [
    "emnist_train_data.head(5)\n",
    "# 28x28=784 pixel grayscale images - 0-column = 26 labels for each letter of the alphabet"
   ]
  },
  {
   "cell_type": "code",
   "execution_count": 10,
   "id": "6040175a-fb47-4bfe-8bba-2b72536f11dc",
   "metadata": {},
   "outputs": [
    {
     "data": {
      "text/html": [
       "<div>\n",
       "<style scoped>\n",
       "    .dataframe tbody tr th:only-of-type {\n",
       "        vertical-align: middle;\n",
       "    }\n",
       "\n",
       "    .dataframe tbody tr th {\n",
       "        vertical-align: top;\n",
       "    }\n",
       "\n",
       "    .dataframe thead th {\n",
       "        text-align: right;\n",
       "    }\n",
       "</style>\n",
       "<table border=\"1\" class=\"dataframe\">\n",
       "  <thead>\n",
       "    <tr style=\"text-align: right;\">\n",
       "      <th></th>\n",
       "      <th>0</th>\n",
       "      <th>1</th>\n",
       "      <th>2</th>\n",
       "      <th>3</th>\n",
       "      <th>4</th>\n",
       "      <th>5</th>\n",
       "      <th>6</th>\n",
       "      <th>7</th>\n",
       "      <th>8</th>\n",
       "      <th>9</th>\n",
       "      <th>...</th>\n",
       "      <th>775</th>\n",
       "      <th>776</th>\n",
       "      <th>777</th>\n",
       "      <th>778</th>\n",
       "      <th>779</th>\n",
       "      <th>780</th>\n",
       "      <th>781</th>\n",
       "      <th>782</th>\n",
       "      <th>783</th>\n",
       "      <th>784</th>\n",
       "    </tr>\n",
       "  </thead>\n",
       "  <tbody>\n",
       "    <tr>\n",
       "      <th>3612</th>\n",
       "      <td>5</td>\n",
       "      <td>0</td>\n",
       "      <td>0</td>\n",
       "      <td>0</td>\n",
       "      <td>0</td>\n",
       "      <td>0</td>\n",
       "      <td>0</td>\n",
       "      <td>0</td>\n",
       "      <td>0</td>\n",
       "      <td>0</td>\n",
       "      <td>...</td>\n",
       "      <td>0</td>\n",
       "      <td>0</td>\n",
       "      <td>0</td>\n",
       "      <td>0</td>\n",
       "      <td>0</td>\n",
       "      <td>0</td>\n",
       "      <td>0</td>\n",
       "      <td>0</td>\n",
       "      <td>0</td>\n",
       "      <td>0</td>\n",
       "    </tr>\n",
       "    <tr>\n",
       "      <th>3820</th>\n",
       "      <td>5</td>\n",
       "      <td>0</td>\n",
       "      <td>0</td>\n",
       "      <td>0</td>\n",
       "      <td>0</td>\n",
       "      <td>0</td>\n",
       "      <td>0</td>\n",
       "      <td>0</td>\n",
       "      <td>0</td>\n",
       "      <td>0</td>\n",
       "      <td>...</td>\n",
       "      <td>0</td>\n",
       "      <td>0</td>\n",
       "      <td>0</td>\n",
       "      <td>0</td>\n",
       "      <td>0</td>\n",
       "      <td>0</td>\n",
       "      <td>0</td>\n",
       "      <td>0</td>\n",
       "      <td>0</td>\n",
       "      <td>0</td>\n",
       "    </tr>\n",
       "    <tr>\n",
       "      <th>6736</th>\n",
       "      <td>9</td>\n",
       "      <td>0</td>\n",
       "      <td>0</td>\n",
       "      <td>0</td>\n",
       "      <td>0</td>\n",
       "      <td>0</td>\n",
       "      <td>0</td>\n",
       "      <td>0</td>\n",
       "      <td>0</td>\n",
       "      <td>0</td>\n",
       "      <td>...</td>\n",
       "      <td>0</td>\n",
       "      <td>0</td>\n",
       "      <td>0</td>\n",
       "      <td>0</td>\n",
       "      <td>0</td>\n",
       "      <td>0</td>\n",
       "      <td>0</td>\n",
       "      <td>0</td>\n",
       "      <td>0</td>\n",
       "      <td>0</td>\n",
       "    </tr>\n",
       "    <tr>\n",
       "      <th>8176</th>\n",
       "      <td>11</td>\n",
       "      <td>0</td>\n",
       "      <td>0</td>\n",
       "      <td>0</td>\n",
       "      <td>0</td>\n",
       "      <td>0</td>\n",
       "      <td>0</td>\n",
       "      <td>0</td>\n",
       "      <td>0</td>\n",
       "      <td>0</td>\n",
       "      <td>...</td>\n",
       "      <td>0</td>\n",
       "      <td>0</td>\n",
       "      <td>0</td>\n",
       "      <td>0</td>\n",
       "      <td>0</td>\n",
       "      <td>0</td>\n",
       "      <td>0</td>\n",
       "      <td>0</td>\n",
       "      <td>0</td>\n",
       "      <td>0</td>\n",
       "    </tr>\n",
       "    <tr>\n",
       "      <th>5293</th>\n",
       "      <td>7</td>\n",
       "      <td>0</td>\n",
       "      <td>0</td>\n",
       "      <td>0</td>\n",
       "      <td>0</td>\n",
       "      <td>0</td>\n",
       "      <td>0</td>\n",
       "      <td>0</td>\n",
       "      <td>0</td>\n",
       "      <td>0</td>\n",
       "      <td>...</td>\n",
       "      <td>0</td>\n",
       "      <td>0</td>\n",
       "      <td>0</td>\n",
       "      <td>0</td>\n",
       "      <td>0</td>\n",
       "      <td>0</td>\n",
       "      <td>0</td>\n",
       "      <td>0</td>\n",
       "      <td>0</td>\n",
       "      <td>0</td>\n",
       "    </tr>\n",
       "  </tbody>\n",
       "</table>\n",
       "<p>5 rows × 785 columns</p>\n",
       "</div>"
      ],
      "text/plain": [
       "      0    1    2    3    4    5    6    7    8    9    ...  775  776  777  \\\n",
       "3612    5    0    0    0    0    0    0    0    0    0  ...    0    0    0   \n",
       "3820    5    0    0    0    0    0    0    0    0    0  ...    0    0    0   \n",
       "6736    9    0    0    0    0    0    0    0    0    0  ...    0    0    0   \n",
       "8176   11    0    0    0    0    0    0    0    0    0  ...    0    0    0   \n",
       "5293    7    0    0    0    0    0    0    0    0    0  ...    0    0    0   \n",
       "\n",
       "      778  779  780  781  782  783  784  \n",
       "3612    0    0    0    0    0    0    0  \n",
       "3820    0    0    0    0    0    0    0  \n",
       "6736    0    0    0    0    0    0    0  \n",
       "8176    0    0    0    0    0    0    0  \n",
       "5293    0    0    0    0    0    0    0  \n",
       "\n",
       "[5 rows x 785 columns]"
      ]
     },
     "execution_count": 10,
     "metadata": {},
     "output_type": "execute_result"
    }
   ],
   "source": [
    "emnist_test_data.tail(5)"
   ]
  },
  {
   "cell_type": "code",
   "execution_count": 11,
   "id": "a655f467-5017-4d33-865a-75c2a28f9ed9",
   "metadata": {},
   "outputs": [
    {
     "data": {
      "text/html": [
       "<div>\n",
       "<style scoped>\n",
       "    .dataframe tbody tr th:only-of-type {\n",
       "        vertical-align: middle;\n",
       "    }\n",
       "\n",
       "    .dataframe tbody tr th {\n",
       "        vertical-align: top;\n",
       "    }\n",
       "\n",
       "    .dataframe thead th {\n",
       "        text-align: right;\n",
       "    }\n",
       "</style>\n",
       "<table border=\"1\" class=\"dataframe\">\n",
       "  <thead>\n",
       "    <tr style=\"text-align: right;\">\n",
       "      <th></th>\n",
       "      <th>0</th>\n",
       "      <th>1</th>\n",
       "      <th>2</th>\n",
       "      <th>3</th>\n",
       "      <th>4</th>\n",
       "      <th>5</th>\n",
       "      <th>6</th>\n",
       "      <th>7</th>\n",
       "      <th>8</th>\n",
       "      <th>9</th>\n",
       "      <th>...</th>\n",
       "      <th>775</th>\n",
       "      <th>776</th>\n",
       "      <th>777</th>\n",
       "      <th>778</th>\n",
       "      <th>779</th>\n",
       "      <th>780</th>\n",
       "      <th>781</th>\n",
       "      <th>782</th>\n",
       "      <th>783</th>\n",
       "      <th>784</th>\n",
       "    </tr>\n",
       "  </thead>\n",
       "  <tbody>\n",
       "    <tr>\n",
       "      <th>count</th>\n",
       "      <td>88800.000000</td>\n",
       "      <td>88800.0</td>\n",
       "      <td>88800.0</td>\n",
       "      <td>88800.0</td>\n",
       "      <td>88800.000000</td>\n",
       "      <td>88800.000000</td>\n",
       "      <td>88800.000000</td>\n",
       "      <td>88800.000000</td>\n",
       "      <td>88800.000000</td>\n",
       "      <td>88800.000000</td>\n",
       "      <td>...</td>\n",
       "      <td>88800.0</td>\n",
       "      <td>88800.0</td>\n",
       "      <td>88800.0</td>\n",
       "      <td>88800.000000</td>\n",
       "      <td>88800.000000</td>\n",
       "      <td>88800.0</td>\n",
       "      <td>88800.0</td>\n",
       "      <td>88800.0</td>\n",
       "      <td>88800.0</td>\n",
       "      <td>88800.0</td>\n",
       "    </tr>\n",
       "    <tr>\n",
       "      <th>mean</th>\n",
       "      <td>13.519268</td>\n",
       "      <td>0.0</td>\n",
       "      <td>0.0</td>\n",
       "      <td>0.0</td>\n",
       "      <td>0.000011</td>\n",
       "      <td>0.003986</td>\n",
       "      <td>0.016757</td>\n",
       "      <td>0.024640</td>\n",
       "      <td>0.021486</td>\n",
       "      <td>0.017140</td>\n",
       "      <td>...</td>\n",
       "      <td>0.0</td>\n",
       "      <td>0.0</td>\n",
       "      <td>0.0</td>\n",
       "      <td>0.003041</td>\n",
       "      <td>0.000360</td>\n",
       "      <td>0.0</td>\n",
       "      <td>0.0</td>\n",
       "      <td>0.0</td>\n",
       "      <td>0.0</td>\n",
       "      <td>0.0</td>\n",
       "    </tr>\n",
       "    <tr>\n",
       "      <th>std</th>\n",
       "      <td>7.502931</td>\n",
       "      <td>0.0</td>\n",
       "      <td>0.0</td>\n",
       "      <td>0.0</td>\n",
       "      <td>0.003356</td>\n",
       "      <td>0.544039</td>\n",
       "      <td>1.547686</td>\n",
       "      <td>1.915976</td>\n",
       "      <td>1.803270</td>\n",
       "      <td>1.620194</td>\n",
       "      <td>...</td>\n",
       "      <td>0.0</td>\n",
       "      <td>0.0</td>\n",
       "      <td>0.0</td>\n",
       "      <td>0.823445</td>\n",
       "      <td>0.107385</td>\n",
       "      <td>0.0</td>\n",
       "      <td>0.0</td>\n",
       "      <td>0.0</td>\n",
       "      <td>0.0</td>\n",
       "      <td>0.0</td>\n",
       "    </tr>\n",
       "    <tr>\n",
       "      <th>min</th>\n",
       "      <td>1.000000</td>\n",
       "      <td>0.0</td>\n",
       "      <td>0.0</td>\n",
       "      <td>0.0</td>\n",
       "      <td>0.000000</td>\n",
       "      <td>0.000000</td>\n",
       "      <td>0.000000</td>\n",
       "      <td>0.000000</td>\n",
       "      <td>0.000000</td>\n",
       "      <td>0.000000</td>\n",
       "      <td>...</td>\n",
       "      <td>0.0</td>\n",
       "      <td>0.0</td>\n",
       "      <td>0.0</td>\n",
       "      <td>0.000000</td>\n",
       "      <td>0.000000</td>\n",
       "      <td>0.0</td>\n",
       "      <td>0.0</td>\n",
       "      <td>0.0</td>\n",
       "      <td>0.0</td>\n",
       "      <td>0.0</td>\n",
       "    </tr>\n",
       "    <tr>\n",
       "      <th>25%</th>\n",
       "      <td>7.000000</td>\n",
       "      <td>0.0</td>\n",
       "      <td>0.0</td>\n",
       "      <td>0.0</td>\n",
       "      <td>0.000000</td>\n",
       "      <td>0.000000</td>\n",
       "      <td>0.000000</td>\n",
       "      <td>0.000000</td>\n",
       "      <td>0.000000</td>\n",
       "      <td>0.000000</td>\n",
       "      <td>...</td>\n",
       "      <td>0.0</td>\n",
       "      <td>0.0</td>\n",
       "      <td>0.0</td>\n",
       "      <td>0.000000</td>\n",
       "      <td>0.000000</td>\n",
       "      <td>0.0</td>\n",
       "      <td>0.0</td>\n",
       "      <td>0.0</td>\n",
       "      <td>0.0</td>\n",
       "      <td>0.0</td>\n",
       "    </tr>\n",
       "    <tr>\n",
       "      <th>50%</th>\n",
       "      <td>14.000000</td>\n",
       "      <td>0.0</td>\n",
       "      <td>0.0</td>\n",
       "      <td>0.0</td>\n",
       "      <td>0.000000</td>\n",
       "      <td>0.000000</td>\n",
       "      <td>0.000000</td>\n",
       "      <td>0.000000</td>\n",
       "      <td>0.000000</td>\n",
       "      <td>0.000000</td>\n",
       "      <td>...</td>\n",
       "      <td>0.0</td>\n",
       "      <td>0.0</td>\n",
       "      <td>0.0</td>\n",
       "      <td>0.000000</td>\n",
       "      <td>0.000000</td>\n",
       "      <td>0.0</td>\n",
       "      <td>0.0</td>\n",
       "      <td>0.0</td>\n",
       "      <td>0.0</td>\n",
       "      <td>0.0</td>\n",
       "    </tr>\n",
       "    <tr>\n",
       "      <th>75%</th>\n",
       "      <td>20.000000</td>\n",
       "      <td>0.0</td>\n",
       "      <td>0.0</td>\n",
       "      <td>0.0</td>\n",
       "      <td>0.000000</td>\n",
       "      <td>0.000000</td>\n",
       "      <td>0.000000</td>\n",
       "      <td>0.000000</td>\n",
       "      <td>0.000000</td>\n",
       "      <td>0.000000</td>\n",
       "      <td>...</td>\n",
       "      <td>0.0</td>\n",
       "      <td>0.0</td>\n",
       "      <td>0.0</td>\n",
       "      <td>0.000000</td>\n",
       "      <td>0.000000</td>\n",
       "      <td>0.0</td>\n",
       "      <td>0.0</td>\n",
       "      <td>0.0</td>\n",
       "      <td>0.0</td>\n",
       "      <td>0.0</td>\n",
       "    </tr>\n",
       "    <tr>\n",
       "      <th>max</th>\n",
       "      <td>26.000000</td>\n",
       "      <td>0.0</td>\n",
       "      <td>0.0</td>\n",
       "      <td>0.0</td>\n",
       "      <td>1.000000</td>\n",
       "      <td>107.000000</td>\n",
       "      <td>213.000000</td>\n",
       "      <td>217.000000</td>\n",
       "      <td>214.000000</td>\n",
       "      <td>216.000000</td>\n",
       "      <td>...</td>\n",
       "      <td>0.0</td>\n",
       "      <td>0.0</td>\n",
       "      <td>0.0</td>\n",
       "      <td>244.000000</td>\n",
       "      <td>32.000000</td>\n",
       "      <td>0.0</td>\n",
       "      <td>0.0</td>\n",
       "      <td>0.0</td>\n",
       "      <td>0.0</td>\n",
       "      <td>0.0</td>\n",
       "    </tr>\n",
       "  </tbody>\n",
       "</table>\n",
       "<p>8 rows × 785 columns</p>\n",
       "</div>"
      ],
      "text/plain": [
       "                0        1        2        3             4             5    \\\n",
       "count  88800.000000  88800.0  88800.0  88800.0  88800.000000  88800.000000   \n",
       "mean      13.519268      0.0      0.0      0.0      0.000011      0.003986   \n",
       "std        7.502931      0.0      0.0      0.0      0.003356      0.544039   \n",
       "min        1.000000      0.0      0.0      0.0      0.000000      0.000000   \n",
       "25%        7.000000      0.0      0.0      0.0      0.000000      0.000000   \n",
       "50%       14.000000      0.0      0.0      0.0      0.000000      0.000000   \n",
       "75%       20.000000      0.0      0.0      0.0      0.000000      0.000000   \n",
       "max       26.000000      0.0      0.0      0.0      1.000000    107.000000   \n",
       "\n",
       "                6             7             8             9    ...      775  \\\n",
       "count  88800.000000  88800.000000  88800.000000  88800.000000  ...  88800.0   \n",
       "mean       0.016757      0.024640      0.021486      0.017140  ...      0.0   \n",
       "std        1.547686      1.915976      1.803270      1.620194  ...      0.0   \n",
       "min        0.000000      0.000000      0.000000      0.000000  ...      0.0   \n",
       "25%        0.000000      0.000000      0.000000      0.000000  ...      0.0   \n",
       "50%        0.000000      0.000000      0.000000      0.000000  ...      0.0   \n",
       "75%        0.000000      0.000000      0.000000      0.000000  ...      0.0   \n",
       "max      213.000000    217.000000    214.000000    216.000000  ...      0.0   \n",
       "\n",
       "           776      777           778           779      780      781  \\\n",
       "count  88800.0  88800.0  88800.000000  88800.000000  88800.0  88800.0   \n",
       "mean       0.0      0.0      0.003041      0.000360      0.0      0.0   \n",
       "std        0.0      0.0      0.823445      0.107385      0.0      0.0   \n",
       "min        0.0      0.0      0.000000      0.000000      0.0      0.0   \n",
       "25%        0.0      0.0      0.000000      0.000000      0.0      0.0   \n",
       "50%        0.0      0.0      0.000000      0.000000      0.0      0.0   \n",
       "75%        0.0      0.0      0.000000      0.000000      0.0      0.0   \n",
       "max        0.0      0.0    244.000000     32.000000      0.0      0.0   \n",
       "\n",
       "           782      783      784  \n",
       "count  88800.0  88800.0  88800.0  \n",
       "mean       0.0      0.0      0.0  \n",
       "std        0.0      0.0      0.0  \n",
       "min        0.0      0.0      0.0  \n",
       "25%        0.0      0.0      0.0  \n",
       "50%        0.0      0.0      0.0  \n",
       "75%        0.0      0.0      0.0  \n",
       "max        0.0      0.0      0.0  \n",
       "\n",
       "[8 rows x 785 columns]"
      ]
     },
     "execution_count": 11,
     "metadata": {},
     "output_type": "execute_result"
    }
   ],
   "source": [
    "emnist_train_data.describe()\n",
    "# 88800 images with labels between 1-26"
   ]
  },
  {
   "cell_type": "code",
   "execution_count": 12,
   "id": "d37fc136-394f-4c6b-87a5-802c6de47060",
   "metadata": {},
   "outputs": [],
   "source": [
    "# extract labels\n",
    "train_labels = emnist_train_data.values[:, 0]\n",
    "train_images = emnist_train_data.values[:, 1:]"
   ]
  },
  {
   "cell_type": "code",
   "execution_count": 13,
   "id": "41790cda-8f52-4509-9c8a-e5497a3477dd",
   "metadata": {},
   "outputs": [],
   "source": [
    "# reshape image to the original 28x28 shape\n",
    "train_images = train_images.reshape(-1, 28, 28)"
   ]
  },
  {
   "cell_type": "code",
   "execution_count": 14,
   "id": "d3164014-fb3a-4fb5-bca3-53c16be864db",
   "metadata": {},
   "outputs": [],
   "source": [
    "sample_images = np.random.randint(0, len(train_images), 16)"
   ]
  },
  {
   "cell_type": "code",
   "execution_count": 15,
   "id": "7550ebbf-86d8-4e52-b42e-7dd34b7b9754",
   "metadata": {
    "scrolled": true
   },
   "outputs": [
    {
     "data": {
      "image/png": "[encoded data removed]",
      "text/plain": [
       "<Figure size 800x800 with 16 Axes>"
      ]
     },
     "metadata": {},
     "output_type": "display_data"
    }
   ],
   "source": [
    "fig = plt.figure(figsize = (8, 8))\n",
    "\n",
    "for i, idx in enumerate(sample_images):\n",
    "    plt.subplot(4, 4, i+1)\n",
    "    plt.imshow(train_images[idx] / 255.0, cmap=\"gray\")\n",
    "    plt.title(classes[int(train_labels[idx] - 1)])\n",
    "    plt.axis('off')\n",
    "\n",
    "plt.tight_layout()\n",
    "plt.show()"
   ]
  },
  {
   "cell_type": "markdown",
   "id": "efd760ea-d6c2-416e-83e9-56ebbc52fa39",
   "metadata": {},
   "source": [
    "## Create the MLFlow Experiment"
   ]
  },
  {
   "cell_type": "code",
   "execution_count": 16,
   "id": "0e7aeb58-48ee-4d2b-aa69-c7427d445daf",
   "metadata": {},
   "outputs": [
    {
     "data": {
      "text/plain": [
       "<Experiment: artifact_location='file:///opt/app/notebooks/mlruns/188486067793059070', creation_time=1708772450020, experiment_id='188486067793059070', last_update_time=1708772450020, lifecycle_stage='active', name='emnist_classifier_dnn', tags={}>"
      ]
     },
     "execution_count": 16,
     "metadata": {},
     "output_type": "execute_result"
    }
   ],
   "source": [
    "experiment_name = \"emnist_classifier_dnn\"\n",
    "mlflow.create_experiment(experiment_name)\n",
    "mlflow.set_experiment(experiment_name)"
   ]
  },
  {
   "cell_type": "code",
   "execution_count": 17,
   "id": "02bae5db-fba4-45d3-bdfa-1596301f70c1",
   "metadata": {},
   "outputs": [
    {
     "name": "stdout",
     "output_type": "stream",
     "text": [
      "Name: emnist_classifier_dnn\n",
      "ID: 188486067793059070\n",
      "Artifacts: file:///opt/app/notebooks/mlruns/188486067793059070\n",
      "Tags: {}\n",
      "Stage: active\n",
      "Updated: 1708772450020\n",
      "Created: 1708772450020\n"
     ]
    }
   ],
   "source": [
    "experiment = mlflow.get_experiment_by_name(experiment_name)\n",
    "\n",
    "print(\"Name: {}\".format(experiment.name))\n",
    "print(\"ID: {}\".format(experiment.experiment_id))\n",
    "print(\"Artifacts: {}\".format(experiment.artifact_location))\n",
    "print(\"Tags: {}\".format(experiment.tags))\n",
    "print(\"Stage: {}\".format(experiment.lifecycle_stage))\n",
    "print(\"Updated: {}\".format(experiment.last_update_time))\n",
    "print(\"Created: {}\".format(experiment.creation_time))"
   ]
  },
  {
   "cell_type": "markdown",
   "id": "58e59c90-986c-410b-88c6-4128d0bdf29d",
   "metadata": {},
   "source": [
    "### MLFlow Run"
   ]
  },
  {
   "cell_type": "code",
   "execution_count": 18,
   "id": "3ee228c3-f0fb-4380-8bd0-34b7da5e0d42",
   "metadata": {},
   "outputs": [],
   "source": [
    "dataset_info = \"\"\"\n",
    "The EMNIST dataset is a set of handwritten character digits derived from the NIST Special Database 19  and converted to a 28x28 pixel\n",
    "image format and dataset structure that directly matches the MNIST dataset . Further information on the dataset contents and conversion\n",
    "process can be found in the paper available at https://arxiv.org/abs/1702.05373v1\n",
    "\"\"\"\n",
    "\n",
    "with open(\"dataset_info.txt\", \"w\") as f:\n",
    "    f.write(dataset_info)"
   ]
  },
  {
   "cell_type": "code",
   "execution_count": 19,
   "id": "de4f7169-c8da-429c-911c-e717bf79544d",
   "metadata": {},
   "outputs": [],
   "source": [
    "with mlflow.start_run(run_name = 'emnist_classifier_dnn_test_run') as current_run:\n",
    "    mlflow.log_metric('Accuracy', 0.67)\n",
    "\n",
    "    params = {\n",
    "        'num_nn_layers': 4\n",
    "    }\n",
    "    \n",
    "    mlflow.log_params(params)\n",
    "    mlflow.log_figure(fig, 'sample_images.jpg')\n",
    "    mlflow.log_artifact('dataset_info.txt')\n",
    "    mlflow.set_tag('EMNIST', 'Character Classification')"
   ]
  },
  {
   "cell_type": "markdown",
   "id": "fbf52dc2-151f-459f-a509-bf7e92647ae6",
   "metadata": {},
   "source": [
    "### Train Test Split"
   ]
  },
  {
   "cell_type": "code",
   "execution_count": 20,
   "id": "c107178e-9bd9-4057-8e38-97974bc41629",
   "metadata": {},
   "outputs": [],
   "source": [
    "class EMNISTDataset(Dataset):\n",
    "    def __init__(self, dataframe):\n",
    "        self.images = torch.tensor(dataframe.iloc[:, 1:].values, dtype=torch.float32)\n",
    "        self.labels = torch.tensor(dataframe.iloc[:, 0].values, dtype=torch.float32)\n",
    "\n",
    "    def __len__(self):\n",
    "        return len(self.images)\n",
    "\n",
    "    def __getitem__(self, idx):\n",
    "        images = self.images[idx]\n",
    "        images = images / 255.0\n",
    "        labels = self.labels[idx]\n",
    "\n",
    "        return images, labels"
   ]
  },
  {
   "cell_type": "code",
   "execution_count": 21,
   "id": "f484dd81-d539-4534-97cb-75909c1e055b",
   "metadata": {},
   "outputs": [
    {
     "data": {
      "text/plain": [
       "(88800, 14800)"
      ]
     },
     "execution_count": 21,
     "metadata": {},
     "output_type": "execute_result"
    }
   ],
   "source": [
    "train_dataset = EMNISTDataset(emnist_train_data)\n",
    "test_dataset = EMNISTDataset(emnist_test_data)\n",
    "\n",
    "len(train_dataset), len(test_dataset)"
   ]
  },
  {
   "cell_type": "code",
   "execution_count": 22,
   "id": "21946634-1b1e-44c9-8a53-01ad399086f6",
   "metadata": {},
   "outputs": [
    {
     "name": "stdout",
     "output_type": "stream",
     "text": [
      "79920 8880\n"
     ]
    }
   ],
   "source": [
    "val_percent = 0.1\n",
    "val_len = int(val_percent * len(train_dataset))\n",
    "\n",
    "train, val = random_split(train_dataset, [len(train_dataset) - val_len, val_len])\n",
    "print(len(train), len(val))"
   ]
  },
  {
   "cell_type": "markdown",
   "id": "7948b748-c4d6-4a05-886b-c0e74b0bf84c",
   "metadata": {},
   "source": [
    "### Data Loaders"
   ]
  },
  {
   "cell_type": "code",
   "execution_count": 23,
   "id": "a2ce7fc5-7d70-4f61-b337-57a1b7481c98",
   "metadata": {},
   "outputs": [
    {
     "name": "stdout",
     "output_type": "stream",
     "text": [
      "1248 139 232\n"
     ]
    }
   ],
   "source": [
    "train_dl = DataLoader(train, BATCH_SIZE, shuffle=True, drop_last=True, num_workers=1)\n",
    "val_dl = DataLoader(val, BATCH_SIZE, num_workers=1)\n",
    "test_dl = DataLoader(test_dataset, BATCH_SIZE, num_workers=1)\n",
    "\n",
    "print(len(train_dl), len(val_dl), len(test_dl))"
   ]
  },
  {
   "cell_type": "code",
   "execution_count": 24,
   "id": "4f2f7884-46ab-4699-8ac1-7e26bd5b3b2d",
   "metadata": {},
   "outputs": [
    {
     "name": "stdout",
     "output_type": "stream",
     "text": [
      "torch.Size([64, 784]) 64\n"
     ]
    }
   ],
   "source": [
    "dataiter = iter(train_dl)\n",
    "batch_images, batch_labels = next(dataiter)\n",
    "\n",
    "print(batch_images.shape, len(batch_labels))\n",
    "# each batch consists of 64 28x28=784 pixel images with 64 corresponding labels)"
   ]
  },
  {
   "cell_type": "markdown",
   "id": "c0e1e603-96c3-4f7e-b7d8-b516d65fb82a",
   "metadata": {},
   "source": [
    "## DNN Model Training"
   ]
  },
  {
   "cell_type": "code",
   "execution_count": 25,
   "id": "48e55caf-3fdb-4569-9dcc-5e355c643d88",
   "metadata": {},
   "outputs": [],
   "source": [
    "class EmnistModel(pl.LightningModule):\n",
    "    def __init__(self):\n",
    "        super().__init__()\n",
    "        self.criterion = nn.CrossEntropyLoss()\n",
    "\n",
    "        self.linear1 = nn.Linear(INPUT_SIZE, 512)\n",
    "        self.linear2 = nn.Linear(512, 128)\n",
    "        self.linear3 = nn.Linear(128, 32)\n",
    "        self.linear4 = nn.Linear(32, OUTPUT_SIZE)\n",
    "\n",
    "    def forward(self, xb):\n",
    "        out = self.linear1(xb)\n",
    "        out = F.relu(out)\n",
    "\n",
    "        out = self.linear2(out)\n",
    "        out = F.relu(out)\n",
    "\n",
    "        out = self.linear3(out)\n",
    "        out = F.relu(out)\n",
    "\n",
    "        out = self.linear4(out)\n",
    "        return out\n",
    "\n",
    "    def configure_optimizers(self):\n",
    "        return optim.Adam(self.parameters(), lr = 0.0001)\n",
    "\n",
    "    def training_step(self, batch, batch_idx):\n",
    "        # batches consists of images and labels\n",
    "        x, y = batch\n",
    "        # labels start at 1 but the classes at 0\n",
    "        y -= 1\n",
    "\n",
    "        y_hat = self(x)\n",
    "        loss = self.criterion(y_hat, y.long())\n",
    "        pred = y_hat.argmax(dim = 1)\n",
    "\n",
    "        acc = accuracy(pred, y, task=\"multiclass\", num_classes=26)\n",
    "\n",
    "        self.log(\"train_loss\", loss, on_epoch=True, prog_bar=True)\n",
    "        self.log(\"train_acc\", acc, on_epoch=True, prog_bar=True)\n",
    "\n",
    "        return loss\n",
    "\n",
    "    def validation_step(self, batch, batch_idx):\n",
    "        x, y = batch\n",
    "        y -= 1\n",
    "\n",
    "        y_hat = self(x)\n",
    "        loss = self.criterion(y_hat, y.long())\n",
    "        pred = y_hat.argmax(dim=1)\n",
    "\n",
    "        acc = accuracy(pred, y, task=\"multiclass\", num_classes=26)\n",
    "        \n",
    "        self.log(\"val_loss\", loss, on_epoch=True, prog_bar=True)\n",
    "        self.log(\"val_acc\", acc, on_epoch=True, prog_bar=True)\n",
    "\n",
    "        return acc\n",
    "\n",
    "    def test_step(self, batch, batch_idx):\n",
    "        x, y = batch\n",
    "        y -= 1\n",
    "\n",
    "        y_hat = self(x)\n",
    "        loss = self.criterion(y_hat, y.long())\n",
    "        pred = y_hat.argmax(dim=1)\n",
    "\n",
    "        acc = accuracy(pred, y, task=\"multiclass\", num_classes=26)\n",
    "        \n",
    "        self.log(\"test_loss\", loss, on_epoch=True, prog_bar=True)\n",
    "        self.log(\"test_acc\", acc, on_epoch=True, prog_bar=True)\n",
    "\n",
    "        return acc\n",
    "\n",
    "    def predict_step(self, batch, batch_idx, dataloaders_idx=0):\n",
    "        x, y = batch\n",
    "        return self(x)"
   ]
  },
  {
   "cell_type": "code",
   "execution_count": 26,
   "id": "cf0c0f90-d083-4094-9c39-8b65f6917d36",
   "metadata": {},
   "outputs": [
    {
     "name": "stderr",
     "output_type": "stream",
     "text": [
      "GPU available: True (cuda), used: True\n",
      "TPU available: False, using: 0 TPU cores\n",
      "IPU available: False, using: 0 IPUs\n",
      "HPU available: False, using: 0 HPUs\n",
      "2024/02/24 11:01:05 WARNING mlflow.utils.autologging_utils: You are using an unsupported version of pytorch. If you encounter errors during autologging, try upgrading / downgrading pytorch to a supported version, or try upgrading MLflow.\n"
     ]
    }
   ],
   "source": [
    "emnist_model = EmnistModel()\n",
    "logger = CSVLogger(\"logs\", name=\"emnist_classifier_dnn\")\n",
    "trainer = pl.Trainer(max_epochs = 10, logger=logger)\n",
    "mlflow.pytorch.autolog(log_models = False)"
   ]
  },
  {
   "cell_type": "code",
   "execution_count": 28,
   "id": "54f45c73-675c-4cfc-8de5-ba1c0c7958d5",
   "metadata": {},
   "outputs": [
    {
     "name": "stderr",
     "output_type": "stream",
     "text": [
      "2024/02/24 11:01:27 WARNING mlflow.utils.autologging_utils: MLflow autologging encountered a warning: \"/opt/conda/lib/python3.10/site-packages/mlflow/pytorch/_lightning_autolog.py:356: UserWarning: Autologging is known to be compatible with pytorch-lightning versions between 1.4.9 and 2.1.3 and may not succeed with packages outside this range.\"\n",
      "Missing logger folder: logs/emnist_classifier_dnn\n",
      "LOCAL_RANK: 0 - CUDA_VISIBLE_DEVICES: [0]\n",
      "\n",
      "  | Name      | Type             | Params\n",
      "-----------------------------------------------\n",
      "0 | criterion | CrossEntropyLoss | 0     \n",
      "1 | linear1   | Linear           | 401 K \n",
      "2 | linear2   | Linear           | 65.7 K\n",
      "3 | linear3   | Linear           | 4.1 K \n",
      "4 | linear4   | Linear           | 858   \n",
      "-----------------------------------------------\n",
      "472 K     Trainable params\n",
      "0         Non-trainable params\n",
      "472 K     Total params\n",
      "1.890     Total estimated model params size (MB)\n"
     ]
    },
    {
     "data": {
      "application/vnd.jupyter.widget-view+json": {
       "model_id": "",
       "version_major": 2,
       "version_minor": 0
      },
      "text/plain": [
       "Sanity Checking: |                                                                            | 0/? [00:00<?, …"
      ]
     },
     "metadata": {},
     "output_type": "display_data"
    },
    {
     "name": "stderr",
     "output_type": "stream",
     "text": [
      "/opt/conda/lib/python3.10/site-packages/pytorch_lightning/trainer/connectors/data_connector.py:441: The 'val_dataloader' does not have many workers which may be a bottleneck. Consider increasing the value of the `num_workers` argument` to `num_workers=7` in the `DataLoader` to improve performance.\n",
      "/opt/conda/lib/python3.10/site-packages/pytorch_lightning/trainer/connectors/data_connector.py:441: The 'train_dataloader' does not have many workers which may be a bottleneck. Consider increasing the value of the `num_workers` argument` to `num_workers=7` in the `DataLoader` to improve performance.\n"
     ]
    },
    {
     "data": {
      "application/vnd.jupyter.widget-view+json": {
       "model_id": "5e502fc2842c4e8486f7aaa5eed50fbd",
       "version_major": 2,
       "version_minor": 0
      },
      "text/plain": [
       "Training: |                                                                                   | 0/? [00:00<?, …"
      ]
     },
     "metadata": {},
     "output_type": "display_data"
    },
    {
     "data": {
      "application/vnd.jupyter.widget-view+json": {
       "model_id": "",
       "version_major": 2,
       "version_minor": 0
      },
      "text/plain": [
       "Validation: |                                                                                 | 0/? [00:00<?, …"
      ]
     },
     "metadata": {},
     "output_type": "display_data"
    },
    {
     "data": {
      "application/vnd.jupyter.widget-view+json": {
       "model_id": "",
       "version_major": 2,
       "version_minor": 0
      },
      "text/plain": [
       "Validation: |                                                                                 | 0/? [00:00<?, …"
      ]
     },
     "metadata": {},
     "output_type": "display_data"
    },
    {
     "data": {
      "application/vnd.jupyter.widget-view+json": {
       "model_id": "",
       "version_major": 2,
       "version_minor": 0
      },
      "text/plain": [
       "Validation: |                                                                                 | 0/? [00:00<?, …"
      ]
     },
     "metadata": {},
     "output_type": "display_data"
    },
    {
     "data": {
      "application/vnd.jupyter.widget-view+json": {
       "model_id": "",
       "version_major": 2,
       "version_minor": 0
      },
      "text/plain": [
       "Validation: |                                                                                 | 0/? [00:00<?, …"
      ]
     },
     "metadata": {},
     "output_type": "display_data"
    },
    {
     "data": {
      "application/vnd.jupyter.widget-view+json": {
       "model_id": "",
       "version_major": 2,
       "version_minor": 0
      },
      "text/plain": [
       "Validation: |                                                                                 | 0/? [00:00<?, …"
      ]
     },
     "metadata": {},
     "output_type": "display_data"
    },
    {
     "data": {
      "application/vnd.jupyter.widget-view+json": {
       "model_id": "",
       "version_major": 2,
       "version_minor": 0
      },
      "text/plain": [
       "Validation: |                                                                                 | 0/? [00:00<?, …"
      ]
     },
     "metadata": {},
     "output_type": "display_data"
    },
    {
     "data": {
      "application/vnd.jupyter.widget-view+json": {
       "model_id": "",
       "version_major": 2,
       "version_minor": 0
      },
      "text/plain": [
       "Validation: |                                                                                 | 0/? [00:00<?, …"
      ]
     },
     "metadata": {},
     "output_type": "display_data"
    },
    {
     "data": {
      "application/vnd.jupyter.widget-view+json": {
       "model_id": "",
       "version_major": 2,
       "version_minor": 0
      },
      "text/plain": [
       "Validation: |                                                                                 | 0/? [00:00<?, …"
      ]
     },
     "metadata": {},
     "output_type": "display_data"
    },
    {
     "data": {
      "application/vnd.jupyter.widget-view+json": {
       "model_id": "",
       "version_major": 2,
       "version_minor": 0
      },
      "text/plain": [
       "Validation: |                                                                                 | 0/? [00:00<?, …"
      ]
     },
     "metadata": {},
     "output_type": "display_data"
    },
    {
     "data": {
      "application/vnd.jupyter.widget-view+json": {
       "model_id": "",
       "version_major": 2,
       "version_minor": 0
      },
      "text/plain": [
       "Validation: |                                                                                 | 0/? [00:00<?, …"
      ]
     },
     "metadata": {},
     "output_type": "display_data"
    },
    {
     "name": "stderr",
     "output_type": "stream",
     "text": [
      "`Trainer.fit` stopped: `max_epochs=10` reached.\n",
      "/opt/conda/lib/python3.10/site-packages/pytorch_lightning/trainer/connectors/checkpoint_connector.py:145: `.test(ckpt_path=None)` was called without a model. The best model of the previous `fit` call will be used. You can pass `.test(ckpt_path='best')` to use the best model or `.test(ckpt_path='last')` to use the last model. If you pass a value, this warning will be silenced.\n",
      "Restoring states from the checkpoint path at logs/emnist_classifier_dnn/version_0/checkpoints/epoch=9-step=12480.ckpt\n",
      "LOCAL_RANK: 0 - CUDA_VISIBLE_DEVICES: [0]\n",
      "Loaded model weights from the checkpoint at logs/emnist_classifier_dnn/version_0/checkpoints/epoch=9-step=12480.ckpt\n",
      "/opt/conda/lib/python3.10/site-packages/pytorch_lightning/trainer/connectors/data_connector.py:441: The 'test_dataloader' does not have many workers which may be a bottleneck. Consider increasing the value of the `num_workers` argument` to `num_workers=7` in the `DataLoader` to improve performance.\n"
     ]
    },
    {
     "data": {
      "application/vnd.jupyter.widget-view+json": {
       "model_id": "48f791f27ec543d4810a6174f87d8cee",
       "version_major": 2,
       "version_minor": 0
      },
      "text/plain": [
       "Testing: |                                                                                    | 0/? [00:00<?, …"
      ]
     },
     "metadata": {},
     "output_type": "display_data"
    },
    {
     "name": "stdout",
     "output_type": "stream",
     "text": [
      "────────────────────────────────────────────────────────────────────────────────────────────────────────────────────────\n",
      "       Test metric             DataLoader 0\n",
      "────────────────────────────────────────────────────────────────────────────────────────────────────────────────────────\n",
      "        test_acc            0.8519594669342041\n",
      "        test_loss           0.4712047874927521\n",
      "────────────────────────────────────────────────────────────────────────────────────────────────────────────────────────\n"
     ]
    }
   ],
   "source": [
    "with mlflow.start_run() as run:\n",
    "    trainer.fit(emnist_model, train_dl, val_dl)\n",
    "    trainer.test(dataloaders = test_dl)\n",
    "\n",
    "    input_schema = Schema([TensorSpec(np.dtype(np.float32), (-1, 784))])\n",
    "    output_schema = Schema([TensorSpec(np.dtype(np.float32), (-1, 26))])\n",
    "\n",
    "    signature = ModelSignature(inputs = input_schema, outputs = output_schema)\n",
    "\n",
    "    mlflow.pytorch.log_model(emnist_model, \"emnist_classifier_dnn\", signature = signature)\n",
    "\n",
    "# ────────────────────────────────────────────────────────────────────────────────────────────────────────────────────────\n",
    "#        Test metric             DataLoader 0\n",
    "# ────────────────────────────────────────────────────────────────────────────────────────────────────────────────────────\n",
    "#         test_acc            0.8519594669342041\n",
    "#         test_loss           0.4712047874927521\n",
    "# ────────────────────────────────────────────────────────────────────────────────────────────────────────────────────────"
   ]
  },
  {
   "cell_type": "markdown",
   "id": "ccf6ff10-a91e-4b36-b30c-7fe4eac04fcb",
   "metadata": {},
   "source": [
    "## DNN Model Evaluation"
   ]
  },
  {
   "cell_type": "code",
   "execution_count": 32,
   "id": "a97e13df-8a17-41b5-abe0-7d3161432d26",
   "metadata": {},
   "outputs": [
    {
     "data": {
      "text/html": [
       "<div>\n",
       "<style scoped>\n",
       "    .dataframe tbody tr th:only-of-type {\n",
       "        vertical-align: middle;\n",
       "    }\n",
       "\n",
       "    .dataframe tbody tr th {\n",
       "        vertical-align: top;\n",
       "    }\n",
       "\n",
       "    .dataframe thead th {\n",
       "        text-align: right;\n",
       "    }\n",
       "</style>\n",
       "<table border=\"1\" class=\"dataframe\">\n",
       "  <thead>\n",
       "    <tr style=\"text-align: right;\">\n",
       "      <th></th>\n",
       "      <th>epoch</th>\n",
       "      <th>step</th>\n",
       "      <th>test_acc</th>\n",
       "      <th>test_loss</th>\n",
       "      <th>train_acc_epoch</th>\n",
       "      <th>train_acc_step</th>\n",
       "      <th>train_loss_epoch</th>\n",
       "      <th>train_loss_step</th>\n",
       "      <th>val_acc</th>\n",
       "      <th>val_loss</th>\n",
       "    </tr>\n",
       "  </thead>\n",
       "  <tbody>\n",
       "    <tr>\n",
       "      <th>0</th>\n",
       "      <td>0</td>\n",
       "      <td>49</td>\n",
       "      <td>NaN</td>\n",
       "      <td>NaN</td>\n",
       "      <td>NaN</td>\n",
       "      <td>0.093750</td>\n",
       "      <td>NaN</td>\n",
       "      <td>3.196841</td>\n",
       "      <td>NaN</td>\n",
       "      <td>NaN</td>\n",
       "    </tr>\n",
       "    <tr>\n",
       "      <th>1</th>\n",
       "      <td>0</td>\n",
       "      <td>99</td>\n",
       "      <td>NaN</td>\n",
       "      <td>NaN</td>\n",
       "      <td>NaN</td>\n",
       "      <td>0.203125</td>\n",
       "      <td>NaN</td>\n",
       "      <td>3.049770</td>\n",
       "      <td>NaN</td>\n",
       "      <td>NaN</td>\n",
       "    </tr>\n",
       "    <tr>\n",
       "      <th>2</th>\n",
       "      <td>0</td>\n",
       "      <td>149</td>\n",
       "      <td>NaN</td>\n",
       "      <td>NaN</td>\n",
       "      <td>NaN</td>\n",
       "      <td>0.312500</td>\n",
       "      <td>NaN</td>\n",
       "      <td>2.749519</td>\n",
       "      <td>NaN</td>\n",
       "      <td>NaN</td>\n",
       "    </tr>\n",
       "    <tr>\n",
       "      <th>3</th>\n",
       "      <td>0</td>\n",
       "      <td>199</td>\n",
       "      <td>NaN</td>\n",
       "      <td>NaN</td>\n",
       "      <td>NaN</td>\n",
       "      <td>0.312500</td>\n",
       "      <td>NaN</td>\n",
       "      <td>2.501953</td>\n",
       "      <td>NaN</td>\n",
       "      <td>NaN</td>\n",
       "    </tr>\n",
       "    <tr>\n",
       "      <th>4</th>\n",
       "      <td>0</td>\n",
       "      <td>249</td>\n",
       "      <td>NaN</td>\n",
       "      <td>NaN</td>\n",
       "      <td>NaN</td>\n",
       "      <td>0.421875</td>\n",
       "      <td>NaN</td>\n",
       "      <td>2.326618</td>\n",
       "      <td>NaN</td>\n",
       "      <td>NaN</td>\n",
       "    </tr>\n",
       "    <tr>\n",
       "      <th>...</th>\n",
       "      <td>...</td>\n",
       "      <td>...</td>\n",
       "      <td>...</td>\n",
       "      <td>...</td>\n",
       "      <td>...</td>\n",
       "      <td>...</td>\n",
       "      <td>...</td>\n",
       "      <td>...</td>\n",
       "      <td>...</td>\n",
       "      <td>...</td>\n",
       "    </tr>\n",
       "    <tr>\n",
       "      <th>265</th>\n",
       "      <td>9</td>\n",
       "      <td>12399</td>\n",
       "      <td>NaN</td>\n",
       "      <td>NaN</td>\n",
       "      <td>NaN</td>\n",
       "      <td>0.906250</td>\n",
       "      <td>NaN</td>\n",
       "      <td>0.315365</td>\n",
       "      <td>NaN</td>\n",
       "      <td>NaN</td>\n",
       "    </tr>\n",
       "    <tr>\n",
       "      <th>266</th>\n",
       "      <td>9</td>\n",
       "      <td>12449</td>\n",
       "      <td>NaN</td>\n",
       "      <td>NaN</td>\n",
       "      <td>NaN</td>\n",
       "      <td>0.875000</td>\n",
       "      <td>NaN</td>\n",
       "      <td>0.296436</td>\n",
       "      <td>NaN</td>\n",
       "      <td>NaN</td>\n",
       "    </tr>\n",
       "    <tr>\n",
       "      <th>267</th>\n",
       "      <td>9</td>\n",
       "      <td>12479</td>\n",
       "      <td>NaN</td>\n",
       "      <td>NaN</td>\n",
       "      <td>NaN</td>\n",
       "      <td>NaN</td>\n",
       "      <td>NaN</td>\n",
       "      <td>NaN</td>\n",
       "      <td>0.869369</td>\n",
       "      <td>0.427438</td>\n",
       "    </tr>\n",
       "    <tr>\n",
       "      <th>268</th>\n",
       "      <td>9</td>\n",
       "      <td>12479</td>\n",
       "      <td>NaN</td>\n",
       "      <td>NaN</td>\n",
       "      <td>0.878831</td>\n",
       "      <td>NaN</td>\n",
       "      <td>0.393668</td>\n",
       "      <td>NaN</td>\n",
       "      <td>NaN</td>\n",
       "      <td>NaN</td>\n",
       "    </tr>\n",
       "    <tr>\n",
       "      <th>269</th>\n",
       "      <td>10</td>\n",
       "      <td>12480</td>\n",
       "      <td>0.851959</td>\n",
       "      <td>0.471205</td>\n",
       "      <td>NaN</td>\n",
       "      <td>NaN</td>\n",
       "      <td>NaN</td>\n",
       "      <td>NaN</td>\n",
       "      <td>NaN</td>\n",
       "      <td>NaN</td>\n",
       "    </tr>\n",
       "  </tbody>\n",
       "</table>\n",
       "<p>270 rows × 10 columns</p>\n",
       "</div>"
      ],
      "text/plain": [
       "     epoch   step  test_acc  test_loss  train_acc_epoch  train_acc_step  \\\n",
       "0        0     49       NaN        NaN              NaN        0.093750   \n",
       "1        0     99       NaN        NaN              NaN        0.203125   \n",
       "2        0    149       NaN        NaN              NaN        0.312500   \n",
       "3        0    199       NaN        NaN              NaN        0.312500   \n",
       "4        0    249       NaN        NaN              NaN        0.421875   \n",
       "..     ...    ...       ...        ...              ...             ...   \n",
       "265      9  12399       NaN        NaN              NaN        0.906250   \n",
       "266      9  12449       NaN        NaN              NaN        0.875000   \n",
       "267      9  12479       NaN        NaN              NaN             NaN   \n",
       "268      9  12479       NaN        NaN         0.878831             NaN   \n",
       "269     10  12480  0.851959   0.471205              NaN             NaN   \n",
       "\n",
       "     train_loss_epoch  train_loss_step   val_acc  val_loss  \n",
       "0                 NaN         3.196841       NaN       NaN  \n",
       "1                 NaN         3.049770       NaN       NaN  \n",
       "2                 NaN         2.749519       NaN       NaN  \n",
       "3                 NaN         2.501953       NaN       NaN  \n",
       "4                 NaN         2.326618       NaN       NaN  \n",
       "..                ...              ...       ...       ...  \n",
       "265               NaN         0.315365       NaN       NaN  \n",
       "266               NaN         0.296436       NaN       NaN  \n",
       "267               NaN              NaN  0.869369  0.427438  \n",
       "268          0.393668              NaN       NaN       NaN  \n",
       "269               NaN              NaN       NaN       NaN  \n",
       "\n",
       "[270 rows x 10 columns]"
      ]
     },
     "execution_count": 32,
     "metadata": {},
     "output_type": "execute_result"
    }
   ],
   "source": [
    "metrics = pd.read_csv(f\"{trainer.logger.log_dir}/metrics.csv\")\n",
    "metrics"
   ]
  },
  {
   "cell_type": "code",
   "execution_count": 34,
   "id": "d07fe534-aaf1-4b07-9212-1c35356bca82",
   "metadata": {},
   "outputs": [
    {
     "data": {
      "text/plain": [
       "<Axes: xlabel='epoch'>"
      ]
     },
     "execution_count": 34,
     "metadata": {},
     "output_type": "execute_result"
    },
    {
     "data": {
      "image/png": "[encoded data removed]",
      "text/plain": [
       "<Figure size 640x480 with 1 Axes>"
      ]
     },
     "metadata": {},
     "output_type": "display_data"
    }
   ],
   "source": [
    "metrics.set_index(\"epoch\", inplace=True)\n",
    "metrics.drop(columns=['step', 'train_loss_step',\n",
    "                      'train_acc_step', 'test_acc', 'test_loss'], inplace=True)\n",
    "sns.lineplot(data=metrics)"
   ]
  },
  {
   "cell_type": "markdown",
   "id": "2a798483-07ff-4dc3-8345-ad8347b7d4a8",
   "metadata": {},
   "source": [
    "### DNN Model Prediction"
   ]
  },
  {
   "cell_type": "code",
   "execution_count": 72,
   "id": "25c3f8df-581b-48da-9477-8d08f5930dba",
   "metadata": {},
   "outputs": [],
   "source": [
    "run_id = mlflow.last_active_run().info.run_id"
   ]
  },
  {
   "cell_type": "code",
   "execution_count": 73,
   "id": "05f29c02-1bba-4c7f-8e89-f4a01d0d1e81",
   "metadata": {},
   "outputs": [
    {
     "data": {
      "text/plain": [
       "(torch.Size([64, 784]), torch.Size([64]))"
      ]
     },
     "execution_count": 73,
     "metadata": {},
     "output_type": "execute_result"
    }
   ],
   "source": [
    "# get a test batch of images\n",
    "test_dataiter = iter(test_dl)\n",
    "test_images, test_labels = next(test_dataiter)\n",
    "test_images.shape, test_labels.shape"
   ]
  },
  {
   "cell_type": "code",
   "execution_count": 74,
   "id": "bca8a404-53f4-488e-a679-1afd4abef666",
   "metadata": {},
   "outputs": [],
   "source": [
    "model_path = f\"runs:/{run_id}/emnist_classifier_dnn\"\n",
    "loaded_model = mlflow.pyfunc.load_model(model_path)"
   ]
  },
  {
   "cell_type": "code",
   "execution_count": 76,
   "id": "47f7f649-d11b-46d8-ad86-de7de4e44bf4",
   "metadata": {},
   "outputs": [
    {
     "data": {
      "text/plain": [
       "array([[ -1.6826886 ,  10.770611  ,  -5.4036117 ,   5.1765246 ,\n",
       "         -2.6077387 ,  -1.9200826 ,   2.373778  ,   5.2585273 ,\n",
       "          0.3091326 ,  -0.64922315,   2.50735   ,   1.5971591 ,\n",
       "        -13.177171  ,  -4.226968  ,  -5.1098003 ,  -4.3791833 ,\n",
       "          2.1347053 ,  -1.708756  ,   2.6252825 ,  -1.729482  ,\n",
       "         -3.1101046 ,  -4.089718  ,   0.18128592,   2.6147778 ,\n",
       "         -1.7666149 ,  -1.339035  ]], dtype=float32)"
      ]
     },
     "execution_count": 76,
     "metadata": {},
     "output_type": "execute_result"
    }
   ],
   "source": [
    "predictions = loaded_model.predict(test_images.numpy())\n",
    "predictions[:1]\n",
    "# returns prediction probabilities for all 26 classes for the first image"
   ]
  },
  {
   "cell_type": "code",
   "execution_count": 77,
   "id": "bda094b7-a0d7-4f4b-aa01-b6721a795abc",
   "metadata": {},
   "outputs": [
    {
     "name": "stdout",
     "output_type": "stream",
     "text": [
      "Class Index: 1\n",
      "Class: b\n"
     ]
    }
   ],
   "source": [
    "# get true label of the test image at position 0\n",
    "print(\"Class Index:\", int(test_labels[0].item() - 1))\n",
    "print(\"Class:\", classes[int(test_labels[0].item()) - 1])"
   ]
  },
  {
   "cell_type": "code",
   "execution_count": 78,
   "id": "be217412-b8bd-426a-b2ec-c8cfd5409a56",
   "metadata": {},
   "outputs": [
    {
     "name": "stdout",
     "output_type": "stream",
     "text": [
      "Class Index: 1\n",
      "Class: b\n"
     ]
    }
   ],
   "source": [
    "# get predicted label of the test image at position 0\n",
    "print(\"Class Index:\", np.argmax(predictions[0]))\n",
    "print(\"Class:\", classes[np.argmax(predictions[0])])"
   ]
  },
  {
   "cell_type": "code",
   "execution_count": 79,
   "id": "0402ad46-17f4-43b9-bb8d-907945aeff4b",
   "metadata": {},
   "outputs": [],
   "source": [
    "# reshape image to the original 28x28 shape\n",
    "# test_images_reshaped = test_images.reshape(-1, 28, 28)\n",
    "test_samples = np.random.randint(0, len(test_images), 16)"
   ]
  },
  {
   "cell_type": "code",
   "execution_count": 69,
   "id": "10d9faa8-364d-4fdd-8dcf-f964566d3b43",
   "metadata": {},
   "outputs": [
    {
     "data": {
      "image/png": "[encoded data removed]",
      "text/plain": [
       "<Figure size 800x800 with 16 Axes>"
      ]
     },
     "metadata": {},
     "output_type": "display_data"
    }
   ],
   "source": [
    "fig = plt.figure(figsize = (8, 8))\n",
    "\n",
    "for i, idx in enumerate(test_samples):\n",
    "    true_label = classes[int(test_labels[idx].item()) - 1]\n",
    "    pred_label = classes[np.argmax(predictions[idx])]\n",
    "    \n",
    "    plt.subplot(4, 4, i+1)\n",
    "    plt.imshow(test_images[idx] / 255.0, cmap=\"gray\")\n",
    "    plt.title(f\"True: {true_label} || Pred: {pred_label}\")\n",
    "    plt.axis('off')\n",
    "\n",
    "plt.tight_layout()\n",
    "plt.show()"
   ]
  },
  {
   "cell_type": "markdown",
   "id": "8d3d8f2d-dbbe-4e06-ad71-c7487b3a04ca",
   "metadata": {},
   "source": [
    "### Confusion"
   ]
  },
  {
   "cell_type": "code",
   "execution_count": 82,
   "id": "fe2d571d-9750-4300-8bf1-a464cfce19fb",
   "metadata": {},
   "outputs": [],
   "source": [
    "y_pred = []\n",
    "y_true = []"
   ]
  },
  {
   "cell_type": "code",
   "execution_count": 83,
   "id": "2e471f6a-d329-4e46-a1e6-8784b7caec88",
   "metadata": {},
   "outputs": [],
   "source": [
    "for inputs, labels in test_dl:\n",
    "    output = loaded_model.predict(inputs.numpy())\n",
    "\n",
    "    output = np.argmax(output, axis=1).astype('float64').tolist()\n",
    "    y_pred.extend(output)\n",
    "\n",
    "    labels = [x-1 for x in labels.tolist()]\n",
    "    y_true.extend(labels)"
   ]
  },
  {
   "cell_type": "code",
   "execution_count": 84,
   "id": "f5b4483a-63b1-4496-8b85-a5e26a081528",
   "metadata": {},
   "outputs": [
    {
     "data": {
      "text/plain": [
       "0.8519594594594595"
      ]
     },
     "execution_count": 84,
     "metadata": {},
     "output_type": "execute_result"
    }
   ],
   "source": [
    "acc = accuracy_score(y_true, y_pred)\n",
    "acc"
   ]
  },
  {
   "cell_type": "code",
   "execution_count": 86,
   "id": "91d91161-e749-4b14-9d94-a237a636d4db",
   "metadata": {},
   "outputs": [
    {
     "data": {
      "text/plain": [
       "<sklearn.metrics._plot.confusion_matrix.ConfusionMatrixDisplay at 0x7feac12f3850>"
      ]
     },
     "execution_count": 86,
     "metadata": {},
     "output_type": "execute_result"
    },
    {
     "data": {
      "image/png": "[encoded data removed]",
      "text/plain": [
       "<Figure size 1200x800 with 2 Axes>"
      ]
     },
     "metadata": {},
     "output_type": "display_data"
    }
   ],
   "source": [
    "cm = confusion_matrix(y_true, y_pred)\n",
    "confusion = ConfusionMatrixDisplay(cm, display_labels=classes)\n",
    "\n",
    "fig, ax = plt.subplots(figsize = (12,8))\n",
    "confusion.plot(ax = ax)"
   ]
  },
  {
   "cell_type": "code",
   "execution_count": null,
   "id": "f6f52e39-9d82-42c4-a2a5-a014cb5a44a2",
   "metadata": {},
   "outputs": [],
   "source": []
  }
 ],
 "metadata": {
  "kernelspec": {
   "display_name": "Python 3 (ipykernel)",
   "language": "python",
   "name": "python3"
  },
  "language_info": {
   "codemirror_mode": {
    "name": "ipython",
    "version": 3
   },
   "file_extension": ".py",
   "mimetype": "text/x-python",
   "name": "python",
   "nbconvert_exporter": "python",
   "pygments_lexer": "ipython3",
   "version": "3.10.13"
  }
 },
 "nbformat": 4,
 "nbformat_minor": 5
}
